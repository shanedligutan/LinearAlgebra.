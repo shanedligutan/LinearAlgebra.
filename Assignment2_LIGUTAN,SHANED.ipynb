{
  "nbformat": 4,
  "nbformat_minor": 0,
  "metadata": {
    "colab": {
      "name": "Assignment2_LIGUTAN, SHANED.ipynb",
      "provenance": [],
      "collapsed_sections": [],
      "toc_visible": true,
      "authorship_tag": "ABX9TyNWJCeTOdd3yvCmKztTzgI2",
      "include_colab_link": true
    },
    "kernelspec": {
      "name": "python3",
      "display_name": "Python 3"
    },
    "language_info": {
      "name": "python"
    }
  },
  "cells": [
    {
      "cell_type": "markdown",
      "metadata": {
        "id": "view-in-github",
        "colab_type": "text"
      },
      "source": [
        "<a href=\"https://colab.research.google.com/github/shanedligutan/LinearAlgebra./blob/main/Assignment2_LIGUTAN%2CSHANED.ipynb\" target=\"_parent\"><img src=\"https://colab.research.google.com/assets/colab-badge.svg\" alt=\"Open In Colab\"/></a>"
      ]
    },
    {
      "cell_type": "markdown",
      "metadata": {
        "id": "LTCO0bnM10UL"
      },
      "source": [
        "# **Welcome to Python Fundamentals**\n",
        "\n",
        "---\n",
        "\n",
        "\n",
        "In this module, we are going to establish our skills in Python programming. In this notebook we are going to cover:\n",
        "\n",
        "*   Variables and Data Types\n",
        "*   Operations\n",
        "*   Input and Output Operations\n",
        "*   Logic Control\n",
        "*   Iterables \n",
        "*   Functions\n",
        "\n",
        "\n",
        "\n",
        "\n",
        "\n",
        "\n",
        "\n"
      ]
    },
    {
      "cell_type": "markdown",
      "metadata": {
        "id": "xSXq3UnY2rRI"
      },
      "source": [
        "#Variables and Data Types \n"
      ]
    },
    {
      "cell_type": "code",
      "metadata": {
        "colab": {
          "base_uri": "https://localhost:8080/"
        },
        "id": "Kw_CMT2n4OMD",
        "outputId": "cfce736a-5ba9-4640-c9bc-a4e582b7e7b6"
      },
      "source": [
        "s,t,u =\"1\",'3', 'three'\n",
        "type(u)"
      ],
      "execution_count": null,
      "outputs": [
        {
          "output_type": "execute_result",
          "data": {
            "text/plain": [
              "str"
            ]
          },
          "metadata": {},
          "execution_count": 1
        }
      ]
    },
    {
      "cell_type": "markdown",
      "metadata": {
        "id": "9ZANRzp97lVE"
      },
      "source": [
        "We defined s,t,u to three different data types. Variables and data types are the values that vary. A variable is made when a new value was assigned to it. Data types varies according to the properties they possess. [1]\n",
        "##Data types in Python\n",
        "![python.png](data:image/png;base64,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)\n",
        "\n",
        "> *Figure 1: Data Types in Python*\n",
        "\n",
        "\n",
        "\n",
        "\n",
        "\n",
        "\n",
        "\n",
        "\n",
        "\n",
        "\n",
        "\n",
        "\n",
        "\n",
        "\n",
        "\n",
        "\n",
        "\n"
      ]
    },
    {
      "cell_type": "code",
      "metadata": {
        "id": "vU6SNVuR1zTk"
      },
      "source": [
        "x=1\n",
        "a, b = 3, -2\n"
      ],
      "execution_count": null,
      "outputs": []
    },
    {
      "cell_type": "markdown",
      "metadata": {
        "id": "L_c2fJISAfEQ"
      },
      "source": [
        "Integers are used to represent whole number values. The declared value will always be an integer as long as the value is a whole number. [1]"
      ]
    },
    {
      "cell_type": "code",
      "metadata": {
        "colab": {
          "base_uri": "https://localhost:8080/"
        },
        "id": "KsemDWqs366D",
        "outputId": "ef6eccf7-2f5a-4355-c21b-1928249bc8a7"
      },
      "source": [
        "x=float(x)\n",
        "type(x)\n",
        "x"
      ],
      "execution_count": null,
      "outputs": [
        {
          "output_type": "execute_result",
          "data": {
            "text/plain": [
              "1.0"
            ]
          },
          "metadata": {},
          "execution_count": 3
        }
      ]
    },
    {
      "cell_type": "code",
      "metadata": {
        "colab": {
          "base_uri": "https://localhost:8080/"
        },
        "id": "NqttMrle3lgx",
        "outputId": "5286c52d-d0b9-4f08-c76f-83e56195a15d"
      },
      "source": [
        "y=3.0\n",
        "type(y)"
      ],
      "execution_count": null,
      "outputs": [
        {
          "output_type": "execute_result",
          "data": {
            "text/plain": [
              "float"
            ]
          },
          "metadata": {},
          "execution_count": 4
        }
      ]
    },
    {
      "cell_type": "code",
      "metadata": {
        "colab": {
          "base_uri": "https://localhost:8080/"
        },
        "id": "ONJAxmBh3fit",
        "outputId": "722567e9-7379-4204-bfc0-98b8ad958467"
      },
      "source": [
        "type(x)"
      ],
      "execution_count": null,
      "outputs": [
        {
          "output_type": "execute_result",
          "data": {
            "text/plain": [
              "float"
            ]
          },
          "metadata": {},
          "execution_count": 5
        }
      ]
    },
    {
      "cell_type": "markdown",
      "metadata": {
        "id": "WU0yDiCfBFZx"
      },
      "source": [
        "Float data types represent decimal values. [1] \n",
        "We declared the new data type of x as a float, therefore 1.0 is the float value of x. "
      ]
    },
    {
      "cell_type": "markdown",
      "metadata": {
        "id": "s9z8bc-v4vX1"
      },
      "source": [
        "#Operations\n",
        ">Operators are used to perform operations on different variables and values. It also carry out logical computations and are special symbols in Python.  [2]\n"
      ]
    },
    {
      "cell_type": "markdown",
      "metadata": {
        "id": "7r2oKYpy40kS"
      },
      "source": [
        "###Arithmetic"
      ]
    },
    {
      "cell_type": "markdown",
      "metadata": {
        "id": "ayyo9_vlD5dY"
      },
      "source": [
        ">Arithmetic Operators use numeric values to perform mathematical operations. [2] :\n",
        "\n",
        "![plee.jpg](data:image/jpeg;base64,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)\n",
        ">*Fig 2: Arithmetic Operators*"
      ]
    },
    {
      "cell_type": "code",
      "metadata": {
        "id": "TXEKl1St44zA"
      },
      "source": [
        "w,x,y,z=4,-3.0,1,-32"
      ],
      "execution_count": null,
      "outputs": []
    },
    {
      "cell_type": "markdown",
      "metadata": {
        "id": "4TgGovS0dd15"
      },
      "source": [
        ">We declared w,x,y,z to different mathematical values."
      ]
    },
    {
      "cell_type": "code",
      "metadata": {
        "colab": {
          "base_uri": "https://localhost:8080/"
        },
        "id": "PDiBgqFy5zo8",
        "outputId": "d99105eb-170f-42b0-c6ba-ba6d939e8845"
      },
      "source": [
        "#Division = We declared the value for y = 1 and x = -3.0, Q= 1/-3.0 = -0.33. Therefore, Q is equal to -0.33.\n",
        "Q=y/x\n",
        "Q"
      ],
      "execution_count": null,
      "outputs": [
        {
          "output_type": "execute_result",
          "data": {
            "text/plain": [
              "-0.3333333333333333"
            ]
          },
          "metadata": {},
          "execution_count": 11
        }
      ]
    },
    {
      "cell_type": "code",
      "metadata": {
        "colab": {
          "base_uri": "https://localhost:8080/"
        },
        "id": "mDc5C96s6Vzb",
        "outputId": "d3549e06-f51a-440a-9527-405c1f9caf8e"
      },
      "source": [
        "#Floor Division = Floor division is a normal division operation except that it returns the largest possible integer. [3]\n",
        "Qf = w//z\n",
        "Qf"
      ],
      "execution_count": null,
      "outputs": [
        {
          "output_type": "execute_result",
          "data": {
            "text/plain": [
              "-1"
            ]
          },
          "metadata": {},
          "execution_count": 12
        }
      ]
    },
    {
      "cell_type": "code",
      "metadata": {
        "colab": {
          "base_uri": "https://localhost:8080/"
        },
        "id": "xXQbIAKG7B4m",
        "outputId": "730effdb-711c-434a-f5e2-ffca30e07b2b"
      },
      "source": [
        "#Exponentiation = To program 1^4 we do w ** y . Therefore E is equal to 4.\n",
        "E=w**y\n",
        "E"
      ],
      "execution_count": null,
      "outputs": [
        {
          "output_type": "execute_result",
          "data": {
            "text/plain": [
              "4"
            ]
          },
          "metadata": {},
          "execution_count": 13
        }
      ]
    },
    {
      "cell_type": "code",
      "metadata": {
        "colab": {
          "base_uri": "https://localhost:8080/"
        },
        "id": "6arC8xfx7XLW",
        "outputId": "300a0aff-572b-450a-efd1-fae009fb80fe"
      },
      "source": [
        "#Modulo = It calculates the remainder of dividing two values. This operator is represented by the percentage sign (%).[4]\n",
        "mod =z%x\n",
        "mod"
      ],
      "execution_count": null,
      "outputs": [
        {
          "output_type": "execute_result",
          "data": {
            "text/plain": [
              "-2.0"
            ]
          },
          "metadata": {},
          "execution_count": 14
        }
      ]
    },
    {
      "cell_type": "code",
      "metadata": {
        "colab": {
          "base_uri": "https://localhost:8080/"
        },
        "id": "S6pGq6885nfx",
        "outputId": "31b2f03e-cbc4-42a6-9dfa-082a3070a8ba"
      },
      "source": [
        "###Multiplication = w*z is equal to 4 x -32. Therefore P is equal to -128.\n",
        "P= w*z\n",
        "P"
      ],
      "execution_count": null,
      "outputs": [
        {
          "output_type": "execute_result",
          "data": {
            "text/plain": [
              "-128"
            ]
          },
          "metadata": {},
          "execution_count": 15
        }
      ]
    },
    {
      "cell_type": "code",
      "metadata": {
        "colab": {
          "base_uri": "https://localhost:8080/"
        },
        "id": "e_TV_74B5cto",
        "outputId": "9f9305be-3e32-4d0a-afbe-4c66f37ca280"
      },
      "source": [
        "###Subtraction = y-z is equal to 1- (-32). Therefore D is equal to 33.\n",
        "D= y-z\n",
        "D\n"
      ],
      "execution_count": null,
      "outputs": [
        {
          "output_type": "execute_result",
          "data": {
            "text/plain": [
              "33"
            ]
          },
          "metadata": {},
          "execution_count": 16
        }
      ]
    },
    {
      "cell_type": "code",
      "metadata": {
        "colab": {
          "base_uri": "https://localhost:8080/",
          "height": 35
        },
        "id": "BpVjgr645Ink",
        "outputId": "622fdb93-04a2-4f48-dc0a-90dea75b5342"
      },
      "source": [
        "###Addition = w+x is equal to 4+ (-3.0). Therefore S is equal to 1.\n",
        "S = w+x\n",
        "s"
      ],
      "execution_count": null,
      "outputs": [
        {
          "output_type": "execute_result",
          "data": {
            "application/vnd.google.colaboratory.intrinsic+json": {
              "type": "string"
            },
            "text/plain": [
              "'1'"
            ]
          },
          "metadata": {},
          "execution_count": 17
        }
      ]
    },
    {
      "cell_type": "markdown",
      "metadata": {
        "id": "gU09N3tu7tVm"
      },
      "source": [
        "###Assignment"
      ]
    },
    {
      "cell_type": "markdown",
      "metadata": {
        "id": "2Qi5HfJ-FySH"
      },
      "source": [
        ">Assignment Operators are used to assign values to variables [2]:\n",
        "![plee2.jpg](data:image/jpeg;base64,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)\n",
        "\n",
        ">*Figure 3: Assignment Operators*"
      ]
    },
    {
      "cell_type": "code",
      "metadata": {
        "id": "xFWno72u7w7t"
      },
      "source": [
        "A,B,C,D,E = 0, 100,2,1,2"
      ],
      "execution_count": null,
      "outputs": []
    },
    {
      "cell_type": "code",
      "metadata": {
        "colab": {
          "base_uri": "https://localhost:8080/"
        },
        "id": "5G7m6yEA74Bm",
        "outputId": "3ccfe15f-42de-4bd0-e5ec-f1ff01332805"
      },
      "source": [
        "#A = 0 while w =4, A+=w is the same as A= A+w, which is equal to 4. \n",
        "A+=w\n",
        "A"
      ],
      "execution_count": null,
      "outputs": [
        {
          "output_type": "execute_result",
          "data": {
            "text/plain": [
              "4"
            ]
          },
          "metadata": {},
          "execution_count": 19
        }
      ]
    },
    {
      "cell_type": "code",
      "metadata": {
        "colab": {
          "base_uri": "https://localhost:8080/"
        },
        "id": "dZJDrPnW8OGH",
        "outputId": "f5f7c76d-cd80-42af-db2a-9c7215ce1774"
      },
      "source": [
        "#B = 100 while x = -3, B-=x is the same as B = B-w, which is equal to 103.\n",
        "B-=x \n",
        "B"
      ],
      "execution_count": null,
      "outputs": [
        {
          "output_type": "execute_result",
          "data": {
            "text/plain": [
              "103.0"
            ]
          },
          "metadata": {},
          "execution_count": 20
        }
      ]
    },
    {
      "cell_type": "code",
      "metadata": {
        "colab": {
          "base_uri": "https://localhost:8080/"
        },
        "id": "D5sTfSd08b69",
        "outputId": "34d35a27-2dca-4e73-88b2-24e4d6e5c033"
      },
      "source": [
        "#C = 2 while w = 4, C*=w is the same as C = C*w, which is equal to 8.\n",
        "C*=w\n",
        "C"
      ],
      "execution_count": null,
      "outputs": [
        {
          "output_type": "execute_result",
          "data": {
            "text/plain": [
              "8"
            ]
          },
          "metadata": {},
          "execution_count": 21
        }
      ]
    },
    {
      "cell_type": "code",
      "metadata": {
        "colab": {
          "base_uri": "https://localhost:8080/"
        },
        "id": "AtOeZGO99T0g",
        "outputId": "c4d5ba57-46ae-4f4a-cde6-f8f89f0d5502"
      },
      "source": [
        "#D = 1 while x = -3, D/=x is the same as D = D/x, which is equal to -0.33.\n",
        "D/=x\n",
        "D"
      ],
      "execution_count": null,
      "outputs": [
        {
          "output_type": "execute_result",
          "data": {
            "text/plain": [
              "-0.3333333333333333"
            ]
          },
          "metadata": {},
          "execution_count": 22
        }
      ]
    },
    {
      "cell_type": "code",
      "metadata": {
        "colab": {
          "base_uri": "https://localhost:8080/"
        },
        "id": "l4quRJ-T9eJm",
        "outputId": "7eeb2ad9-10e8-4fe3-b06c-3f841a3129f1"
      },
      "source": [
        "#E = 2 while y = 1, E**=y is the same as E= E**y, which is equal to 2.\n",
        "E**=y\n",
        "E"
      ],
      "execution_count": null,
      "outputs": [
        {
          "output_type": "execute_result",
          "data": {
            "text/plain": [
              "2"
            ]
          },
          "metadata": {},
          "execution_count": 23
        }
      ]
    },
    {
      "cell_type": "markdown",
      "metadata": {
        "id": "Bb7-5jKQ-MuP"
      },
      "source": [
        "###Comparators"
      ]
    },
    {
      "cell_type": "markdown",
      "metadata": {
        "id": "PNocc40AGxbH"
      },
      "source": [
        ">Comparison Operators compare values and return true or false. [2]:\n",
        "![plee3.jpg](data:image/jpeg;base64,/9j/4AAQSkZJRgABAQEAYABgAAD/4QAiRXhpZgAATU0AKgAAAAgAAQESAAMAAAABAAEAAAAAAAD/2wBDAAIBAQIBAQICAgICAgICAwUDAwMDAwYEBAMFBwYHBwcGBwcICQsJCAgKCAcHCg0KCgsMDAwMBwkODw0MDgsMDAz/2wBDAQICAgMDAwYDAwYMCAcIDAwMDAwMDAwMDAwMDAwMDAwMDAwMDAwMDAwMDAwMDAwMDAwMDAwMDAwMDAwMDAwMDAz/wAARCAD9AucDASIAAhEBAxEB/8QAHwAAAQUBAQEBAQEAAAAAAAAAAAECAwQFBgcICQoL/8QAtRAAAgEDAwIEAwUFBAQAAAF9AQIDAAQRBRIhMUEGE1FhByJxFDKBkaEII0KxwRVS0fAkM2JyggkKFhcYGRolJicoKSo0NTY3ODk6Q0RFRkdISUpTVFVWV1hZWmNkZWZnaGlqc3R1dnd4eXqDhIWGh4iJipKTlJWWl5iZmqKjpKWmp6ipqrKztLW2t7i5usLDxMXGx8jJytLT1NXW19jZ2uHi4+Tl5ufo6erx8vP09fb3+Pn6/8QAHwEAAwEBAQEBAQEBAQAAAAAAAAECAwQFBgcICQoL/8QAtREAAgECBAQDBAcFBAQAAQJ3AAECAxEEBSExBhJBUQdhcRMiMoEIFEKRobHBCSMzUvAVYnLRChYkNOEl8RcYGRomJygpKjU2Nzg5OkNERUZHSElKU1RVVldYWVpjZGVmZ2hpanN0dXZ3eHl6goOEhYaHiImKkpOUlZaXmJmaoqOkpaanqKmqsrO0tba3uLm6wsPExcbHyMnK0tPU1dbX2Nna4uPk5ebn6Onq8vP09fb3+Pn6/9oADAMBAAIRAxEAPwD94v8AhXHh7/oA6L/4BRf/ABNH/CuPD3/QB0X/AMAov/ia2q+ff+CmX7btx+wT+zL/AMJdpXh2PxZ4q1zXNO8LeHNJmuWtbe71K/uFgh86VUcpEmWdsKSwTaCCwImc+VLzaSXdtpJerbSRUY3+Sbfkkrt/JantH/CuPD3/AEAdF/8AAKL/AOJo/wCFceHv+gDov/gFF/8AE18kzft1fFD9k/8AbJ8C/Cf45HwB4ssvip4c1XV/D3iDwVo15orWd7pUBubywns7q8u/MV4CHiuBPENyFGiG4MD9mL/guR8Mf2m/EfwltU8G/E7wPpPxzs9TufBGt+JrTTYbDWn04Zu7fFvezzQyIA5BmiSNwh2O2V3acul1t3+cl+cJevK2rqzc+9ezTWl/VWTuvJJq/bVOzjK31t/wrjw9/wBAHRf/AACi/wDiaP8AhXHh7/oA6L/4BRf/ABNfLvwW/wCC0Pwv+OPxL+Hmj6f4f+IWmeGfjBdanZeAvGWpafaw6H4unsD++jgVblryEsFcxm6tYFkEbbSTtBxv2Zf+C4Pgv9rv4YeJfGPgn4R/Habw34X0i51e51XVtF07RdJmFteG2uIItSvL6KwaWJVa4fNwEWFGy4kUxCfLsm35Jb37W6p6mns5fil85NpW73aautNH2Z9d/wDCuPD3/QB0X/wCi/8AiaP+FceHv+gDov8A4BRf/E1+e3xv/wCDhLw/4i/YU+PfxC+Cnhm41nx18EBYDUNN1a60rVtMtkvMGG8e60zU5ba5tiFlQra3TzpImGjA5r3fUv8AgqXb+FYvh54f1D4Q/FXUvix4+0W58QReBdIXRZ9UtdOtVHnX8sp1IWSQMzKsafammcyKvl7gwWZSUZSjLRpRfyknJNd1yptvok3snaGmrX63X3OK17Xcopd7q26v9Jf8K48Pf9AHRf8AwCi/+Jo/4Vx4e/6AOi/+AUX/AMTXx74//wCC+PwZ8K+Afg74g8P+G/iz8SIfjlZ6tceGrHwf4YOpam0+mpm5s5bQyJMtwJMxAIroGVmZ0jHmV9keCfE3/Ca+DNI1n+z9U0n+1rKG9+w6lB9nvbLzEV/KnjydkqbtrLk4YEZOK2lTkk21s7P11VvwZHMk4p7yV16Xt+empD/wrjw9/wBAHRf/AACi/wDiaP8AhXHh7/oA6L/4BRf/ABNbVFZlGL/wrjw9/wBAHRf/AACi/wDiaP8AhXHh7/oA6L/4BRf/ABNbVFAGL/wrjw9/0AdF/wDAKL/4mj/hXHh7/oA6L/4BRf8AxNbVFAGL/wAK48Pf9AHRf/AKL/4mj/hXHh7/AKAOi/8AgFF/8TW1RQBi/wDCuPD3/QB0X/wCi/8AiaP+FceHv+gDov8A4BRf/E1tUUAYv/CuPD3/AEAdF/8AAKL/AOJo/wCFceHv+gDov/gFF/8AE1tUUAYv/CuPD3/QB0X/AMAov/iaP+FceHv+gDov/gFF/wDE1tUUAYv/AArjw9/0AdF/8Aov/iaP+FceHv8AoA6L/wCAUX/xNbVFAGL/AMK48Pf9AHRf/AKL/wCJo/4Vx4e/6AOi/wDgFF/8TW1RQBi/8K48Pf8AQB0X/wAAov8A4mj/AIVx4e/6AOi/+AUX/wATX5c6b/wXz+JHhv4q/tUeH/F3hfwNpun/AA+uPGGmfCrVIbO7EOtal4egNzPY6jm4O6V7aa3mXyvJDrDcgYIUD6J+MP8AwWb8P/slfsu/DD4gfFDwnqkkfjvwVaeKJrvSNd8OadbyTtbRzXNraWuqavbXtzJHvUiOCKY4ljUMznFC1pqr0ag9dNJqTjft8L38ns03pUozhWeH3knNWXeHLzW7/GtvPsz69/4Vx4e/6AOi/wDgFF/8TR/wrjw9/wBAHRf/AACi/wDia+V/iL/wWs+GvhH4g+GfDXh/wj8T/iFqHjD4Zj4s6Q/h7S7QRXWiZOWY3l1bmKURq0myUICAEDGVkia78BP+Cy3wt/aE+Ivw30PT9E+IGh6f8W/C174r8Ka9rmlw2Wm6rBZKjXkIBnNyksIcks8KwyBC0UsqFGZyi1KUZaON730tbnvftbkn/wCAtdDOXupN9bW/7e5Wvv542X95H03/AMK48Pf9AHRf/AKL/wCJo/4Vx4e/6AOi/wDgFF/8TXy/8Bf+Cz3wx/aA+K/w58O2Phv4haFo/wAZm1Zfh54q1iwtIdH8af2axE/2dUuXvIdyhpI/tltb+Yo45ZVb66pyhKKvJW3/AAdmn2ae6eqB6O39NbXT6q6eq00fYxf+FceHv+gDov8A4BRf/E0f8K48Pf8AQB0X/wAAov8A4mtqipAxf+FceHv+gDov/gFF/wDE0f8ACuPD3/QB0X/wCi/+JraooAxf+FceHv8AoA6L/wCAUX/xNH/CuPD3/QB0X/wCi/8Aia2qKAMX/hXHh7/oA6L/AOAUX/xNH/CuPD3/AEAdF/8AAKL/AOJraooAxf8AhXHh7/oA6L/4BRf/ABNH/CuPD3/QB0X/AMAov/ia2qKAMX/hXHh7/oA6L/4BRf8AxNH/AArjw9/0AdF/8Aov/ia2qKAMX/hXHh7/AKAOi/8AgFF/8TR/wrjw9/0AdF/8Aov/AImtqigDF/4Vx4e/6AOi/wDgFF/8TR/wrjw9/wBAHRf/AACi/wDia2qKAMX/AIVx4e/6AOi/+AUX/wATR/wrjw9/0AdF/wDAKL/4mtqigDF/4Vx4e/6AOi/+AUX/AMTR/wAK48Pf9AHRf/AKL/4mtqigDF/4Vx4e/wCgDov/AIBRf/E0f8K48Pf9AHRf/AKL/wCJraooAxf+FceHv+gDov8A4BRf/E0f8K48Pf8AQB0X/wAAov8A4mtqigDF/wCFceHv+gDov/gFF/8AE0f8K48Pf9AHRf8AwCi/+JraooAxf+FceHv+gDov/gFF/wDE0f8ACuPD3/QB0X/wCi/+JraooAxf+FceHv8AoA6L/wCAUX/xNH/CuPD3/QB0X/wCi/8Aia2qKAMX/hXHh7/oA6L/AOAUX/xNH/CuPD3/AEAdF/8AAKL/AOJraooAxf8AhXHh7/oA6L/4BRf/ABNH/CuPD3/QB0X/AMAov/ia+F/2uf8AgqF4o+Dn/BT29+CMnxW/Z5+Cfg20+Htn4uh8QfEbS5rqTUL2a+nt2tI2/tjT4uEjDgDc3yv1H3fUfjD/AMFZvAP7IeqWeh/FaXVYpJvBLeLdN8YabpkEfhvx20KwCa30hVvLiY3LPPGY7aQlisibZJAQ7LmXs1UezvbztzX2/wAD0er6Jh/y8dNbq348tvX4lqtF1aPpf/hXHh7/AKAOi/8AgFF/8TR/wrjw9/0AdF/8Aov/AImvlP8Aas/4LNeFP2K/hd4b8XfEb4Y/EXwzp/iTRH1yK01LWvCWn6pAEyZLX7Fc61Fc3F0iGNmitY5iPOjXPmbkWT4y/wDBan4b/Cv4l2/hXS/BvxS+IGo3vw0HxZtX8N6XaGG40Pcdz5u7q3KSrGGk2SBdwARS0rJEzl7qbfRtPysm3ftpGTu9LRbWzCn7/Ly68yTXmm4pW76yirb3aW59Uf8ACuPD3/QB0X/wCi/+Jo/4Vx4e/wCgDov/AIBRf/E18w/BX/gsx8M/jn4+8J6Lpvhr4kaXZ/EDwVeeOvCusatpMFnZeIrO0WM3UUCNcfaVmj3sP30McUgjZ4pJI2jkfH/Zf/4Lg/Df9qXxN8I7G18E/FHwZp/x4tNTn8C6z4ks9Njsdcl08ZurYC3vZ54ZVwxUzRJHJsOx2yu4qRcU7ra/4OSt63hNW3vFkxkpar1+Voyf3Rkm+yd3sz62/wCFceHv+gDov/gFF/8AE0f8K48Pf9AHRf8AwCi/+Jr85f8Aglv/AMFkdb8ZfsPfCW5+J3/CV/F743fFjxB4kstD0Tw3pmm2l/qdrpl3KJZSZHs7GCKCERgvLLGzlgF8xs19wfsYftieD/27v2fNI+JHgc6pHo+qSTW0tnqdsLe/0y6gkaKe1uIwzKsscisp2synAKsykMa5W1ddk/k0vyvZtaJ6XubVqbpVJUp7xk4+V02vx5W1ezaV7aM7r/hXHh7/AKAOi/8AgFF/8TR/wrjw9/0AdF/8Aov/AImtqipMzF/4Vx4e/wCgDov/AIBRf/E0f8K48Pf9AHRf/AKL/wCJraooAxf+FceHv+gDov8A4BRf/E0f8K48Pf8AQB0X/wAAov8A4mtqigDF/wCFceHv+gDov/gFF/8AE0f8K48Pf9AHRf8AwCi/+JraooAxf+FceHv+gDov/gFF/wDE0f8ACuPD3/QB0X/wCi/+JraooAxf+FceHv8AoA6L/wCAUX/xNH/CuPD3/QB0X/wCi/8Aia2qKAMX/hXHh7/oA6L/AOAUX/xNH/CuPD3/AEAdF/8AAKL/AOJraooAxf8AhXHh7/oA6L/4BRf/ABNH/CuPD3/QB0X/AMAov/ia2qKAMX/hXHh7/oA6L/4BRf8AxNH/AArjw9/0AdF/8Aov/ia2qKAMX/hXHh7/AKAOi/8AgFF/8TRW1RQAV43+3j+xV4e/b6/Z3vvAHiDUtU0Jvt1prGk6zpnl/bNF1G0mWa3uYhIrIxV1wysMMjOuVJDD1P8A4S/Sf+gpp3/gSn+NH/CX6T/0FNO/8CU/xqZRUlZ+T7NNO6aa1TT1TWqeqKjK3/BV009Gmno01o09GtGfJ19/wTf8XfEP442vxd+LnxA0X4leO/A/hHU/Dngmw0Hwr/wjWl6ZJfQtHdXciTXl5JLdTKEjD+dHEibsRZbcPn3/AIJY/wDBGn4jeGfg1+zVdftBa5ptj/woTStcj0fwDpmmLHJa3uou8Tz3+pRX9xDebbdpNiwxQgef8xYqQ36Z/wDCX6T/ANBTTv8AwJT/ABo/4S/Sf+gpp3/gSn+NVpqmk07aWVlZzei2vepJ33Ts1Zq5m46qSbTV9b6u6irN72tBK17NXTumfCf7Fn/BDDR/2HfGPhVfDVz8EtU8O+D9VnvdP1XU/g9aSfEA27mVkt5PEC3aqzIZAvnLZLIY0C5Gd1Hhz/ghTZ6X/wAEgb79lK8+JlxeLcaxLrcXiWPQfJj806p/aKRTWJuGE0IYCN085d65IKHGPuz/AIS/Sf8AoKad/wCBKf40f8JfpP8A0FNO/wDAlP8AGhaa3d9Nbu+jTWu97xTvvfXdu+nM7NLRN3skkr2ktltpOSstLPyVvhjxR/wRR1T4t+H/ANqePxz8WLLUNW/af0LQ9IuZ9C8I/wBl2nhuTSrd4YpIYJLy4aWJiY2MbShgFZfM+YMvW63/AME0PiJcfFb4a/FjTPi14L0340+AfC934Hu9Zf4fTzaHrmjTMHjjfT/7VE0VxFIquJVvChYyZi2sFX66/wCEv0n/AKCmnf8AgSn+NH/CX6T/ANBTTv8AwJT/ABpVIqcnKW9kvlFOK/8AJZSV92m73BybSi3ov05Leq9yGj091Pc+Ivgv/wAEMvDv7P3jD9la/wDDPji+jsf2a2166uILzS1mn8W3erxEXE7SrKi2uJWdwixyDaVTjG4/d1Z3/CX6T/0FNO/8CU/xo/4S/Sf+gpp3/gSn+NayqSkrPa7f3u7+XZbLZWRLu2nJtu1rttt6t6t6t3bbbu23dtmjRWd/wl+k/wDQU07/AMCU/wAaP+Ev0n/oKad/4Ep/jWYGjRWd/wAJfpP/AEFNO/8AAlP8aP8AhL9J/wCgpp3/AIEp/jQBo0Vnf8JfpP8A0FNO/wDAlP8AGj/hL9J/6Cmnf+BKf40AaNFZ3/CX6T/0FNO/8CU/xo/4S/Sf+gpp3/gSn+NAGjRWd/wl+k/9BTTv/AlP8aP+Ev0n/oKad/4Ep/jQBo0Vnf8ACX6T/wBBTTv/AAJT/Gj/AIS/Sf8AoKad/wCBKf40AaNFZ3/CX6T/ANBTTv8AwJT/ABo/4S/Sf+gpp3/gSn+NAGjRWd/wl+k/9BTTv/AlP8aP+Ev0n/oKad/4Ep/jQBo0Vnf8JfpP/QU07/wJT/Gj/hL9J/6Cmnf+BKf40AfCXxe/4IK+H/jd+yr8fvhrrfjy4+2fGP4m6j8T9G1220YRz+Dr26WJFiVPPP2hVRJI3YPF5kc7rhPvU34kf8EQ9W17XIdS8M/Fqx0W8v8A4IL8D9al1PwgdVZ7FYin22wxfQizmYnLI4nRgAMA/NX3f/wl+k/9BTTv/AlP8aP+Ev0n/oKad/4Ep/jS5Vy8nSyXyjTdJX7/ALtuL7re7Sa0nWnOr7eT967d/NzVR/8Ak8VJdnta7v8AFXgD/gi7/wAIN8Wfh/4o/wCFlfav+EF+Ag+CH2b/AIR7Z9u4x/ae/wC0nZ/174b/AK6074Qf8EWLP4bXv7MX9oePxrlh+zv4L1zwbc2p0H7P/wAJTFqdukDy7vtLfZtioTsxLu3Y3LjJ+0/+Ev0n/oKad/4Ep/jR/wAJfpP/AEFNO/8AAlP8adT95UnVnq535vPm9pfTbX2tT/wLyVs5e8kn9lJLy5VBL7vZw/8AAfN3+GP2Gv8Agh/pv7Cnjbwe2g3XwP1bQfBOpXdzYatd/By0Tx/Payi4EVvPr63m1njEyqZ0s0d0i2/LuNffFZ3/AAl+k/8AQU07/wACU/xo/wCEv0n/AKCmnf8AgSn+NVKcmrMXKr8yVvTRdXolot+nTTZI0aKzv+Ev0n/oKad/4Ep/jR/wl+k/9BTTv/AlP8akZo0Vnf8ACX6T/wBBTTv/AAJT/Gj/AIS/Sf8AoKad/wCBKf40AaNFZ3/CX6T/ANBTTv8AwJT/ABo/4S/Sf+gpp3/gSn+NAGjRWd/wl+k/9BTTv/AlP8aP+Ev0n/oKad/4Ep/jQBo0Vnf8JfpP/QU07/wJT/Gj/hL9J/6Cmnf+BKf40AaNFZ3/AAl+k/8AQU07/wACU/xo/wCEv0n/AKCmnf8AgSn+NAGjRWd/wl+k/wDQU07/AMCU/wAaP+Ev0n/oKad/4Ep/jQBo0Vnf8JfpP/QU07/wJT/Gj/hL9J/6Cmnf+BKf40AaNFZ3/CX6T/0FNO/8CU/xo/4S/Sf+gpp3/gSn+NAGjRWd/wAJfpP/AEFNO/8AAlP8aP8AhL9J/wCgpp3/AIEp/jQBo0Vnf8JfpP8A0FNO/wDAlP8AGj/hL9J/6Cmnf+BKf40AaNFZ3/CX6T/0FNO/8CU/xo/4S/Sf+gpp3/gSn+NAGjRWd/wl+k/9BTTv/AlP8aP+Ev0n/oKad/4Ep/jQBo0Vnf8ACX6T/wBBTTv/AAJT/Gj/AIS/Sf8AoKad/wCBKf40AaNFZ3/CX6T/ANBTTv8AwJT/ABo/4S/Sf+gpp3/gSn+NAGjRWd/wl+k/9BTTv/AlP8aP+Ev0n/oKad/4Ep/jQB8wfFP9gL4iT/8ABRDUf2hfhx8UPBfhnVNW8DW3ge50fxJ4Fudet/JhvJbrz0kg1WyZXZnVdpDABT1zxiftj/8ABKfXP+CgOu6dcfFD4sTLY+F/D2zwtZ+FNGn0MeHvFJ8s/wDCSJIb6Z5JomjYQQscQxyOvmSMzSN9df8ACX6T/wBBTTv/AAJT/Gj/AIS/Sf8AoKad/wCBKf40bRjFfZu13TfM20907ybXaVpKzSaI6Tc1u7X87cqX4RSfdXTum0/hP40/8EafHXxq+IHijxjffG7Qf+Ew+Ivwlf4UeLtTm8ANN9ogJkb7Zp8f9pKLF3ZkMsTGeNyrFRGWGzdsP+CNH2L40ad4v/4WRu/s/wCAh+CH2T/hH8eZ0/4me/7Tx0/499p/6619n/8ACX6T/wBBTTv/AAJT/Gj/AIS/Sf8AoKad/wCBKf40pRUoSpvaXNdf4vaJpdk/a1NFZLm0tZWKN6bUobq1uu3s7b7v91T1er5db3d/ibwb/wAEdbn4VJ8A9Ss/Hn9t3n7P3wv1jwBBZ/2ILb/hJZLy0SFbjeblhbbTGDsIkB3ffGM15b/wSe/4I9/E7wB8K/2YtW+PHiHTtLuv2edO1ptB8C6VpaxzWOoX8rIbi/1GO/uIb3ZAX2JDFCoM43FtpDfpX/wl+k/9BTTv/AlP8aP+Ev0n/oKad/4Ep/jV81+Zy1v36O9SV1581STvvF25bWMfYxVuXTf5pxhCz8uWEU0rJq/Ne7PzZ8H/APBtt4d8HfAv4O6FN4z8I+L/ABX8G9V168s7rxf8PYdb8N63a6tO001re6RJdhnMTbDFLHdIyspbB3bR9x/scfs5N+yx8FYfCbR/D2Fo765vPJ8E+DY/COiwCVywSGwSafZgY3O0rs7ZYkZAHof/AAl+k/8AQU07/wACU/xo/wCEv0n/AKCmnf8AgSn+NTC8Vyx2tb5afdsn63e7d+itJ1ajq1Pibbb2u3dtu3+J/Ky2SS0aKzv+Ev0n/oKad/4Ep/jR/wAJfpP/AEFNO/8AAlP8aCTRorO/4S/Sf+gpp3/gSn+NH/CX6T/0FNO/8CU/xoA0aKzv+Ev0n/oKad/4Ep/jR/wl+k/9BTTv/AlP8aANGis7/hL9J/6Cmnf+BKf40f8ACX6T/wBBTTv/AAJT/GgDRorO/wCEv0n/AKCmnf8AgSn+NH/CX6T/ANBTTv8AwJT/ABoA0aKzv+Ev0n/oKad/4Ep/jR/wl+k/9BTTv/AlP8aANGis7/hL9J/6Cmnf+BKf40f8JfpP/QU07/wJT/GgDRorO/4S/Sf+gpp3/gSn+NH/AAl+k/8AQU07/wACU/xoA0aKzv8AhL9J/wCgpp3/AIEp/jR/wl+k/wDQU07/AMCU/wAaANGis7/hL9J/6Cmnf+BKf40UAecUUVifEb4gWPwt8GXuvanb65dWOnhTLFpGjXmsXrbmCDy7W0ilnl5YZEcbYGWOACRo2lqyIxbdlubdFecfCD9qfwz8b9YvLHRdL+I9lNY25uZG8QfD3X/D0LJkDCS6hZwRyPkj5EZnxk4wCax/Bv7b/gvx34wsdDsdF+L8F7qE4t4pNR+E/inTrNGPeS5uNOjgiX/bkdVHrTs20urJ5kk5PZb+XXX5Hr9FFFIYUUUUAFFFFABRRRQAUUUUAFFFFABRRRQAUUUUAFFFFABRRRQAUUUUAFFFFABRXxT8C/8AgoDq3xV/aD1rw7rHx4/Zr8LzaX491XwvB4CutKf/AISu9t7S/ltoQsra2h8+eONWVhZEZcYRhXqHhf8A4KL6D4v+Lnhfw7Z+BfiH/wAI/wCNtd1Dw5oPjGSLTk0TVLyxt7uecRobz7cI8WVyqytaqjlAVYoyuSn78I1Fs1zfKyfps1pe/kVWj7OpOlLeDafqm0/PSz1tY+hqK8l+Fv7ZXhf4t+E/hjrGm6f4ghtfivpdxq+kJPbR+bbxQwrMyzqkjYcqwAEe/J4z3rxz9pv/AIKEa1pX7Mfxt/s3wj48+EvxK8F/D678YaKnia10u4a5hCTJHdQ/Zrm7gby5o1DxT7XXem6PDCnTXPV9jH4r2/C/5Jv0TeyZXs2nZ6apejbS/NpX7tLdq/17RUOnStPp8EjHczxqxPqSKmoas7GNOanFSXUKKKKRQUUUUAFFFFABRRRQAUUUUAFFFFABRRRQAUUUUAFFFFABRRRQAUUUUAFFFFABRRRQAUUUUAFFFFABRRRQAUV478U/21/DPwf+IGqeEtX0nxJ/wlUdtDdeH9Ighge58brKyxldMzMFkaKVxHMJmi8gESy7IGWZvSvGXja18BeC7zXtRtdYe10+Dz54NO0y41S9xxlY7a1SWaZufuxI5PbNLmXJ7T7OuvTTf7uvbqU4tS5Wtf8AOzX3pq3c2KK81+EP7WHhf43eJ5NI0XS/iXZXUVu1yZNf+HXiDw/alVKggXF/ZQQl8sMIHLkZIBCkjJsv24vBeoeNItBj0X4wLfTXosFlk+E3iqKyEhfZuN02nC3WLPPmmQRhfm3beadndR6vbz6afPQno32PYKK5P4x/GDT/AIIeF7TWtWtNSn0241Sz0yee0jR10/7VOkCXE25l2wI8ib3G4opLEbQxDfhv8ZdN+Kfifxhpul2uqCPwXqo0W6vZ4BHa3lyIIppFt23FpBF5qo7bQokDoCSjYIu7aXS/4Wu/T3oq+12luD03/rfT10em9lfY66iiigAooooAKKKKACiiigAooooAKKKKACiiigAooooAKKKKACiiigAooooAKxPiN8NPDfxh8GXvhvxd4f0TxT4d1IKt5per2MV9ZXQVg6iSGVWR8MqsMg4Kg9QK26KGk9GOMmndbnnHwg/Y7+Ef7PmsXmo+AfhX8OPA+oahbm0urnw/4astNmuYSQxid4Y1LJkA7SSMgHFY/g3/AIJ8fAP4deMLHxD4f+B/wg0HX9LnFzZ6np3g3TrW8tJR0kjlSEOjj+8pBr1+indpp9UTZNOL2e/n01+QUUUUhhRRRQAUUUUAFFFFABRRRQAUUUUAFFFFABRRRQAUUUUAFFFFABRRRQAUUUUAfPfwP/Zj+K3wF8Z61DpXxI+Ht14D1zxfqniifTLvwFeNq6Jf3st3LbrfLq6xblMpVZDaEYAJQ9K8/X9iP4jfDv47fBGPT/Een+Kvhj4B8b6xrMFn/ZS2epaBZ3ml6wii5unu2F6sc95DBEIbeJ1jYGTzcGRfsSiinaCiktIrlXpZK33Jf1cdWTqSnOW87tvzle78rtt9tr7I+XPhJ/wT48TfDh/COl3HxOhl8I/DnStU0PwvZaX4ebT9RtbS8hEMb3F411L5t1AqrtlijgRvmJjyVK+ZeDf+CLLaD4D+IelXHiz4e6fqHj74d3XgC51Hwv8ADv8Asaa6MzK39qX5a/me+vCwYu7Om8tn5Tnd94UUqMVSq+3h8Xffo118pNN7vrsrKo3P4+6l801JfjFO22nZsjtIPstrHFnd5aBc464GKkoop76kxiopRWyCiiigoKKKKACiiigAooooAKKKKACiiigAooooAKKKKACiiigAooooAKKKKACiiigAooooAKKKKACiiigAooooA8P+NX7JWt/GD4lyeMF8e3Oi694cWE+BTbWDfZfDsgwbp7qHzwL8XX+qlUmHFvhI/KkLzv6x4y8BaP8AE3wXeeH/ABVo+j+JNF1SD7PqGn6jZJc2V6hxlZIZAyspIztbI+tbFFLlXJ7O2n+e/wB47+9z9fu20X5f1dnmvwh/Yw+Dv7PvieTW/APwn+GvgjWprdrSS/0DwxZabdPCxVmjMkMSsUJVSVzglQewrJsv+CenwB0zxpF4ktvgd8H7fxFBejUo9Uj8G6cl7HdB/ME4mEO8Sh/m3g7t3Oc817BRTu7qXVbeXXT56i6Ndzjf2ivC3/CcfALxrow0GTxQ2qaHeWqaRHNFBJqTPC6rCskrLGjMSAHZgFJBJGKzf2T/AIFf8M2/s+eGfCE2o3Gt6pp9sZtX1a45n1jUZmaa7u5D3eW4kkkP+9jtXolFEdOa32rfhe35u/y7BLXl8r/jb8raer7hRRRQAUUUUAFFFFABRRRQAUUUUAFFFFABRRRQAUUUUAFFFFABRRRQAUUUUAdN/wAKsuP+glD/AOAh/wDjlH/CrLj/AKCUP/gIf/jldlWL8QviFpHws8JXOua7dNZ6XaPEksqwSTsGkkWJAEjVnJLuo4B6+nNZylZXZpYx/wDhVlx/0Eof/AQ//HKP+FWXH/QSh/8AAQ//AByuyop3YWON/wCFWXH/AEEof/AQ/wDxyj/hVlx/0Eof/AQ//HK7Kii7Cxxv/CrLj/oJQ/8AgIf/AI5R/wAKsuP+glD/AOAh/wDjldlRRdhY43/hVlx/0Eof/AQ//HKP+FWXH/QSh/8AAQ//AByuyoouwscb/wAKsuP+glD/AOAh/wDjlH/CrLj/AKCUP/gIf/jldlRRdhY43/hVlx/0Eof/AAEP/wAco/4VZcf9BKH/AMBD/wDHK7Kii7Cxxv8Awqy4/wCglD/4CH/45R/wqy4/6CUP/gIf/jldlRRdhY43/hVlx/0Eof8AwEP/AMco/wCFWXH/AEEof/AQ/wDxyuyoouwscb/wqy4/6CUP/gIf/jlH/CrLj/oJQ/8AgIf/AI5XZUUXYWON/wCFWXH/AEEof/AQ/wDxyj/hVlx/0Eof/AQ//HK7Kii7Cxxv/CrLj/oJQ/8AgIf/AI5R/wAKsuP+glD/AOAh/wDjldlRRdhY43/hVlx/0Eof/AQ//HKP+FWXH/QSh/8AAQ//AByuyoouwscb/wAKsuP+glD/AOAh/wDjlH/CrLj/AKCUP/gIf/jldlRRdhY43/hVlx/0Eof/AAEP/wAco/4VZcf9BKH/AMBD/wDHK5XQP27fhV4m8O/EXVrPxSZLH4T6lPpPiln0y8ifTbiGRopMI0QeaPzEkQSwh42aKQKxKMB65T13+fyeq+9ai0UnB7p2a6pptNPs000/NNHG/wDCrLj/AKCUP/gIf/jlH/CrLj/oJQ/+Ah/+OVe+GHxe8O/GXSdSvvDeof2la6Pq99oN4/kSw+Te2Vw9tcxYkVSdksbruAKtjKlgQa6Sp5rpNbNJr0eqfo1qhyjytxa1Tafk1o0/NPRnG/8ACrLj/oJQ/wDgIf8A45R/wqy4/wCglD/4CH/45XZUU7sLHG/8KsuP+glD/wCAh/8AjlH/AAqy4/6CUP8A4CH/AOOVuePvGVr8OvAuteIL6O4ls9BsJ9RuEgUNK8cMbSMFBIBYhTgEgZ7ioPhd8QbP4t/DPw74q02K6h0/xNpltq1rHcqqzRxTxLKgcKWUMFcAgMRnOCetKMruSX2bX8ua9vv5ZfcyZWTSfW9vO1r/AHcy+8yv+FWXH/QSh/8AAQ//AByj/hVlx/0Eof8AwEP/AMcrsqKd2VY43/hVlx/0Eof/AAEP/wAco/4VZcf9BKH/AMBD/wDHK7Kii7Cxxv8Awqy4/wCglD/4CH/45R/wqy4/6CUP/gIf/jldlRRdhY43/hVlx/0Eof8AwEP/AMco/wCFWXH/AEEof/AQ/wDxyuyoouwscb/wqy4/6CUP/gIf/jlH/CrLj/oJQ/8AgIf/AI5XZUUXYWON/wCFWXH/AEEof/AQ/wDxyj/hVlx/0Eof/AQ//HK7Kii7Cxxv/CrLj/oJQ/8AgIf/AI5R/wAKsuP+glD/AOAh/wDjldlRRdhY43/hVlx/0Eof/AQ//HKP+FWXH/QSh/8AAQ//AByuyoouwscb/wAKsuP+glD/AOAh/wDjlH/CrLj/AKCUP/gIf/jldlRRdhY43/hVlx/0Eof/AAEP/wAco/4VZcf9BKH/AMBD/wDHK7Kii7Cxxv8Awqy4/wCglD/4CH/45R/wqy4/6CUP/gIf/jldlRRdhY43/hVlx/0Eof8AwEP/AMco/wCFWXH/AEEof/AQ/wDxyuyoouwscb/wqy4/6CUP/gIf/jlH/CrLj/oJQ/8AgIf/AI5XZUUXYWON/wCFWXH/AEEof/AQ/wDxyj/hVlx/0Eof/AQ//HK7Kii7Cxxv/CrLj/oJQ/8AgIf/AI5R/wAKsuP+glD/AOAh/wDjldlRRdhY43/hVlx/0Eof/AQ//HKP+FWXH/QSh/8AAQ//AByuyrE+JPxG0f4ReAdY8UeIbtrHQ9BtXvb64WCScwxIMswSNWdsDsqknsDRqS7JXZkf8KsuP+glD/4CH/45R/wqy4/6CUP/AICH/wCOV2QORRRdj0ON/wCFWXH/AEEof/AQ/wDxyj/hVlx/0Eof/AQ//HK7Kii7HY43/hVlx/0Eof8AwEP/AMco/wCFWXH/AEEof/AQ/wDxyuyoouwscb/wqy4/6CUP/gIf/jlH/CrLj/oJQ/8AgIf/AI5XZUUXYWON/wCFWXH/AEEof/AQ/wDxyj/hVlx/0Eof/AQ//HK7Kii7Cxxv/CrLj/oJQ/8AgIf/AI5R/wAKsuP+glD/AOAh/wDjldlRRdhY43/hVlx/0Eof/AQ//HKP+FWXH/QSh/8AAQ//AByuyoouwscb/wAKsuP+glD/AOAh/wDjlH/CrLj/AKCUP/gIf/jldlRRdhY43/hVlx/0Eof/AAEP/wAco/4VZcf9BKH/AMBD/wDHK7Kii7Cxxv8Awqy4/wCglD/4CH/45R/wqy4/6CUP/gIf/jldlRRdhY43/hVlx/0Eof8AwEP/AMco/wCFWXH/AEEof/AQ/wDxyuyoouwscb/wqy4/6CUP/gIf/jlH/CrLj/oJQ/8AgIf/AI5XZUUXYWON/wCFWXH/AEEof/AQ/wDxyiuyoouwsFeZ/tfeF5vGXwC1TT7cyrLJeadIDHZXN42I7+3kOIraKWVuEPKoQvViqhmHplFZ1KanBwez0BOzufK37Y37BPxB/aQ+Ly+IvDPxa/4QvTVsIrT+zvtnjSLLoXJkxpHinS7XncBn7Nv4+aRhtC/QPwS8Cah8MPhF4c8O6rq39u6lothFaXOob7x/tkiKAZM3t1d3Rz1zPczSf3pGPNdRRVx92PKtr3/P/NhL3pcz32/r7gooooAKKKKACiiigAooooAKKKKACiiigAooooAKKKKACiiigAooooAKKKKACiiigD8wv2gv2cfiB4R/Zc8eeLvCvgnxPqniDxB408XeGNf0K002U32r6Lf+Jruewv44du+YW00iTIw+X7Le3jjdla6P9oj4N3ms/tT/ABIkuvhp401r416r430HUPhf45s9BuJrfQtBjg01biKPW0i8jTbeN4dWNxZSzo1yJ5AI5/tSq36NUVpGpZxf8qsu6V4vR9HeL1WtpSSaumqxDVWtWrvR1G2+zu5PXukpWs9Pdg7XWvx9/wAEwfgP4R/Z9+IXxo0eH4ZR+D/Htx441zU7zW4fBM2nW+taTd6lNd6esWq/Z0gvESGZB5MczmFgysqYrw79qn4B+NNb/wCCg3inWvECyRTXmu6FefD3Xbf4L6z401XSbKCO18220/XLO9jtdDD3aXQnS7iRHS4LyPNExWP9MqKxoxVP2SX/AC7jGK/7dSSa7S0313lproVZupKrN71HKX/gTvbvZX0tZ2SV9Nfy9/aB+GnhfQv2kodQ8YfDTV774y3Hx60G+03xzf8AhK4uoYtAfULNLSG01t4fs8MSwlYDZRTiTzfPcxEO8h7r4S2XiLwv4t8G/De48C/EQ654d+Pmv+KdSvh4XvV0S20q9n1q6tbxdSaMWkyOl3bqVglkeN5dsiRlW2/e/iTwhpPjK3tYdY0vTtWhsruG/t0vLZJ1guIXDxTIGBCyI4DK45UgEEGtGijHkowot/DJS9eX2PL826V5d3JvS9lNZynKo19tW9G/bJ/K1ZqPblS1s7/kv8OPh14r8RftT694g0X4Qr4Budd8IeN9O8VWGh/CXW9EuJLmRVNpHqOvXD/ZvEM00sTSRT28OAzPtciRfM/ST9kLRL3wz+yb8L9N1KzutP1DT/CWlW11a3MTRTW0qWcSvG6MAysrAgqQCCCDXolFTQp+yjKK2agvTkdR6erqP7lq9WRVjz1Y1Xuuf58/Je/muRbWWuwUUUVoWFFFFABRRRQAUUUUAFFFFABRRRQAUUUUAFFFFABRRRQAUUUUAFFFFABRRRQAUUUUAFFFFABRRRQB8NftofCa68S/tMa1rWi+BfG2qfDe3s7GH4xaVp9lJHb/ABCgLIbZbe1+ztJqclnCubn7MwNxbMLI/aWX7PF9H/tj+EG8e/sfePND05ZLdtU0Ca1tlTT7q4aPem1R9ntopJ2xkfJHEzf7NerUVVOXJBQXRt/fbT0XT1erJxEVWvzbNW/BLTtdLX5WskfMf7a37D/jv9p74jaZrXhX4pf8INY2emrZyWX2vxhD50gkkfzcaN4l0qDkOq/vIHk+XmQrtRPZP2b/AIXat8FvgnoPhjXNe/4SbVNJieO41PzNRk+1kyMwO7Ub6+uzgMB++u5TxwQuFXuKKmPuxcFs3f8AP/NlT9+SnLdK3y0X6I+Lfgr8DdWk/blv/h/Jp8f/AAqX4K6pceO9BkSYmJtT1lJDDYsgbH+hNJqswVgVVb2wKhfLU19pVn6L4S0rw3f6pdadpmn2F1rlyL3UZra2SKTUJxFHCJZmUAySCKKKPc2TsjRc4UAaFEfdhGHZf1fu0rK+7STet2D+Ny7/AIdbel23bZNtKyskUUUUAFFFFABRRRQAUUUUAFFFFABRRRQAUUUUAFFFFABRRRQAUUUUAFFFFAGH/wALH0f/AJ+Jv/AWX/4mj/hY+j/8/E3/AICy/wDxNcHRVcpPMd5/wsfR/wDn4m/8BZf/AImj/hY+j/8APxN/4Cy//E1wdFHKHMd5/wALH0f/AJ+Jv/AWX/4mj/hY+j/8/E3/AICy/wDxNcHRRyhzHef8LH0f/n4m/wDAWX/4mj/hY+j/APPxN/4Cy/8AxNcHRRyhzHef8LH0f/n4m/8AAWX/AOJo/wCFj6P/AM/E3/gLL/8AE1wdFHKHMd5/wsfR/wDn4m/8BZf/AImj/hY+j/8APxN/4Cy//E1wdFHKHMd5/wALH0f/AJ+Jv/AWX/4mj/hY+j/8/E3/AICy/wDxNcHRRyhzHef8LH0f/n4m/wDAWX/4mj/hY+j/APPxN/4Cy/8AxNcHRRyhzHef8LH0f/n4m/8AAWX/AOJo/wCFj6P/AM/E3/gLL/8AE1wdFHKHMd5/wsfR/wDn4m/8BZf/AImj/hY+j/8APxN/4Cy//E1wdFHKHMd5/wALH0f/AJ+Jv/AWX/4mj/hY+j/8/E3/AICy/wDxNcHRRyhzHef8LH0f/n4m/wDAWX/4mj/hY+j/APPxN/4Cy/8AxNcHRRyhzHef8LH0f/n4m/8AAWX/AOJo/wCFj6P/AM/E3/gLL/8AE1wdFHKHMd5/wsfR/wDn4m/8BZf/AImj/hY+j/8APxN/4Cy//E1wdFHKHMd5/wALH0f/AJ+Jv/AWX/4mj/hY+j/8/E3/AICy/wDxNcHRRyhzHef8LH0f/n4m/wDAWX/4mj/hY+j/APPxN/4Cy/8AxNcHRRyhzHef8LH0f/n4m/8AAWX/AOJo/wCFj6P/AM/E3/gLL/8AE1wdFHKHMd5/wsfR/wDn4m/8BZf/AImj/hY+j/8APxN/4Cy//E1wdFHKHMd5/wALH0f/AJ+Jv/AWX/4mj/hY+j/8/E3/AICy/wDxNcHRRyhzHef8LH0f/n4m/wDAWX/4mj/hY+j/APPxN/4Cy/8AxNcHRRyhzHef8LH0f/n4m/8AAWX/AOJo/wCFj6P/AM/E3/gLL/8AE1wdFHKHMd5/wsfR/wDn4m/8BZf/AImj/hY+j/8APxN/4Cy//E1wdFHKHMd5/wALH0f/AJ+Jv/AWX/4mj/hY+j/8/E3/AICy/wDxNcHRRyhzHef8LH0f/n4m/wDAWX/4mj/hY+j/APPxN/4Cy/8AxNcHRRyhzHef8LH0f/n4m/8AAWX/AOJo/wCFj6P/AM/E3/gLL/8AE1wdFHKHMd5/wsfR/wDn4m/8BZf/AImj/hY+j/8APxN/4Cy//E1wdFHKHMd5/wALH0f/AJ+Jv/AWX/4mj/hY+j/8/E3/AICy/wDxNcHRRyhzHef8LH0f/n4m/wDAWX/4mj/hY+j/APPxN/4Cy/8AxNcHRRyhzHef8LH0f/n4m/8AAWX/AOJo/wCFj6P/AM/E3/gLL/8AE1wdFHKHMd5/wsfR/wDn4m/8BZf/AImj/hY+j/8APxN/4Cy//E1wdFHKHMd5/wALH0f/AJ+Jv/AWX/4mj/hY+j/8/E3/AICy/wDxNcHRRyhzHef8LH0f/n4m/wDAWX/4mj/hY+j/APPxN/4Cy/8AxNcHRRyhzHef8LH0f/n4m/8AAWX/AOJo/wCFj6P/AM/E3/gLL/8AE1wdFHKHMd5/wsfR/wDn4m/8BZf/AImj/hY+j/8APxN/4Cy//E1wdFHKHMd5/wALH0f/AJ+Jv/AWX/4mj/hY+j/8/E3/AICy/wDxNcHRRyhzHef8LH0f/n4m/wDAWX/4mj/hY+j/APPxN/4Cy/8AxNcHRRyhzHef8LH0f/n4m/8AAWX/AOJo/wCFj6P/AM/E3/gLL/8AE1wdFHKHMd5/wsfR/wDn4m/8BZf/AImj/hY+j/8APxN/4Cy//E1wdFHKHMd5/wALH0f/AJ+Jv/AWX/4mj/hY+j/8/E3/AICy/wDxNcHRRyhzHef8LH0f/n4m/wDAWX/4mj/hY+j/APPxN/4Cy/8AxNcHRRyhzHef8LH0f/n4m/8AAWX/AOJo/wCFj6P/AM/E3/gLL/8AE1wdFHKHMd5/wsfR/wDn4m/8BZf/AImj/hY+j/8APxN/4Cy//E1wdFHKHMd5/wALH0f/AJ+Jv/AWX/4mj/hY+j/8/E3/AICy/wDxNcHRRyhzHef8LH0f/n4m/wDAWX/4mj/hY+j/APPxN/4Cy/8AxNcHRRyhzHef8LH0f/n4m/8AAWX/AOJo/wCFj6P/AM/E3/gLL/8AE1wdFHKHMd5/wsfR/wDn4m/8BZf/AImj/hY+j/8APxN/4Cy//E1wdFHKHMd5/wALH0f/AJ+Jv/AWX/4miuDoo5Q5grG8f2fiC/8ACV1F4V1HRtJ11thtrrVdOk1C0jw6lw8Mc8DtuQMoIlXazBiGAKNs1jeP/Alj8S/CV1ompyatDY3mzzW03VbrS7n5XVwFuLaSOZASoDBXAZSVbKsQW79BR31OC+BX7Sk/xK8eeIPBPiDQ7TRfG3hNY21aHSNXj1zS4/MRJEC3KKksLlJIyI723tZX+dokljQy16tWP4A+Hfh/4T+ELPw/4W0PR/Deg6crLaabpdnHZ2lsGYswSKMBFyzMxwBkknqa2KuVun9f5feyI36hRRRUlBRRRQAUUUUAFFFFABRRRQAUUUUAFFFFABRRRQAUUUUAFFFFABRRRQAUUUUAfBPivxT/AMJX+z74++OPjl/jx4pm8OeJfElk+l/DzxxN4dj8G6XpN7eQK5szqFhb3TJHaedIZ1uZpJJ9oV4QiJ6lP+1j48l+KfxKls5vC8Xw9+E/hzTPEd2t3pU1xruvR3Gn3FzJAsiXMVvbSAwoRJ5cq/My+WMB69E+If7B/wAMfif4w1LWtS0nXLefXmD61Z6T4o1XSNL8QMFCFtQsbS5itb4vGFic3MUhkiVY33IoUdxoPwX8L+GfE/iLWLHR7eG+8WW9raarlmeG6hto2ihj8piY1VUdlwqgEHnPFYVYVHTcab5XZW6pNRab87vlbvrKz5nI0m4OtGdrq8ubo3Fu6SttZXWmiVuVRaPlb4Df8FAfH3jLwf4o1LxdFp3h6zj8It4kttc1X4a+JfDGieFbrciiwuZtS2HVSPOVlktPIMwgkHlxF0I82+JP7bHxW+MPwF8b6PpviSz0DxZ4L+IPgqzt/EI8A6/4TGoWWpajZr5cmlX91HeRgSeYkn79o7iHKgoXJT6w0H/gnr8KfDvhPXNAh0bxBcaBr2mNo0ml3vizV72x06yYq3kWEE108enIpSPaLNYdnlRBdojTbJpP7AXwt0nwX4s0FtJ8Qala+OPsh1q51XxZq+p6ldvaNvtZBe3F1JdRyQtho5I5VdCiFSCi46ZNKopxWicXa71tNytfX7Nop7vXmcnq8afPGS5ndXd/Rxtp5813Z6K/u20t4d8Yf29/ij8L/jPqnhCz0lfE118P7XTP7ZXQ/hX4k1f/AITK7uIxNNFaXFnJLa6MEiZNn2yW5LNJ83logkk9i/Z8+L3xG+M3x0+I0d5deC9N8DeAvFFx4cisotJupdW1MCxs7hJmuTcrFAVkuHBUQSb1C4MZBzp+Iv2DPht4o1LTb66tfF63+n2EGlzXdt421u1udatYSxih1KWK7V9TVd8gAvTNxLKOkjhvQvA3wu0H4bX3iC50Wx+xTeKdTbWdUbzpJPtN20UUJkwzEL+7hjG1ML8ucZJJmno2566St6uUbP8A8BUlvZNqy6qasW2uTa8b+ijK6+cnF+aTv2Pl34j6x8StS/b5+L+lWfjPR4fh/pfwv0u/uNAu9IurmRjM2sxlreUXqQ28zPCC8pt5N8axJtBj3nM/YS+O/j34b/Dz4Q+FfGF98P38M698HR4p0ua3trjT38PLp0GmRPHeXUs8iXMbrehzMkNt5QhYbJN25fpXx1+zD4N+I3xRs/GWpWOqr4itdOfSGuLHXL7T4r6zbzP3F1DbzJFdxqZZWRbhJBG0jMm1iTRZfsteAbCz0C2Xw7DJbeGfDNx4N06Ga4mmjh0mcW6zWrK7kSKwtLcFpAz4T73zNlUvdjO+7Vkru10q3K29/inB+VpWv16KnJUxEJte6l89qSdumvJK/e6+XyDbf8FQPiHpHgv4rMj+E/GWpeFfCen+KPD2qN4B1/wbpt79ovWtXhaLUJZXuoMeW6XdrIY2Dn5OBu+mv2e/ih461D40+PvAfjy68J6tfeGbTTNXstR0DS7jTIWtr43ai3khmubktJE1o5MyyKsgkX91GVO7P8M/8E3fhD4W0bWbFNE8RapDr+lwaHevrXjDWdYnawglE0Nqkt3dyyRRJINypGygFmwPmbPrGl/DnRdG+IGseKbaz8vXtetLWxvrrzXbz4bZpmgXYW2LtNxNyoBO/knAxUbLV66W/wDJm1p/h5VffR6u7b5eWrzt6W0f4Lm++V2ktLPZWSW5RRRSNgooooAKKKKACiiigAooooAKKKKACiiigAooooAKKKKACiiigAooooAKKKKACiiigAooooA+cf2h/wBqTx18IP2gtM+Hen2vg64uvidCF8E6peP5UOi3EOxbtdTgNwstyoV/NgNt5fnOfs7eSdtw/u3jGy1+98GXkHh/UtH03xE8G21vdQ02S+soZePme3SeF3Xr8omQ8/e9eV8b/sq+A/iRceKp9c0STULrxpFZw6lcSahdC4RbQ77X7NIJA9mYZCZozbGIpMzTDErFz1XjHwRZeOfBl5oN9Nq8NjfQfZ5JNP1W60+8VeOUureRJ424++kit155NJfwuV/Fd/d0V/LXW13u7sqTXtOZbadPJX663d3/AMPZee/Br9pe68ZfFjWvh34o0Sx0nxx4dtY768Gi6qms6YYZWbyi0iqk9rIyBWEd5bweYTIIGuVhlkWp+0/+1C/7K3irw7q/iL+zofhzqdpqNvf3rRuLmx1GKA3VqC+7yxDNFBdRYK7jMbdVJ8zFek/Dr4Z+HfhD4Vh0PwroOkeG9Gt3kljstNtEtYFeRzJI+xABud2Z2bqzMSSSSa5v9of4B2P7Rvh3QdD1h7N9B07xBYa7qFncWf2j+0RZSi5giU71EeLmO3kLEOCkbpt+fcrlq4pO2yb7J6N22uk7pd18gjy63XRtK/VK6V99Wkt+tm7amp8CdY8VeIvg74b1HxxZ6bpvizULGO61Oy09XW3sJZBv8gb2ZmMYIRmJG5lZgFBCjrKKKqTTk3FWXbt95nCLUUm7hRRRUlBRRRQAUUUUAFFFFABRRRQAUUUUAFFFFABRRRQAUUUUAFFFFABRRRQAUV3n/CuNH/595v8AwKl/+Ko/4Vxo/wDz7zf+BUv/AMVU8xXKcHRXef8ACuNH/wCfeb/wKl/+Ko/4Vxo//PvN/wCBUv8A8VRzBynB0V3n/CuNH/595v8AwKl/+Ko/4Vxo/wDz7zf+BUv/AMVRzBynB0V3n/CuNH/595v/AAKl/wDiqP8AhXGj/wDPvN/4FS//ABVHMHKcHRXef8K40f8A595v/AqX/wCKo/4Vxo//AD7zf+BUv/xVHMHKcHRXef8ACuNH/wCfeb/wKl/+Ko/4Vxo//PvN/wCBUv8A8VRzBynB0V3n/CuNH/595v8AwKl/+Ko/4Vxo/wDz7zf+BUv/AMVRzBynB0V3n/CuNH/595v/AAKl/wDiqP8AhXGj/wDPvN/4FS//ABVHMHKcHRXef8K40f8A595v/AqX/wCKo/4Vxo//AD7zf+BUv/xVHMHKcHRXef8ACuNH/wCfeb/wKl/+Ko/4Vxo//PvN/wCBUv8A8VRzBynB0V3n/CuNH/595v8AwKl/+Ko/4Vxo/wDz7zf+BUv/AMVRzBynB0V3n/CuNH/595v/AAKl/wDiqP8AhXGj/wDPvN/4FS//ABVHMHKcHRXef8K40f8A595v/AqX/wCKo/4Vxo//AD7zf+BUv/xVHMHKcHRXef8ACuNH/wCfeb/wKl/+Ko/4Vxo//PvN/wCBUv8A8VRzBynB0V3n/CuNH/595v8AwKl/+Ko/4Vxo/wDz7zf+BUv/AMVRzBynB0V3n/CuNH/595v/AAKl/wDiqP8AhXGj/wDPvN/4FS//ABVHMHKcHRXef8K40f8A595v/AqX/wCKo/4Vxo//AD7zf+BUv/xVHMHKcHRXef8ACuNH/wCfeb/wKl/+Ko/4Vxo//PvN/wCBUv8A8VRzBynB0V3n/CuNH/595v8AwKl/+Ko/4Vxo/wDz7zf+BUv/AMVRzBynB0V3n/CuNH/595v/AAKl/wDiqP8AhXGj/wDPvN/4FS//ABVHMHKcHRXef8K40f8A595v/AqX/wCKo/4Vxo//AD7zf+BUv/xVHMHKcHRXef8ACuNH/wCfeb/wKl/+Ko/4Vxo//PvN/wCBUv8A8VRzBynB0V3n/CuNH/595v8AwKl/+Ko/4Vxo/wDz7zf+BUv/AMVRzBynB0V3n/CuNH/595v/AAKl/wDiqP8AhXGj/wDPvN/4FS//ABVHMHKcHRXef8K40f8A595v/AqX/wCKo/4Vxo//AD7zf+BUv/xVHMHKcHRXef8ACuNH/wCfeb/wKl/+Ko/4Vxo//PvN/wCBUv8A8VRzBynB0V3n/CuNH/595v8AwKl/+Ko/4Vxo/wDz7zf+BUv/AMVRzBynB0V3n/CuNH/595v/AAKl/wDiqP8AhXGj/wDPvN/4FS//ABVHMHKcHRXef8K40f8A595v/AqX/wCKo/4Vxo//AD7zf+BUv/xVHMHKcHRXef8ACuNH/wCfeb/wKl/+Ko/4Vxo//PvN/wCBUv8A8VRzBynB0V3n/CuNH/595v8AwKl/+Ko/4Vxo/wDz7zf+BUv/AMVRzBynB0V3n/CuNH/595v/AAKl/wDiqP8AhXGj/wDPvN/4FS//ABVHMHKcHRXef8K40f8A595v/AqX/wCKo/4Vxo//AD7zf+BUv/xVHMHKcHRXef8ACuNH/wCfeb/wKl/+Ko/4Vxo//PvN/wCBUv8A8VRzBynB0V3n/CuNH/595v8AwKl/+Ko/4Vxo/wDz7zf+BUv/AMVRzBynB0V3n/CuNH/595v/AAKl/wDiqP8AhXGj/wDPvN/4FS//ABVHMHKcHRXef8K40f8A595v/AqX/wCKo/4Vxo//AD7zf+BUv/xVHMHKcHRXef8ACuNH/wCfeb/wKl/+Ko/4Vxo//PvN/wCBUv8A8VRzBynB0V3n/CuNH/595v8AwKl/+Ko/4Vxo/wDz7zf+BUv/AMVRzBynB0V3n/CuNH/595v/AAKl/wDiqP8AhXGj/wDPvN/4FS//ABVHMHKcHRXef8K40f8A595v/AqX/wCKo/4Vxo//AD7zf+BUv/xVHMHKcHRXef8ACuNH/wCfeb/wKl/+Ko/4Vxo//PvN/wCBUv8A8VRzBynB0V3n/CuNH/595v8AwKl/+Ko/4Vxo/wDz7zf+BUv/AMVRzBynB0V3n/CuNH/595v/AAKl/wDiqP8AhXGj/wDPvN/4FS//ABVHMHKcHRXef8K40f8A595v/AqX/wCKo/4Vxo//AD7zf+BUv/xVHMHKcHRXef8ACuNH/wCfeb/wKl/+Ko/4Vxo//PvN/wCBUv8A8VRzBynB0V3n/CuNH/595v8AwKl/+Koo5g5Tcoorm/i78L9P+NPw31bwvqs2oW+n6xD5MsllcGGUAMGHqroSAGilV4pULRypJG7o2cm0rpXNIJOSUnZGT4D/AGlfBPxT+JWu+E/DOuL4h1bww0kOry6baz3WnaZcxuEkspr5ENrHeoSpe0aUXCKys0YUhj3VeS/s1fDj4gfBCCHwVq0vgXWvh/4f0+O08O6ppdkdD1K2hiCRQ2dxp0MRsmKxoWNzavbRFmCJYwooJ9arapGKtyu/n3+XT018m1Zk/af/AA/49fuXZpNMKKKKzAKKKKACiiigAooooAKKKKACiiigAooooAKKKKACiiigAooooAKKKKACiiigDzP9mj9o2P8AaE8GeKdZm0tNBi8M+Ldc8Lur3nnrKumX81mbgtsTYJPJ37MHZuxubG44Pw+/4KGfCH4naR4i1LS/FF3HpXhjS31241DUdC1HTbK+01Cwa/sJ7mCOPULXKj9/ZtNGfMiIYiWPd5n8Ff2dvjR8O7H4ifD3VPDXwvuvhz8QPFfifVX8R2vje+TW7Oy1e8urhcaa2kGFpoxOFK/bApIJ3dj5z8Cf+CYXiv4d+D9a0nxJ4G+H/i6ax8CXfgrTrjXvi54v8RWPiOCV7XdC+nahHLDolvOtpGzi2a8eJhGqF1i+eKLk4Xno+SL83PkblddEpKPa/M+VPlsa4rkVeUafw88kutoc65bd7xvrfSyctz6OX/god8MV8Cya9NJ4/s4xqaaPDpd38O/ENrr17dPC06pbaVJYrf3C+SkkheGB0CQysWAjcr2l5+0Fosn7PGofErTYdY1DRbPSLjV0t20m8t9QkWFHZoms3h+1RzAoyGJofNVgVKbhivlCP9g74qz/AAcm0/V/D/hnxRcR+KItY0PQdT+N/ixrrwdGlkbd57DxYbNtWWaVy+6EQpGIppYw5V2DfTPwM+DPiTwt+ybpPgXxt4lm8ReIk0WTTL/VWnkupDvDqq+dN+9uDEjLH58uJJvL8xwHdhSxXN7Gp7G/Nb3dt+W/5+qS0dnoRh5R9rTVVe79rfpK3qvd+b1a0sfO/hb/AILD6P4u1j4Hao3h3xVo/hf4n+F9X1XUrCbwPr9xriX1rFpM0UGnW4tEnv4AmoTFp7e2ljdYS6sqxyY928dft6/DH4f/AAr8O+NLjUvEeq+HPFVjJqWn3GgeEtX16X7LGqtLPNBY2s01vHHvUO06IEYhWIb5a8n/AGXf2Qvip4L8Y/AG+8cQ/D+yi+CXg3V/Bcr6Hrd3ftrUc0Ojx214qTWcHkMxsJzJAXkEe6PbLLubbzPxJ/YL+Ml38HPhj4P0bXNMv9B8O2GrWviDRrP4ha34JW4u7m4V7S/S/wBLt2urlYImuUaykMUMrTqzNmJCNMbJRm1h1dNyaeu124q265lZK/w6KfWSMNG9Okq3xcvvbb3s9dtN3bdfCtk/cPiV/wAFHfg78KtXt7HUvE2o391deH7bxYiaF4c1PXQNHuGlWPUWNjbzBbXML75mISPKF2USIW9p0vVLbW9Mt72zuIbuzvIlngnhcPHNGwDK6sOCpBBBHBBr42/Zt/4Jz+Nvg94Aj0rU9U8Kz3Cfs+6B8KC1rczsn9qWCags02WhU/ZW+1R7Xx5h2tmNcDP1d8IvCVz4B+FHhfQbx4ZLzRdJtLCd4SWjd4oURipIBKkqcZAOOwrSpGMalSEdVF+6/wCZc9Rf+kxhL/t/oZyunC3WKv5S5Kbfy5pTSXTl3Z0VFFFZlBRRRQAUUUUAFFFFABRRRQAUUUUAFFFFABRRRQAUUUUAFFFFABRRRQAUUUUAFFFFABRRRQAUUUUAebeOP2uvh78Nr/xhZ65r0mn33gW3s7vVbR9Nu2umivG2WrWsSxF73zpcwR/ZRKXnDQjMqmMejwTLcwJIoYLIoYBkKsAfUHBB9iMivmX9pf8AZJ8d/Gj9onSfidpUvgWz1r4TxqfAFtexmZdXefYdRTUpzbNLaRyoiwRfZvN8lk+0sJmK28f0F448FW/xK8C32h6o95a2+qW/k3BsbySCWPOCdki7TjPGCMMMhlKkqZ19jzW97XS/Tp6X/DqipJe05Vtprv0V+2zv69L2beD4Z/aP8F+NvizqngnQ9Z/tzxBoSv8A2qunWk93Z6RKmzNtdXcaNbW91tkRxbSyLOyNvCFPmrW1T4s+H9E+Jum+D7zUPs/iLV9MutYs7aSCRUuLW2khjndZdvl5ja4hym7diQHGMkcD+zZ8J/HX7PSaf4Gkk8D618M9D01bbRdQsrFdB1bT1iEaR2s1hawCwmBAkcz232NFyka2mAZK47/gpb8D9c+Onw78FaZ4QvNW0XxhJ4qt7Kz1mxs5LgaTY3UM1tqskpUFY0OmyXgR5MKLj7Ng7ylHvWio6t6dldvlTe/LFOzl8XuptXumEdeZvom9NdEru2ybavbbXe1me3/Cf4raB8cfh1pPizwtff2p4d1yH7Rp975EkK3cW4gSIsiqxRsZVsbXUqykqwJ6KqPhfwzYeCvDOnaNpdrFY6XpNrFZWdvEMJbwxoERFHoqqAPpV6tJ8vM+XboZw5uVc+/X1CiiipKCiiigAooooAKKKKACiiigAooooAKKKKACiiigAooooAKKKKACiiigAorjf+Fp3H/QNh/8Cz/8bo/4Wncf9A2H/wACz/8AG6dmFzsqK43/AIWncf8AQNh/8Cz/APG6P+Fp3H/QNh/8Cz/8boswudlRXG/8LTuP+gbD/wCBZ/8AjdH/AAtO4/6BsP8A4Fn/AON0WYXOyorjf+Fp3H/QNh/8Cz/8bo/4Wncf9A2H/wACz/8AG6LMLnZUVxv/AAtO4/6BsP8A4Fn/AON0f8LTuP8AoGw/+BZ/+N0WYXOyorjf+Fp3H/QNh/8AAs//ABuj/hadx/0DYf8AwLP/AMboswudlRXG/wDC07j/AKBsP/gWf/jdH/C07j/oGw/+BZ/+N0WYXOyorjf+Fp3H/QNh/wDAs/8Axuj/AIWncf8AQNh/8Cz/APG6LMLnZUVxv/C07j/oGw/+BZ/+N0f8LTuP+gbD/wCBZ/8AjdFmFzsqK43/AIWncf8AQNh/8Cz/APG6P+Fp3H/QNh/8Cz/8boswudlRXG/8LTuP+gbD/wCBZ/8AjdH/AAtO4/6BsP8A4Fn/AON0WYXOyorjf+Fp3H/QNh/8Cz/8bo/4Wncf9A2H/wACz/8AG6LMLnZUVxv/AAtO4/6BsP8A4Fn/AON0f8LTuP8AoGw/+BZ/+N0WYXOyorjf+Fp3H/QNh/8AAs//ABuj/hadx/0DYf8AwLP/AMboswudlRXG/wDC07j/AKBsP/gWf/jdH/C07j/oGw/+BZ/+N0WYXOyorjf+Fp3H/QNh/wDAs/8Axuj/AIWncf8AQNh/8Cz/APG6LMLnZUVxv/C07j/oGw/+BZ/+N0f8LTuP+gbD/wCBZ/8AjdFmFzsqK43/AIWncf8AQNh/8Cz/APG6P+Fp3H/QNh/8Cz/8boswudlRXG/8LTuP+gbD/wCBZ/8AjdH/AAtO4/6BsP8A4Fn/AON0WYXOyorjf+Fp3H/QNh/8Cz/8bo/4Wncf9A2H/wACz/8AG6LMLnZUVxv/AAtO4/6BsP8A4Fn/AON0f8LTuP8AoGw/+BZ/+N0WYXOyorjf+Fp3H/QNh/8AAs//ABuj/hadx/0DYf8AwLP/AMboswudlRXG/wDC07j/AKBsP/gWf/jdH/C07j/oGw/+BZ/+N0WYXOyorjf+Fp3H/QNh/wDAs/8Axuj/AIWncf8AQNh/8Cz/APG6LMLnZUVxv/C07j/oGw/+BZ/+N0f8LTuP+gbD/wCBZ/8AjdFmFzsqK43/AIWncf8AQNh/8Cz/APG6P+Fp3H/QNh/8Cz/8boswudlRXG/8LTuP+gbD/wCBZ/8AjdH/AAtO4/6BsP8A4Fn/AON0WYXOyorjf+Fp3H/QNh/8Cz/8bo/4Wncf9A2H/wACz/8AG6LMLnZUVxv/AAtO4/6BsP8A4Fn/AON0f8LTuP8AoGw/+BZ/+N0WYXOyorjf+Fp3H/QNh/8AAs//ABuj/hadx/0DYf8AwLP/AMboswudlRXG/wDC07j/AKBsP/gWf/jdH/C07j/oGw/+BZ/+N0WYXOyorjf+Fp3H/QNh/wDAs/8Axuj/AIWncf8AQNh/8Cz/APG6LMLnZUVxv/C07j/oGw/+BZ/+N0f8LTuP+gbD/wCBZ/8AjdFmFzsqK43/AIWncf8AQNh/8Cz/APG6P+Fp3H/QNh/8Cz/8boswudlRXG/8LTuP+gbD/wCBZ/8AjdH/AAtO4/6BsP8A4Fn/AON0WYXOyorjf+Fp3H/QNh/8Cz/8bo/4Wncf9A2H/wACz/8AG6LMLnZUVxv/AAtO4/6BsP8A4Fn/AON0f8LTuP8AoGw/+BZ/+N0WYXOyorjf+Fp3H/QNh/8AAs//ABuj/hadx/0DYf8AwLP/AMboswudlRXG/wDC07j/AKBsP/gWf/jdH/C07j/oGw/+BZ/+N0WYXOyorjf+Fp3H/QNh/wDAs/8Axuj/AIWncf8AQNh/8Cz/APG6LMLnZUVxv/C07j/oGw/+BZ/+N0f8LTuP+gbD/wCBZ/8AjdFmFzsqK43/AIWncf8AQNh/8Cz/APG6P+Fp3H/QNh/8Cz/8boswudlRXG/8LTuP+gbD/wCBZ/8AjdH/AAtO4/6BsP8A4Fn/AON0WYXOyorjf+Fp3H/QNh/8Cz/8bo/4Wncf9A2H/wACz/8AG6LMLnZUVxv/AAtO4/6BsP8A4Fn/AON0f8LTuP8AoGw/+BZ/+N0WYXOyorjf+Fp3H/QNh/8AAs//ABuj/hadx/0DYf8AwLP/AMboswudlRXG/wDC07j/AKBsP/gWf/jdFFmFzmaKK434/wB34UsfhLqsvjbxI/hHwyph+16qniCbQWtW85PKxeQyxPGWk2JgOPM3bCGDlTTdtSIq7sdlRXhv7KfjH4geKJdYh1KTxHrngmGFf7C8R+K9Cj8O+IL9yF3CW0RULqHMo8yWy09kEcYWG5VzcV5n8G/g9+1hovxg0O88XeOft/hOC+WTUbX/AITnR7vzrfPK+TF4Js5H/wB1buE/9NB1q+X31Dv/AFr2t1IcrQc+3Tq/TufX1FFFSUFFFFABRRRQAUUUUAFFFFABRRRQAUUUUAFFFFABRRRQAUUUUAFFFFABRRRQB538UP2u/hP8EPGdn4b8afE/4d+EPEWpRpLaaXrfiOz0+9ukdyiNHDLIrsrOrKCAQSCByK9Er87Nf/aLh/ZW/Z6+Lvh5fFPwu8K/Hm88V+JtbufDfj7TjfXfxLimuLo6bDY263dnLeLc2v2G1hki89U8o2/ls8ZVfR9I0/xV4z+PXxs1S11Lxl/bngHwpoV94U8LWetXllo9lqUul3bFDYxSpHMHkEamGcPHlFO0MC1YVa6p03UavZJu3W8XJ8q62s0tU27XUDSdNqtGmvtOUVfvF2u+yd0+qSvZyaPsys/xP4u0nwTpi3utapp+kWclxDaLPe3KW8TTTSLFDGGcgb5JHRFXqzMqjJIFfmn+zR+03feH/hH8RNd1nx5Y+KNPsPh9JfeLNK8O/GHVvE3im21IPEr3U0V5ZWg8NMBLcCWCIRCIqTHFGbY44288af8AC6f2Y/jNpepeLo9W+H3gvxz4F16C+8PfF/V/GVno9k9/bf2hKmvzC3umhiSCSZwzMts6yOrqUBj6ZR5aihJreN30Sc3Bu76WTknva3Mou6WNOalJRd022l68vMl69Gtr3s5aX/W6ivzF/aD+N+qaJ8eXs/DPxU8JaV4XstF0Wf4War4k+Nms6Xb6zGyb5bmCCK2uk8UvJMBFJHcXM0mBEoSIziWX6m/ZE8MXPjf9oL4z+KNa8S+NdUuvDXjy60jSLCXxHerpOnWraZpzNEtisi28g3u7gyxuyM7FCmTU07zbS6KT/wDAZRjtve8lfotbNk1Z8jS7uK/8CjKX4KLt38j3rUfiNoOlajqtjNrGnjUNDsF1S/sknWS6tLVvMCTvCpLhGMMoVtuGMbgZKkVJ4C8c6X8TvA+j+JNDuvt2i+ILGHUbC48t4/Pt5kEkb7XAZcqwOGAIzyAa+Lvjf4b8HeG/+CnHj7UvE3iTU9B13xJ8LbAeFbKbxhfadbeIrmBtZW6hisluEgvTDE0LtC0cgjMol2q0hdsj9kIXX7PWkfBuSz8QfEfWNL8T/AS88Q61prazcao1xdWEWii3ewtJ3NvayrHdXCLHbJDHIXXerFVIVJ80ZydrRV79NFWk0/lS+T3vfToqUpLEQoQ1ur/hSenp7R+tultfv6ivyN8H/tT614i+GXxvXwL8QbmHQpvh/pGtWE+h/GLUfiDdaJfSak0Tsb68iBsbzyZEEtpFJLEu1D0bL/ef7NGgzfC/9qn4q+CrXXvFmreHrLSdC1u2h1/X7zWpra6u31GO4Mc13JJKkbi1hIhVhEhDFEXc2ajFvfTS/npJxfyvFtdbW0V3bl+sR53DqrfdJKS/Bq/nfVpJv3+ivgX9uv4y3Hhb4v8AxUgm8feLPDXxS0HSdOuPg14bsNburKHxRcvExKxaekqwaw8l4DDNHNHN5ESo2IQ4kb2T9j/wzd+N/j78ZfFGveJPGmpX3hvx3daRpWnS+I70aTpts2maczRLZLKLeQb3d1MqSMjOxQpk5VG9RX8pP5RlGP33mr9tdyq0/ZtLu0vPWLldrorRfL/N5WZ9LUV+eH/BTf4veMvCX7U99pl3488J/Dvw5D4NtrvwXqPiT4raj8PrEaybi6F1cKLaznh1mSIJYbrK5YoiMP3LC4Zqx/2t/jGsHjr4jTeMPid4q8MfErR9V8Lx+AvDmkeMdS0KK/0qX+z2uLyPTLeeIXyPczahHLJcQyCNIArbAhFKPvLmW3/BtZd5dbdru+jtvUjyb9r9u34e8lfXXS1rN/pPQTgV8E/FD9q2TwT4u+IngW+8fX2n+PJfjh4XGkaG2qyrqf8AYNxe6CrvDCG8wadJ5lxGzqPILSSRk7mZTyek/tWy6z/wU68I2PhnXrqwOpePdY8LeI9D1P4qX2patNbw6fqDK03hZo2stMtTNaRPb3UUiyyRiIsCbiQVdOPtIQnF/Enp2ahTk0/T2iT6pp6ClBxhOcvsuS+5y1X+JRbj3utep+gXw1+KOg/F74f6f4p8O6gt/oOqRNNbXZieASIrFSSsiqy4Kn7wHStHwt4q0vxz4bsdZ0XUrDWNH1SBLmzvrG4S4truJxlZI5EJV1YEEMpIINeCf8E99GXxH/wTj8G6e32gLfaJdW58id7eX55Z1+SRCro3PDKwIPIIPNfIf7M/iz4ffDv9iH9nvRL74p+I/DfgBZxpnxSvo/iLqUD+GdYh0o+Rpd5ffbBNocX2lRmCKS2QypFEQBMUkyhK8ZN9OS3nzNp6dlZa92k97jcfc5/N3+6/+fyTfQ/UaivFf+CfnizXvGn7Mem32uX2ravF/aeqQaJqepqRearo0d/PHpt1IzfNIZbNYH81vmlDCQklyx9qrWUbO39f8P3M4u/bqtHdaaaPquz6rUKKKKkYUUUUAFFFFABRRRQAUUUUAFFFFABRRRQAUUUUAFFFFABRXxd+198Tbvwp+0XrFlpfjrxbY/Daa0s0+LVxp91LIPAyOyC1ntrrz1fTGnhyLryVPk2xW7/0d2E8v1F8Ybrwpa/BnWJvFniL/hHPCC2Wb7Wf+Eim0X7JBx+9/tCKWKSHt+8WVTz97mknel7Xza+7rfs+j7b2KlG1T2fp07pPTvvr/wAE6+ivCf2VfGvjrxF4t1S1mm8SeJfhvDBu0vxH4s0RNB1q4n81w8SwqI3uYVwVEstlZEIkTI9+Jmmj810T4O/tZQfGi1vrzx15ng9daWea1/4TrR33WPn5MfkDwQkh/dceWLxW7faAf3lVb34w/m6vZbb9t/uTexMtIt9u3X0/pH2BRXm37Wmh+IdS+B2qah4TvtQs/EvhmSHX9Ojtrt7ddSktJBObKbbw0NwiPC6tkYlzwVBHOfsK+KtY+MPww1D4oatca8lt8Ub867oelalKwGi6P5aRWMSQ9IWlhjW5kHLeZcuCxCqAoXk5f3f1tb5v3vK0Xd3aTJe7bz/Tf5L3fnJadT2yiiigAooooAKKKKACiiigAooooAKKKKACiiigAooooAKKKKACiiigAooooAKKh/tG3/57w/8AfYo/tG3/AOe8P/fYoAmoqH+0bf8A57w/99ij+0bf/nvD/wB9igCaiof7Rt/+e8P/AH2KP7Rt/wDnvD/32KAJqKh/tG3/AOe8P/fYo/tG3/57w/8AfYoAmoqH+0bf/nvD/wB9ij+0bf8A57w/99igCaiof7Rt/wDnvD/32KP7Rt/+e8P/AH2KAJqKh/tG3/57w/8AfYo/tG3/AOe8P/fYoAmoqH+0bf8A57w/99ij+0bf/nvD/wB9igCaiof7Rt/+e8P/AH2KP7Rt/wDnvD/32KAJqKh/tG3/AOe8P/fYo/tG3/57w/8AfYoAmoqH+0bf/nvD/wB9ij+0bf8A57w/99igCaiof7Rt/wDnvD/32KP7Rt/+e8P/AH2KAJqKh/tG3/57w/8AfYo/tG3/AOe8P/fYoAmoqH+0bf8A57w/99ij+0bf/nvD/wB9igCaiof7Rt/+e8P/AH2KP7Rt/wDnvD/32KAJqKh/tG3/AOe8P/fYo/tG3/57w/8AfYoAmoqH+0bf/nvD/wB9ij+0bf8A57w/99igCaiof7Rt/wDnvD/32KP7Rt/+e8P/AH2KAJqKh/tG3/57w/8AfYo/tG3/AOe8P/fYoAmoqH+0bf8A57w/99ij+0bf/nvD/wB9igCasH4mfDHQ/jF4MufD/iOx/tHR7ySGWW386SHe0MqTRndGysMSRo3B5xg5BIrY/tG3/wCe8P8A32KP7Rt/+e8P/fYpaPcCaiof7Rt/+e8P/fYo/tG3/wCe8P8A32KYE1FQ/wBo2/8Az3h/77FH9o2//PeH/vsUATUVD/aNv/z3h/77FH9o2/8Az3h/77FAE1FQ/wBo2/8Az3h/77FH9o2//PeH/vsUATUVD/aNv/z3h/77FH9o2/8Az3h/77FAE1FQ/wBo2/8Az3h/77FH9o2//PeH/vsUATUVD/aNv/z3h/77FH9o2/8Az3h/77FAE1FQ/wBo2/8Az3h/77FH9o2//PeH/vsUATUVD/aNv/z3h/77FH9o2/8Az3h/77FAE1FQ/wBo2/8Az3h/77FH9o2//PeH/vsUATUVD/aNv/z3h/77FH9o2/8Az3h/77FAE1FQ/wBo2/8Az3h/77FH9o2//PeH/vsUATUVD/aNv/z3h/77FH9o2/8Az3h/77FAE1FQ/wBo2/8Az3h/77FH9o2//PeH/vsUAUfHPgvT/iP4L1bw/q0c82la5Zy2F5HDcy2skkMqFHVZYmWRCVJG5GVh1BBq/Y2UOm2UNvbxpDb26LHHGgwqKBgAD0AGKT+0bf8A57w/99ij+0bf/nvD/wB9ij+v6+/8Q1dk+n62v99l9yJqKh/tG3/57w/99ij+0bf/AJ7w/wDfYoAmoqH+0bf/AJ7w/wDfYo/tG3/57w/99igCaiof7Rt/+e8P/fYo/tG3/wCe8P8A32KAJqKh/tG3/wCe8P8A32KP7Rt/+e8P/fYoAmoqH+0bf/nvD/32KP7Rt/8AnvD/AN9igCaiof7Rt/8AnvD/AN9ij+0bf/nvD/32KAJqKh/tG3/57w/99ij+0bf/AJ7w/wDfYoAmoqH+0bf/AJ7w/wDfYo/tG3/57w/99igCaiof7Rt/+e8P/fYo/tG3/wCe8P8A32KAJqKh/tG3/wCe8P8A32KP7Rt/+e8P/fYoAmoqH+0bf/nvD/32KKAPXqKKq63rll4Z0W81LUry10/TtPhe5urq5lWGG2iRSzyO7EKqqoJLEgAAk1lKSSu9jVJt2RaorzP4N/tR6R8fddvj4V0LxZqHhG1t/Ng8YSaeLbQ9WfKkJYtK63F5G0brKl3bwSWcqN+7uHYFRh+Cf29PA/xA8aWGgWGh/Gi3vtSuBbRS6l8H/FumWSMe8l1c6bHbxJ/tySKg9avllzctte3X7t9enfdaCl7qbey3fTvv+fbVPVM9ooooqQCiiigAooooAKKKKACiiigAooooAKKKKACiiigAooooAKKKKACiiigAooooAKK8Z/ZV/aWvPi/8LvHfiTxUNJ0u38H+M/E2gmW2R44UsdL1K4to5ZN7sd/lQhnYEKWyQqjAHG6B/wAFSvBM3grXPEviTwv488BeHdP8KT+OdHv/ABDbWUS+K9EhKCS8s4obqWaIDzrUmK9jtpgLuLMY+cIU/fipQ191S01dpRclpvdpN23tGTWkXaqsHTqSpy3UnH5xlyv5JtK+2q7o+mKK+e9c/b+l8I+GNJk1z4NfFjQ/FnibXF0Dw94SupdAOp+IZjaS3jSW9xHqjaeI0gt7h2827jceSV2lnjD+ia18ZNUi/Zr1bxxb+D/EWn6zY6JdaknhrU1to9SiuIY3b7NJtuPs5fcm3ctwYmBBWQqQ1TWkqVOVWe0Vd/dfTv8Ao9HqFKLqTjCO8tvvtf0un9x6BRXwT4D/AOClnxS8beIv2cNUuvhT8QIG+JPgrWtW1DwjpsWhPN4iuYYNEmhvbWZ9QeK2tFF5dlRdXdvIR8roZDErfQWu/txIfgT4Z8f+E/hd8UviHp3iLT5tTlstCt9NhvNHihA80XP269tovMVyUEcMkruyOUV1UtV1/wBy2qjtZtP5Npv0Vnd7R+1bUml+8hCcNedXX9d3079LnulFfMviz/gqV4RsLq2Xwr4J+I/xItrjwLYfElrzw7aWC20OhXhuQlyz3l3b/MotmYwrmZg6+Wkm2QJ7V41+PHhX4efAjUviXrGqLZ+C9I0R/EV1qDQyHy7FITO0nlhd5PljIULuJ4xnilJOPNzfZun3Vm1qt94yXm4yS2dnFOUowjq5JNed0mrfKUXbe0k+qOwor5k1v/gqP4Z8BeC/EWpeNPh78VPBOs+G10i5k8Oajp9jdapfWWqX8en2t5bfYru4glT7Q5V4hN9oj2HdCC8Qk9r8L/Ftrr4SXHi7xX4c1z4cw2EFxd39h4gmspLrT4IdxaWRrK4uYNpRPMGyViFI3BWyoJ2hFzlolu3tpv8Ad17bOw4xcrcut3ZW16J/immns01bdHYUV85eH/8Agpl4Pk8E694i8UeFfiB8PdJ0vw23jDTX8QWFt5/iXSAyr9qs7e1uJ5wxaW3X7PcRwXIa5hVoQzEDMsv+Co2i6ZP4wtPF3wu+Kvw/1fwX/wAI093putLo09xcRa9qMmnWUsRstRuI9qzxSGRZHR0VchWJAN+zlqrbf58tvVSTTW6aaaTTM4yUnaLvsvvtb5O6s9mmmtz6gory/wAW/tPw6LqfjjS9F8G+NPGniDwLLp8M2k6NHZrcak16gePyHubmGFVRCWdp5IlUKcFjgHxvUv27dQ+KXxN+AEXhiDxB4Ng8SfEvWvBfjTw9rlnaf2hayWOhatctaStG88YxPbW0yy20zK6FMOyOwKoL20nGD1V/wtf7m0m+jaT3RU/djzy21/BN29Wk7d7O2zt9aUV8+ftaftdeL/2ff2i/g34R8OfDjXPH2n/ESfVYtS/sqXT47q1FraiaPy2vL61QHJLtkPmONgvzlVaxpH/BQnwxq/xeh8O/8Ix40t/Dd94im8H2Hjd4bNvD1/rcJZZNPTZcteI4limhEstrHA0sLIsrM0YfOMlJ8q3vb53S/FySXdtJXbJ5tJPpHd9Nr/gk2+yTb0TZ73RRRVFBRRRQAUUUUAFFFFABRRRQAUUUUAFFFFABRRRQAUUUUAFFFFABRRRQAUV4p8W/27PCvwV+I2reDdZ0fxP/AMJdHawXfhvRoILd7rx4srLGV0oGYLK0UzrHMJmh+zgiWXZbss7exzalFZaW15dstlDDEZpmndVWBQMsXbO0bRnJzjjrii65PadNdemm/wB3Xt1KlFqXK9/80mvvTVu5YorzP4R/tTaL8e/FbQeDdJ8Sa94TW1M6+NIbWOLw7eORGyR2k8siSXyyRyB1uLSKa1IVlM4cbKwrH9vfwNqPjmHw7HoXxpXUJr4acssvwe8XRWIlMnl7mu200W6xbufOMgiC/MX280R1aS3ey6vW22/+d09miejfRf1/Xz7HtNFcf8bPjRpvwG8J2euaxZ6pcaXcarY6VcT2caSLp32q4S3S5n3Ou23SSRPMddxRSWI2qxDfhh8btL+Lfivxppek2erLH4G1caHd39xAI7S9uhbxTyrbNuLSLF5yRu20KJA6Ako2CL5m0ul/w5bv096Kvtdpbg9N/wCt9PXR6b2V9jsqKKKACiiigAooooAKKKKACiiigAooooAKKKKACiiigAooooAKKKKACiiigArF+IXw80X4reEbrQfEGnw6lpd4UZ4ZCVKPG6yRSxupDRyxyIkkciFXjdEdWVlBG1RSaT0ZUZOLutzzP4N/BbxV8JNdvtPufiFqHjLwG9vs07TfEViLvWtLfKqsP9prIrXNqsS4Au4ZrtnZ3kvJchRh+Cf+Cb/7O/w08aWHiTw38Bfgv4f8RaVcC6stV03wTplpe2cw5Ekc0cIdHH95SDXtFFXzPm5uvfr83u35vUmWqcXs+nTttsvRaBRRRUgFFFFABRRRQAUUUUAFFFFABRRRQAUUUUAFFFFABRRRQAUUUUAFFFFABRRRQB8xfCj9iz4lfDHUPGXh5viR4A1T4VeOfEmva5qGjS+A7yPXFh1a5nuJrZNSXV/JBRpyqyfYjwv3cnI479mf/gk9J+yzpniC38Mz/ADS7q48Nz+HNK1fSvgnZaZq11G7xFW1qeK8C6kpWFRNFBHZJMzO2IzsCfZ1FTCEYx5Yr7Kj/wBupOKV97JNper7lVakqk3Um9XJy/7eb5m7batJv/I+LPD3/BKHUPCfwJ1/wfY3v7PptPFWvw6xqXhq5+DIm+H6xxW6xItvoP8AaYMNwZI45nn+1tudM+WOMfQ/7P8A+zVZ/A39lrQ/ha+p3OsafpOkvpLXJjFuPLcMDHDGCwhgjD+XDFubyokjTc23cfTKKJxU4ShLaW672Vvy0IhHklGcd43t83zP8dfLpofMn7OH7Bvin4ReJvg/qHif4iaL4qX4L+G9T8I6Qth4Wk0qS+0+5i0yOFrlmvZ1a4jGnEvJGkaSmcbYotnz8V8Zv+CSLfFX4f8Aw18PTeKPA+vab4CstUsbjSfG/gX/AISXQ9Qa9nSUX0Vgb2FINQt1WSKG5dpgiXM42fOa+0KKK0VVlz1NXr/5Nv8Afff5l05OEVGGiirJdle9v69Nj5Y+Bf8AwTQ/4Ur4Mj0j/hNf7S8v4L6P8IfN/sfyc/2et6v9obfPb/Wfa/8AUZ+Xy/8AWNu49c8cfsy6Z8TP2RdQ+EOtajqH9lat4VPha61CxP2a6VGtfs5nizuCSD7653AEDO4dfS6K0qSc5zqSfvTd29rvmnLpt71Sb0tv2Ssub3oy6xSS9FGEfn7sIrXt3bv8k+Jv+CcfjL4y6Nq138SfixpviHxdejw7ZWl9pHhJtJ06zsdJ1iDVSptHvZ3e6uZYisk3nrGo8rZAmxxJ9O/EXwJp/wAUfh/rnhnVllfS/EWnz6ZeLE+xzDNG0bhW7Haxwe1bNFZ1KcZwdKSXK73VrLXfRd933bberZVOpKDTi9U7r1SSX3JJLskj4j+Ef/BG3S/hv8M/GfhMXXwh0G28Q+HD4esdd8C/Ciy8KeIwyyRyQXmoXkVxJHeTRvDFIVigtYXk3sYsFEjhP7AHxS+L/wAZfjc3xK8TaDdN4z8LeDI9C8VaLoH9n6dHqejapql/Gv8AZr39xcGOGR7J5BJcATebIqOg4j+4qK1dRu9+qt+PNp53d7/8AzjFQ+DTVP7mmv8A0labb23PkX4if8E4PGnxf8CePYfFHxP8M6x4k8faxouq3qP4JkHhiaPTkWNtPudL/tAy3VjOgPmQy3hJZiS7IBGIv2cf+CU0PwAf4fvD4k8LWsfgf4jap8Qf7N8NeDl0LSGa+0a50xrG1tVupRaxRtcmVTukJC7CCSZK+v6KjD/uZSnS0crp+d+W/wD6Stv1d5qU4zUYz15dvmpL8pyXz8lbyL9pj9nXxB8XPGvw78WeD/FGj+FfFXw71O5u7ebV9Ck1qxvLa6tJLa4geCO6tXDlXRkkEvyNHyjgkV5/4c/4J965ovxKt7eb4iwzfCXS/G8/xD07wtHoJj1SPVZp3u2im1M3LJJYrezT3KwrapKGMamdkQq/07RRH3Zcy3un8000/VOKa7Pbd3uSUoOD2luu+jWvyk16O21gooooAKKKKACiiigAooooAKKKKACiiigAooooAKKKKACiiigAooooAKKKKAPBfjr+xzr3xq+KUnjRfiFdaH4h8MrC3gA2unv9k8MyjBunu4ftAGoi7/1Mqkw4tsRxGKQvcP7J4q8F6b8QPCVxoviCys9W0++iEd1BLF+6lIIIIBJKkMAykHKkAg5ANa1FLlXJ7O2n+ej+/qD+Ln66eWySX5f1dnmfwj+Cnij4O+K2tYPiFqniTwALUpbaR4jt21LWNNlAjWNYtWMqzTQBVcsL1Lq5eSQsboKBHWFY/wDBNv8AZ10vxzD4otfgH8FrfxNb3w1SLV4vBGmJfR3Yk8wXCzCHeJRJ8+8Hdu5znmvaaKcdGpLdbPrvfff8e3YOjXR9On3bHEftLeEv+E+/Z38daH/wj8vittW0G9tE0aKeK3k1RngdVgWSVljjZyQA7soUkEkYrM/Y/wD2f/8AhmD9nDwt4Ln1O517VtNtTNrOsXJzca1qU7tPe3kp7vNcSSyH/fx2r0qiiPu81vtWv8r2/wDSnf5dglaXLf7N/wAbb+ltPV9wooooAKKKKACiiigAooooAKKKKACiiigAooooAKKKKACiiigAooooAKKKKAM7+xLn/oMaj/3xB/8AG6P7Euf+gxqP/fEH/wAbrRooAzv7Euf+gxqP/fEH/wAbo/sS5/6DGo/98Qf/AButGigDO/sS5/6DGo/98Qf/ABuj+xLn/oMaj/3xB/8AG60aKAM7+xLn/oMaj/3xB/8AG6P7Euf+gxqP/fEH/wAbrRooAzv7Euf+gxqP/fEH/wAbo/sS5/6DGo/98Qf/AButGigDO/sS5/6DGo/98Qf/ABuj+xLn/oMaj/3xB/8AG60aKAM7+xLn/oMaj/3xB/8AG6P7Euf+gxqP/fEH/wAbrRooAzv7Euf+gxqP/fEH/wAbo/sS5/6DGo/98Qf/AButGigDO/sS5/6DGo/98Qf/ABuj+xLn/oMaj/3xB/8AG60aKAM7+xLn/oMaj/3xB/8AG6P7Euf+gxqP/fEH/wAbrRooAzv7Euf+gxqP/fEH/wAbo/sS5/6DGo/98Qf/AButGigDO/sS5/6DGo/98Qf/ABuj+xLn/oMaj/3xB/8AG60aKAM7+xLn/oMaj/3xB/8AG6P7Euf+gxqP/fEH/wAbrRooAzv7Euf+gxqP/fEH/wAbo/sS5/6DGo/98Qf/AButGigDO/sS5/6DGo/98Qf/ABuj+xLn/oMaj/3xB/8AG60aKAM7+xLn/oMaj/3xB/8AG6P7Euf+gxqP/fEH/wAbrRooAzv7Euf+gxqP/fEH/wAbo/sS5/6DGo/98Qf/AButGigDO/sS5/6DGo/98Qf/ABuj+xLn/oMaj/3xB/8AG60aKAM7+xLn/oMaj/3xB/8AG6P7Euf+gxqP/fEH/wAbrRooAzv7Euf+gxqP/fEH/wAbo/sS5/6DGo/98Qf/AButGigDO/sS5/6DGo/98Qf/ABuj+xLn/oMaj/3xB/8AG60aKAM7+xLn/oMaj/3xB/8AG6P7Euf+gxqP/fEH/wAbrRooAzv7Euf+gxqP/fEH/wAbo/sS5/6DGo/98Qf/AButGigDO/sS5/6DGo/98Qf/ABuj+xLn/oMaj/3xB/8AG60aKAM7+xLn/oMaj/3xB/8AG6P7Euf+gxqP/fEH/wAbrRooAzv7Euf+gxqP/fEH/wAbo/sS5/6DGo/98Qf/AButGigDO/sS5/6DGo/98Qf/ABuj+xLn/oMaj/3xB/8AG60aKAM7+xLn/oMaj/3xB/8AG6P7Euf+gxqP/fEH/wAbrRooAzv7Euf+gxqP/fEH/wAbo/sS5/6DGo/98Qf/AButGigDO/sS5/6DGo/98Qf/ABuj+xLn/oMaj/3xB/8AG60aKAM7+xLn/oMaj/3xB/8AG6P7Euf+gxqP/fEH/wAbrRooAzv7Euf+gxqP/fEH/wAbo/sS5/6DGo/98Qf/AButGigDO/sS5/6DGo/98Qf/ABuj+xLn/oMaj/3xB/8AG60aKAM7+xLn/oMaj/3xB/8AG6P7Euf+gxqP/fEH/wAbrRooAzv7Euf+gxqP/fEH/wAbo/sS5/6DGo/98Qf/AButGigDO/sS5/6DGo/98Qf/ABuj+xLn/oMaj/3xB/8AG60aKAM7+xLn/oMaj/3xB/8AG6P7Euf+gxqP/fEH/wAbrRooAzv7Euf+gxqP/fEH/wAbo/sS5/6DGo/98Qf/AButGigDO/sS5/6DGo/98Qf/ABuj+xLn/oMaj/3xB/8AG60aKAM7+xLn/oMaj/3xB/8AG6P7Euf+gxqP/fEH/wAbrRooAzv7Euf+gxqP/fEH/wAbo/sS5/6DGo/98Qf/AButGigDO/sS5/6DGo/98Qf/ABuj+xLn/oMaj/3xB/8AG60aKAM7+xLn/oMaj/3xB/8AG6P7Euf+gxqP/fEH/wAbrRooAzv7Euf+gxqP/fEH/wAbo/sS5/6DGo/98Qf/AButGigDO/sS5/6DGo/98Qf/ABuj+xLn/oMaj/3xB/8AG60aKAM7+xLn/oMaj/3xB/8AG6P7Euf+gxqP/fEH/wAbrRooAzv7Euf+gxqP/fEH/wAborRooA//2Q==)\n",
        "\n",
        ">*Fig. 4: Comparison Operators*"
      ]
    },
    {
      "cell_type": "code",
      "metadata": {
        "id": "MYOyiFnl-UTv"
      },
      "source": [
        "#Declaration of data\n",
        "size_1, size_2, size_3 = 1, 2.0, \"1\"\n",
        "true_size = 1.0"
      ],
      "execution_count": null,
      "outputs": []
    },
    {
      "cell_type": "code",
      "metadata": {
        "colab": {
          "base_uri": "https://localhost:8080/"
        },
        "id": "m55CQ94v-u-a",
        "outputId": "5be3ad41-0596-47ff-8858-fd29b9d82941"
      },
      "source": [
        "#Equality =  Python checks whether two variables point to the same object in memory. [5]\n",
        "size_1==true_size"
      ],
      "execution_count": null,
      "outputs": [
        {
          "output_type": "execute_result",
          "data": {
            "text/plain": [
              "True"
            ]
          },
          "metadata": {},
          "execution_count": 28
        }
      ]
    },
    {
      "cell_type": "code",
      "metadata": {
        "colab": {
          "base_uri": "https://localhost:8080/"
        },
        "id": "X0fWOns6-2IB",
        "outputId": "89309192-0c31-4137-dcd2-d723947c9dde"
      },
      "source": [
        "#Non-Equality =  It returns true if operands on either side are not equal to each other, \n",
        "#and returns false if they are equal. [6]\n",
        "size_2 != true_size"
      ],
      "execution_count": null,
      "outputs": [
        {
          "output_type": "execute_result",
          "data": {
            "text/plain": [
              "True"
            ]
          },
          "metadata": {},
          "execution_count": 30
        }
      ]
    },
    {
      "cell_type": "code",
      "metadata": {
        "id": "OnQcJ6VA-_n3"
      },
      "source": [
        "##Inequality \n",
        "s1=size_1>size_2\n",
        "s2=size_1<size_2/2\n",
        "s3= true_size >= size_1\n",
        "s4=size_2<=true_size\n"
      ],
      "execution_count": null,
      "outputs": []
    },
    {
      "cell_type": "markdown",
      "metadata": {
        "id": "XyTxAGQn_5Dd"
      },
      "source": [
        "###Logical"
      ]
    },
    {
      "cell_type": "markdown",
      "metadata": {
        "id": "vLUP3bToIGht"
      },
      "source": [
        ">Logical Operators are used to perform logical operations on the values of variables. [7] :\n",
        "![plee4.jpg](data:image/jpeg;base64,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)\n",
        "\n",
        ">*Fig 5: Logical Operators*"
      ]
    },
    {
      "cell_type": "code",
      "metadata": {
        "colab": {
          "base_uri": "https://localhost:8080/"
        },
        "id": "Dy0vmcoK_7ha",
        "outputId": "677828c3-bb29-42a0-b4e4-0707ef274e0b"
      },
      "source": [
        "size_1 == true_size\n"
      ],
      "execution_count": null,
      "outputs": [
        {
          "output_type": "execute_result",
          "data": {
            "text/plain": [
              "True"
            ]
          },
          "metadata": {},
          "execution_count": 31
        }
      ]
    },
    {
      "cell_type": "code",
      "metadata": {
        "colab": {
          "base_uri": "https://localhost:8080/"
        },
        "id": "HPhxFOqMAGJ7",
        "outputId": "821e91d9-05be-438a-c0e3-77292e4d528c"
      },
      "source": [
        "size_1 is true_size "
      ],
      "execution_count": null,
      "outputs": [
        {
          "output_type": "execute_result",
          "data": {
            "text/plain": [
              "False"
            ]
          },
          "metadata": {},
          "execution_count": 32
        }
      ]
    },
    {
      "cell_type": "code",
      "metadata": {
        "colab": {
          "base_uri": "https://localhost:8080/"
        },
        "id": "rcYBZ3xNAZCi",
        "outputId": "b4d02536-af42-4020-b039-7edad2e4316c"
      },
      "source": [
        "size_1 is not true_size"
      ],
      "execution_count": null,
      "outputs": [
        {
          "output_type": "execute_result",
          "data": {
            "text/plain": [
              "True"
            ]
          },
          "metadata": {},
          "execution_count": 33
        }
      ]
    },
    {
      "cell_type": "code",
      "metadata": {
        "colab": {
          "base_uri": "https://localhost:8080/"
        },
        "id": "szcbKgo_AfSy",
        "outputId": "cf805254-0088-46a8-fdaa-49d934142b5d"
      },
      "source": [
        "P, Q = True, False\n",
        "conj = P and Q\n",
        "conj"
      ],
      "execution_count": null,
      "outputs": [
        {
          "output_type": "execute_result",
          "data": {
            "text/plain": [
              "False"
            ]
          },
          "metadata": {},
          "execution_count": 34
        }
      ]
    },
    {
      "cell_type": "code",
      "metadata": {
        "colab": {
          "base_uri": "https://localhost:8080/"
        },
        "id": "28vYOMkhA9Ky",
        "outputId": "daea1b2c-d7a5-4cfb-ecfc-097e341449d1"
      },
      "source": [
        "disj = P or Q\n",
        "disj"
      ],
      "execution_count": null,
      "outputs": [
        {
          "output_type": "execute_result",
          "data": {
            "text/plain": [
              "True"
            ]
          },
          "metadata": {},
          "execution_count": 35
        }
      ]
    },
    {
      "cell_type": "code",
      "metadata": {
        "colab": {
          "base_uri": "https://localhost:8080/"
        },
        "id": "hAHOKmylBIQx",
        "outputId": "6067d350-43d9-41d3-b64a-891920dc7d1e"
      },
      "source": [
        "nand = not(P and Q)\n",
        "nand"
      ],
      "execution_count": null,
      "outputs": [
        {
          "output_type": "execute_result",
          "data": {
            "text/plain": [
              "True"
            ]
          },
          "metadata": {},
          "execution_count": 36
        }
      ]
    },
    {
      "cell_type": "code",
      "metadata": {
        "colab": {
          "base_uri": "https://localhost:8080/"
        },
        "id": "Z006drNSBWFf",
        "outputId": "cc3c2585-42dc-4b9d-d791-95ba3133770f"
      },
      "source": [
        "xor=(not P and Q) or (P and not Q)\n",
        "xor"
      ],
      "execution_count": null,
      "outputs": [
        {
          "output_type": "execute_result",
          "data": {
            "text/plain": [
              "True"
            ]
          },
          "metadata": {},
          "execution_count": 37
        }
      ]
    },
    {
      "cell_type": "markdown",
      "metadata": {
        "id": "SPnHLrE2ByX2"
      },
      "source": [
        "#Input and Output\n",
        "\n"
      ]
    },
    {
      "cell_type": "markdown",
      "metadata": {
        "id": "yVmMVAoOJY-V"
      },
      "source": [
        ">Output use the print() function to display data to the screen. \n",
        "![plee5.jpg](data:image/jpeg;base64,/9j/4AAQSkZJRgABAQEAYABgAAD/4QAiRXhpZgAATU0AKgAAAAgAAQESAAMAAAABAAEAAAAAAAD/2wBDAAIBAQIBAQICAgICAgICAwUDAwMDAwYEBAMFBwYHBwcGBwcICQsJCAgKCAcHCg0KCgsMDAwMBwkODw0MDgsMDAz/2wBDAQICAgMDAwYDAwYMCAcIDAwMDAwMDAwMDAwMDAwMDAwMDAwMDAwMDAwMDAwMDAwMDAwMDAwMDAwMDAwMDAwMDAz/wAARCABXAckDASIAAhEBAxEB/8QAHwAAAQUBAQEBAQEAAAAAAAAAAAECAwQFBgcICQoL/8QAtRAAAgEDAwIEAwUFBAQAAAF9AQIDAAQRBRIhMUEGE1FhByJxFDKBkaEII0KxwRVS0fAkM2JyggkKFhcYGRolJicoKSo0NTY3ODk6Q0RFRkdISUpTVFVWV1hZWmNkZWZnaGlqc3R1dnd4eXqDhIWGh4iJipKTlJWWl5iZmqKjpKWmp6ipqrKztLW2t7i5usLDxMXGx8jJytLT1NXW19jZ2uHi4+Tl5ufo6erx8vP09fb3+Pn6/8QAHwEAAwEBAQEBAQEBAQAAAAAAAAECAwQFBgcICQoL/8QAtREAAgECBAQDBAcFBAQAAQJ3AAECAxEEBSExBhJBUQdhcRMiMoEIFEKRobHBCSMzUvAVYnLRChYkNOEl8RcYGRomJygpKjU2Nzg5OkNERUZHSElKU1RVVldYWVpjZGVmZ2hpanN0dXZ3eHl6goOEhYaHiImKkpOUlZaXmJmaoqOkpaanqKmqsrO0tba3uLm6wsPExcbHyMnK0tPU1dbX2Nna4uPk5ebn6Onq8vP09fb3+Pn6/9oADAMBAAIRAxEAPwD866KKK7DnCiiigAooooAKKKKACiiigAooooAKKKKACiiigAooooAKKKKACiiigAooooAKKKKACiiigAooooAKKKKACiiigAooooAKKKKACiiigAooooAKKKKACiiigAooooAKKKKACiiigAooooAKKKKACiiigAooooAKKKKACiiigAooooAKKKKACiiigAooooAKKKKACiiigAooooAKKKKACiiigAooooAKKKKACiiigAooooAKKKKACiiigAooooAKKKKACiiigAooooAKKKKACiiigAooooAKKKKACiiigAooooAKKKKACiitnwN8P9Y+JWtNp+iWZvrxYXuDGJEjwics2WIHH1q6dOdSXJBNvstSoQlOShBXb0SW7ZjUV1F/8GvEWn+INH0xrGGe58QELpr215Bc294S5TCTRu0RIYYI3cHrjNQ+IfhbrHhO8tbfUBplrdXUvk+Q2q2plt344nQSFoMZ580JjnOMGtZYSuldwdr22e+mnrqtN9UavC1km3B6b6PS+qv6rU52iu28d/CW40Xx9o3h7TbO8bUNUtLMpFPd20wuJ5lHMUkLmMxMx+Qls4IzVfX/AIF+JvC9vDNfWdpBFJdLYu/9o2zLaTsMiO4KyEW7Y7S7MYOehxUsFXTl7jajJxbSdrp2av3u1pvqu5csDXTa5G7Wvo9Lq+vbQ5Giu1+K/wAENQ+FBtmub7R7uO4treYiDUrWSZGliEm3yklZyozgSY2sMEHBFWviZ8FLf4TfD7w1eatrD/8ACVeJrWPVotFhtBJHZ6dKCYZp7jzBtmkxvWFY2xGyszqTsrHEUZ0ZuFVWadmvPX/J+VtdjOth6lKfs6is7X+Xf+uum5wFFdDrnhDT9L+Heg6xBrlteahq091FdaYiqJdOWIxhHc7ySJA5Iyqj5DgnnHa+Ifgp4N0j4NWvjG38XeJriHUru40+0tpPDUEbNcRRq/7xhfMFjO9RuAYjk7TjB4Z4ylCzlfVtLR7rTt/w/Q5fbRul3bS33V7/AJP5a7HlNFetfET9lXV9H0nTdS0G3N7YXHhiz8QXKTaja/bNr26STyR2+5ZngRiw3KjAbWBYlWxz+ifCcXXwM17xZcQ3EzWdxaw2slpqNk8dtveRXF1B5n2hC20eWQgBwxORg1McdQlDnUlulur3bsl94RrQcVJPe34nC0V12i/A3xFrnhO21xU0ey02+8z7LLqOt2WntdCM7XMSTzI8gDZXKgjII6giuRrohVhNtRabW9nt6lRknsworrPCXwU8QeNPDZ1i1i0u10vzzapdanq9npsU0oAZkja5lj8wgEE7c4yM4yKd4M+BviTx+tw+m2untb212unm5udUtLS3muGzthilmkVJXIBIWNmJGD0INTLFUVe8lpvqtPUn20Ertq3qcjRXbeH/ANnbxh4k07VLyPS4rO10S8On6hNqV9b6dHZXA/5ZyG4kQI2eMHGTx14rY8C/sp+IvFmv+KNLvpNN0G+8KWlxNdW9/qFrby+ZGoIXbJMhEbZH78ZjAIO45Gc547DwTcprTV6ry6fNfeu4pV6cd2t7fO9vzPMaK6rRvgxr/iDXdSsLOPS5jo6LJe3Y1e0Gn2ysQFLXZl+z/MzBR+85bgZIIrTs/wBmPxxe67q+nLoqx3GgwR3V+899bw29vBJyk3nPIIzERz5isUxznFVLGUI7zXfdbaa/ivvQ5Vqa3kvv9P8ANfejgqK7A/APxd/wnsHhldIaTVrm2W9iEdzDJby2zJ5guBcK5hMO3nzd+wYOSMGok+CviC58ZWugWkWl6pqV5EZ0XTtXtL6FEG7c0k0MrRRhQpLF2XavJwCDT+tUf51tfdbd/TzD2sO6OUoroPHfww1r4bmxbVbe3W31OJprO6tbyG9tbpVYo3lzQu8bFWBDAMSp6gVkaPpUuuapb2cLW0c1y4jRri4jt4gT/ekkZUQe7EAetaRqQlHni0139NyuZWv0K1Fd58VPg9ceGfjHH4T0bTdYa8njs1htLma3uriaaaCNzte3ZomRmclCGPyFc85rH8dfCrVvhyinUptBZmlMJjsddsdQkjYdQ6W8zsmOmWAGeOtZU8VSmotSXvK61WqFGpGVrPdJ/Jq6Obop0MTXEqxxq0kkhCqqjJYnoAK7jxN+zZ4z8IWYnvtJh2LdRWUywahbXMllPL/q47hI5Ga3ZugEoTnjrxWlStTg0pySb2u9/T7xSqQjpJpHC0V0l38I/ENj/wAJR5un7f8AhDJRDrP7+I/Y3M3kAfe+f958uU3Dv05re+I/7OGr/DbwZpGtXWoeHZ49SsftkkMOuWEssebiSFRGiTs86kIrF41IG5geUbGf1yhdLnXvOy13dr/lr813RXtI83LfX/hv8196PPaK9C8Wfss+OvBGk315qWjQwpptul5dQx6lazXVvAxAWZoI5GlERJHz7dvvWRY/BHxRqXiK20mHTN+oXmljWoovtMQ32hh88S5LYH7v5tpO7tjPFKOMw8ouUZxsvNdNfy1JjWptXUlb19P8196OUor0mw/Zl1bUfg1D4wj1Tw2sdxem2S2m1ywhOwQiUsWecYk5A8kr5nfGCK82q6WIp1HJU3dxdn5McKkZq8WFFeheDf2cdX8bfCu68VW+oeHbeCG9gs4obvXLC1Mm8Tli5lnQxMvkjCOAzh9y5VSaz/AnwA8V/EnSVvtI0+3mt5rk2du0+oW1q17OBuMUCyyK0zgEfLGGPI9RUvGUFzXmlyuz1WjF7aC1bXb+vuf3M42ipLu0m0+7lt7iKSGeFzHJHIpV42BwVIPIIPGDXdfBn4Aah8Z9O166tdQ0exj0OwlvCLvUrWB5WTZhSssqMkZ3jMxGxTwTk4q6tenTg6k3aK6lTqRgry9PvOBor1bw5+zLeeJfhLr+rW81i+saDrdvYTudasU0uO3khkYublnERPmCNQRLglsYJ6czB8BPFkvizWNFk0tbG+8PYOpNfXcFnbWQJCqXnldYgHLLsO/D7ht3ZFZRx1CTlFTXu76rsnf01WvmZxxFNq9+tvxt+Zx9Fa/jjwHq3w28RS6TrVm9jfQqrlCyurow3K6OpKujAghlJUjoTS+B/AOrfEfWm0/R7Vbi4jgkuZWkmjt4beGNdzySSyMscaKOrOwGSBnJFbe2hye0uuXe99Ld7mnNG3NfQx6K6j/hTuvT+OLDw3Zw6fq2sanj7PFpep2uoI2c9ZIJHjXAUltzDao3HC81Yi+BHiS88XaboNjHo+ratqwkNrb6XrdlqBfYpZgWgmdVOASAxBbHGan61RW81tfdbd/TR/cJ1ILdrv8ALucfRXWal8EPEmm+KdO0P7LZ3msapKYIbKw1K2vp0kBAZJUhkcwsM8iTaRhs/dOJNc+AfizQbjSI20yPUBr05ttPl0u9g1KG6mBAMSyW7yJ5gyMoTuAIOMUvrVF299a7arX0+5i9tDuu+/T+k/uOPort9W/Z18XaPqGk2zafZ3Ta1qI0i0ksdTtb2BrwlQLd5YZHjjk+dTtdlODnoCareOPgV4o+HOg/2nq2nwQ2a3X2GZob63uWtLnaW8idInZoZcA/JIFb5WGMg4UcZQla01rtqtfQpVIt2T/r+k/uORorovF/g/TfD3hTw1qFlrtvql1rdrLPeWkcYV9KdJWjEb/OSSwXcMqvBBGQc10HxK+B0Phb4WeGfG2g6tNr/hrX3lsJ5ZrIWk+l6jFhpLWVFkkXlGSSNw/zoSdqlWUaxqRlHnW17fO7X3XVr7XtrqrkZKW3n+G/+fom9kzz2iiirKCiiigAooooAKKKKACvVP2R44Z/HuuR3Nw1nbyeG9RWSdVLGFTDgtgcnHXA5NeV1a0vWrzQ5ZJLK7urN5omgkaCVozJGwwyEg8qRwQeDXVg8QqNX2kldWkresWv1OrA4hUMRTrtX5ZJ/c7nr3hz4ieHfAmo/DPS11qHVLbw3rMmralqMFvOLeASSR/u41kjWVtqxbj8g5fjNeUTLDrviqTzLyG0gu7libq4WQxxqzH52CKz478KT7VnUVpiMdOvyqaVou6Wv8sI23vZKEVvfe7bKrY6dSHs2klptford/Nv/gHtviXxb4ZtPjH8PvEFv4p0vULLQk0q0vVgtbxZIRbKoklxJAoZPlONpLHI+WuXbx5pb/Cnxzppu832s65a3lpGY3/fRIbjc2cYGN68MQTnp1rzqitK+aVKvPdJcznJ2vvUcJS3b6wVvV+Vt3mlS7aildW6/wAjh3/lk/nb0foHxs1TR/GY0rW9P1yxmnGl2NjPpphuFuoJIbdYnJYx+Uy5TIIkJ+Ycda7z9t+2uPilqegfFXSYDdeFfE2jadYyz2yl4NI1G2tI4JtPlOP3ci+TvVWA3xurLkc14HRXHiqzr1JVpKzlJydttb33vve++noclbEOpU9pJK/Ly6fLXW+vury9Ar0bxB480m+/ZZ8N+G4rrdrVhr97ez2/lOPLhkiiVG3Y2nJVhgEkY5Fec0Vx1qManLzfZdzjlTUpRk/su/4NfqfQXhj44+GbD4zaHqtxqrLp9j4Bj0SSU28zeXdjTDCYgu3P+tONwG3nOcc1g/DJ/DNl+zr4w0S+8c+HdP1bxTNp1xBbS2mpObb7M85dZWjtWTcRIu3YWHXJFeN0VxvK6dmlJq/L2+zJyW67vUzjhorRN9O3S1unke5/Czxr4Ztvh3Z6T4y8R+Fte8Mw2dw6aPLpF5/belzNvkC2lykKopaUISGuPKIdty5zXhlFFdNHCxpTlOLfva20tfXWyS1d9Xu7K5pTpqF7dT2n4AeNdI0jw1Z6b4n8TeD7rwnNdtLqPh/WdJvbi6hDFVkltJoIGMcrRqNpWeMbgAwwMmz4A+LeiJ8IbjwvY6x4f8OTafr8+pWcviXw9FqsF7azRogDYtblo7hPKXlVVWVyM/KBXhtFYVMtpzk5NvVp9LXXW1rN9Lu7sZ/VY3v536b69LW6v899T1z4mfGOPxt8I/EVjqWvx634k1DximpvPFaNbx30CWkkPnhfLRVBJXCkK3P3RzXUa98Z/CviL9pTx7fLrKW+h+LfDUmj22pyWs5hgmNnAoMiKhl2eZEUJVGPIOCOa+e6Kj+yqKTSurprSysmorRWtpyq3TfQn6pDTfS/4tS/NHs3wR8faP8ADjRfHXhWTxF4dRtcFnLYa1daK2paW727OxSSCe2eUKwlID+QSrIOMHNT+JvjUmq+CfiDper+KNL12+vtL0nTtJm0zS2sbSaKC5WVoY4xBCEWMFh86JnbxnivEqKqeWUpVPaybbvF9N48tne11flSaTS30uU8NFycn1afTpby8l/VrfQ1n8cfClzqmk6fPqklvZal8NI/CN5fraysul3fmFyXTbudAVUMYw3DnG7GK5X4JeLND+BPxSuFm8Q6LrWm69o1zpcup2WnTXVvpjTjasklvdwRmZVKqXQIwKMcbm+WvI6KSyymoyjd2kmmtOrb7ef5XFHCxUOS7tp96tZ7eS8vI9E+OPji98RaZoemzeKvC3iKy0wzyW8Gg6J/ZdtYmQpvyv2W23M5UE4VgNvXJIrh/D+mQ6zrEFrcajZ6TDMSHu7tZWhg4JywiR5Pb5UPJ9Oap0V2UaEaVP2cPPolvr0SX4epvGNo8q/r9D3L43eJdD1r49aT4o8N/ELR4dkNhBHdw2eoLJpsttZxR+a6vbLmMyRfwb22nJTqKxPj/wCJfDPifwlpE0d34Y1Pxp9qlF/feHNNuNPs7q22oUaaOWKFftHmF+YYlUr94k4ryiiuWnl8IclpP3NFtt2bSTt5GNPDxhy2fwpR+SVlfv8A09zY+HfihfBHxA0PWpIftMekahb3rQ5x5ojkVyv47cV7VqXxU8IeBx8QNW0/xF/wkVx481S2urewhs54ZtPiW9W8c3DSoqeYNvlgRNICSTuAr59orTEYKFaanJvTt1s1LXTultYK2FhV+Ly/B3X3P/gn0N8RPHXgm38P/GS603xha6xefES4hu9OsotNu4pIB9uS4dJmkjVFcBmA2sykRk7gSqnhPiNq2h+O/hB4NuYPEOn22s+GdJfS7nR5re5+0TEXk0iyRSLEYSCk2SHdCNhHzEivNKKxw+WwpJKMno0+nSPJbba3zv1Kp0VF813e93trolbbyW1j6y/aB8Q+Gfhn8a/iPrVx4kiu9V1vwquixaGlncfaI557OCPc8hTyPKVAJMiQtkgbcjnD8FfFHwPa+LdF8V3fi62tXtfAw8Py6WdOu3ukvEsWtuWWMxeU2AwcOTlgCgGWHzprmv33ifVJL7Ur271C9mCiS4uZmmlfaoVcsxJOFAAz0AAqpXLDJIexVOpN35VFtW2tay021fn5nPTwSjBRbeyv/wCS+X91HqHhnWdB8Tfs1zeGLzxFp+g6tY+IX1eJb63unjvIXtViKo0EUmHDIOHCghuvBry+iivWpUVTlKSb9539NLafd1uddOHIrLu397uelfDTV9D134I+JPCmqeILHw3eXGq2Oq2dxe29zNb3AijuIpIybeKRkYCZWBKkHBHHWui8GeM/CvizwD8PLDV/E0Phm4+H+o3M1wstncTtqMEs6ThrcxIw80FCm2UoPuHd1A8TornqYGM5OXM02+bS2j5eXS6e6738rGVTCxnFxbdtfxTT++7f/A0Oi+LnjOH4jfFTxJ4gt4GtYNc1S5v44WxujWWVnCnHGQDziui/Z18VaR4f1DxXY6zqUWjweI/Dl1pUN5NDLLDBM7RunmCJXfaTHtJVWIyDivO6K1lhYOh9X2ja3mbVIc6s+6f3O56RfeJNH0D9nzXPCkOtWup6hJ4ntb6FrWG4WG5gS1nRpFMkaEANIow4Vuc4xzXqmrftFeGdY8bfEK1s9a0qyt/FFlozWGqapof9o2KzWdsqSRTQSQSuAxZwHWJiGQHoc18x0VzVMrpVG5Tbu/Tf3Hfa28E+2+ljneEg+r69uslJ9O6+7z1Ow+N3jS+8a+MY3vte0rxGunWUNjbXem6d9gtFhRciKOLyYSqoWZeY16emKX4I69N4c8V3Nxb+KNL8KyNZSw+dqVjJe2d4j7Ue3liSGYMrIzHDxsuUHQ4I46iupYeCpexW1rbL56Wtr10sbumnHk6adun4f1oe9x/FTwH4a+N0k2nrY2Ol+IfDdzo2t32jWlwtja3l2kivc2sE+JfJTfGDHhOFk2LjaDzvwSvfD/wR+PPhvWLnxfourabALlri5022vsWpMEiKGWa3jckswxsDY74ryaiuX+zYcjhzStKPK9tVr5dLu1tNtDL6vHlcLuzVn56Wv62S8vI7r9mr4kWPwl+Nei69qSymwtjNDO0cKzPEs0EkJkCP8r7PM3bTwduO9ekaV+0S3wu8e+E7ibxR4V8WeHdL1eW/lsfDnhtNJMJMXk+eytaW6vKY3bC5ZcxgFgMGvn2itMRl9GvPnqK+lnttr5XW71TQVMNCcm5dVb8/n17/AK39/j+L0Phvxx4Rjm8eeDdW8K6b4tstWmt9D8LHSmjSGT/j5mVLKHLCMkbEaQ8nrgE8zcfE/RZ/gl8RNJa+ZtU17xJa6hZRmKTNxChnLvu24GN68MQTnp1ryais1ldJdXunsls1Lol1Sv5AsPFO/p26X8vNhXvvje0n+Cv7C+n+Edet7my8S+OfE0fia3064XZLZadBbSQRzuh+ZDPJK+zIG5Id3QqT4FRXpS1i497fcnf80vldW1uuiOk1Ptf8U4/k387drMooooAKKKKACiiigAooooAKKKKACiiigAooooAKKKKACiiigAooooAKKKKACiiigAooooAKKKKACiiigAooooAKKKKACiiigAooooAKKKKACiiigAooooAKKKKACiiigAooooAKKKKACiiigAooooAKKKKACiiigAooooAKKKKACiiigAooooAKKKKACiiigAooooAKKKKACiiigAooooAKKKKACiiigAooooAKKKKACiiigAooooAKKKKACiiigAooooAKKKKACiiigAooooAKKKKACiiigAooooAKKKKACiiigAooooAKKKKACiiigAooooAKKKKAP//Z)\n",
        "\n",
        ">We have the input() function to allow to take the input from the user.\n",
        "\n",
        "![plee6.jpg](data:image/jpeg;base64,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)\n",
        "\n",
        ">*Fig. 6: Input and Output*\n"
      ]
    },
    {
      "cell_type": "code",
      "metadata": {
        "colab": {
          "base_uri": "https://localhost:8080/"
        },
        "id": "3tkJWkXlB1iB",
        "outputId": "576ffe66-8c02-4a99-8060-e1fd144f60b2"
      },
      "source": [
        "print(\"Hello World!\")"
      ],
      "execution_count": null,
      "outputs": [
        {
          "output_type": "stream",
          "name": "stdout",
          "text": [
            "Hello World!\n"
          ]
        }
      ]
    },
    {
      "cell_type": "code",
      "metadata": {
        "id": "4wsnoB-bCCaX"
      },
      "source": [
        "cnt = 14000"
      ],
      "execution_count": null,
      "outputs": []
    },
    {
      "cell_type": "code",
      "metadata": {
        "colab": {
          "base_uri": "https://localhost:8080/"
        },
        "id": "YG1O_O8HCG7d",
        "outputId": "13907a00-63c1-4bbb-f497-03e9c005b717"
      },
      "source": [
        "string = \"Hello World!\"\n",
        "print(string,\",Current COVID count is:\", cnt)\n",
        "cnt+=10000"
      ],
      "execution_count": null,
      "outputs": [
        {
          "output_type": "stream",
          "name": "stdout",
          "text": [
            "Hello World! ,Current COVID count is: 14000\n"
          ]
        }
      ]
    },
    {
      "cell_type": "markdown",
      "metadata": {
        "id": "f0nggCjiuHmV"
      },
      "source": [
        ">We use the print() function to have the output of Hello World!. We can also declare variables and add different operations for an output. "
      ]
    },
    {
      "cell_type": "code",
      "metadata": {
        "colab": {
          "base_uri": "https://localhost:8080/"
        },
        "id": "VzKcbT-CC5FT",
        "outputId": "5b5dadc9-bcdb-4d1a-80e3-bd5bd6bd657f"
      },
      "source": [
        "print(f\"{string}, current count is: {cnt}\")"
      ],
      "execution_count": null,
      "outputs": [
        {
          "output_type": "stream",
          "name": "stdout",
          "text": [
            "Hello World!, current count is: 24000\n"
          ]
        }
      ]
    },
    {
      "cell_type": "code",
      "metadata": {
        "colab": {
          "base_uri": "https://localhost:8080/"
        },
        "id": "NSXG3OJ2DwUe",
        "outputId": "7ccb12ba-3def-4bb8-b4d7-f691f7a8a7fd"
      },
      "source": [
        "sem_grade = 86.25\n",
        "name = \"Eugene\"\n",
        "print(\"Hello {}, your semestral grade is: {}\" .format(name, sem_grade))"
      ],
      "execution_count": null,
      "outputs": [
        {
          "output_type": "stream",
          "name": "stdout",
          "text": [
            "Hello Eugene, your semestral grade is: 86.25\n"
          ]
        }
      ]
    },
    {
      "cell_type": "code",
      "metadata": {
        "colab": {
          "base_uri": "https://localhost:8080/"
        },
        "id": "PokH0CciDI6t",
        "outputId": "d4d82c2c-b5c0-472a-d320-b53202e15b9a"
      },
      "source": [
        "pg, mg, fg = 0.3, 0.3, 0.4\n",
        "print(\"The weights of your semestral grades are:\\\n",
        "\\n\\t {:.2%} for Prelims\\\n",
        "\\n\\t {:.2%} for Midterms, and\\\n",
        "\\n\\t {:.2%} for Finals.\" .format(pg, mg,fg)) \n"
      ],
      "execution_count": null,
      "outputs": [
        {
          "output_type": "stream",
          "name": "stdout",
          "text": [
            "The weights of your semestral grades are:\n",
            "\t 30.00% for Prelims\n",
            "\t 30.00% for Midterms, and\n",
            "\t 40.00% for Finals.\n"
          ]
        }
      ]
    },
    {
      "cell_type": "code",
      "metadata": {
        "colab": {
          "base_uri": "https://localhost:8080/",
          "height": 52
        },
        "id": "uU7_uOhmFc9A",
        "outputId": "22781915-911e-45a0-b0dd-eaa9f14b8e62"
      },
      "source": [
        "1e = input(\"Enter a number: \")\n",
        "e"
      ],
      "execution_count": null,
      "outputs": [
        {
          "name": "stdout",
          "output_type": "stream",
          "text": [
            "Enter a number: 7\n"
          ]
        },
        {
          "output_type": "execute_result",
          "data": {
            "application/vnd.google.colaboratory.intrinsic+json": {
              "type": "string"
            },
            "text/plain": [
              "'7'"
            ]
          },
          "metadata": {},
          "execution_count": 44
        }
      ]
    },
    {
      "cell_type": "code",
      "metadata": {
        "colab": {
          "base_uri": "https://localhost:8080/"
        },
        "id": "ExLdeYx0Fytu",
        "outputId": "7297e10c-e6fb-4fd0-bad0-6427f9d99d0d"
      },
      "source": [
        "name = input(\"Enter your name: \")\n",
        "pg=input(\"Enter prelim grade: \")\n",
        "mg=input(\"Enter midterm grade: \")\n",
        "fg=input(\"Enter final grade: \")\n",
        "sem_grade=None\n",
        "print(\"Hello {}, your semestral grade is: {}\" .format(name, sem_grade))"
      ],
      "execution_count": null,
      "outputs": [
        {
          "output_type": "stream",
          "name": "stdout",
          "text": [
            "Enter your name: Shaned\n",
            "Enter prelim grade: 1\n",
            "Enter midterm grade: 1\n",
            "Enter final grade: 1\n",
            "Hello Shaned, your semestral grade is: None\n"
          ]
        }
      ]
    },
    {
      "cell_type": "markdown",
      "metadata": {
        "id": "XJqJLjXvxdtk"
      },
      "source": [
        ">We use the input() function to allow the user to interact with the program. It lets the user for some text input."
      ]
    },
    {
      "cell_type": "markdown",
      "metadata": {
        "id": "01k2PbMiLOp0"
      },
      "source": [
        "#Looping Statements"
      ]
    },
    {
      "cell_type": "markdown",
      "metadata": {
        "id": "jA5y7MZgx9iq"
      },
      "source": [
        ">Looping Statements are used to execute a code repeatedly that is dependent on the code of blocks specified by the user. [8] "
      ]
    },
    {
      "cell_type": "markdown",
      "metadata": {
        "id": "AMOF-DGiLVMk"
      },
      "source": [
        "##While"
      ]
    },
    {
      "cell_type": "markdown",
      "metadata": {
        "id": "AVGuOtvZOZTp"
      },
      "source": [
        ">The While loop can execute a set of statements as long as the condition is true. [9]"
      ]
    },
    {
      "cell_type": "code",
      "metadata": {
        "colab": {
          "base_uri": "https://localhost:8080/"
        },
        "id": "9Z0PLLH0LTeu",
        "outputId": "7508e681-d223-4343-f247-0b057a7c849d"
      },
      "source": [
        "##while loops\n",
        "i, j = 0,10\n",
        "while(i<=j):\n",
        "  print(f\"{i}\\t|\\t{j}\")\n",
        "  i+=1"
      ],
      "execution_count": null,
      "outputs": [
        {
          "output_type": "stream",
          "name": "stdout",
          "text": [
            "0\t|\t10\n",
            "1\t|\t10\n",
            "2\t|\t10\n",
            "3\t|\t10\n",
            "4\t|\t10\n",
            "5\t|\t10\n",
            "6\t|\t10\n",
            "7\t|\t10\n",
            "8\t|\t10\n",
            "9\t|\t10\n",
            "10\t|\t10\n"
          ]
        }
      ]
    },
    {
      "cell_type": "markdown",
      "metadata": {
        "id": "RWn27tz7L6aP"
      },
      "source": [
        "##For"
      ]
    },
    {
      "cell_type": "markdown",
      "metadata": {
        "id": "DibYTPpVPt1i"
      },
      "source": [
        ">A for loop is used for iterating over a sequence, and allows code to be executed repeatedly. [10] "
      ]
    },
    {
      "cell_type": "code",
      "metadata": {
        "colab": {
          "base_uri": "https://localhost:8080/"
        },
        "id": "kpLJ_pBdL8JQ",
        "outputId": "32fd5492-e7d9-43bf-c70c-1b7bd7a25295"
      },
      "source": [
        "#for(int=0; i<10; i++){\n",
        "    #printf(i)\n",
        "    # }\n",
        "\n",
        "i = 0\n",
        "for i in range(11):\n",
        " print(i)\n"
      ],
      "execution_count": null,
      "outputs": [
        {
          "output_type": "stream",
          "name": "stdout",
          "text": [
            "0\n",
            "1\n",
            "2\n",
            "3\n",
            "4\n",
            "5\n",
            "6\n",
            "7\n",
            "8\n",
            "9\n",
            "10\n"
          ]
        }
      ]
    },
    {
      "cell_type": "code",
      "metadata": {
        "colab": {
          "base_uri": "https://localhost:8080/"
        },
        "id": "6dRXpfT8M3G1",
        "outputId": "f0d022a6-3cc3-4b51-9575-4e80fd255764"
      },
      "source": [
        "playlist=[\"Bahay Kubo\", \"Magandang Kanta\", \"Buko\"]\n",
        "print('Now Playing:\\n')\n",
        "for song in playlist:\n",
        "  print(song)"
      ],
      "execution_count": null,
      "outputs": [
        {
          "output_type": "stream",
          "name": "stdout",
          "text": [
            "Now Playing:\n",
            "\n",
            "Bahay Kubo\n",
            "Magandang Kanta\n",
            "Buko\n"
          ]
        }
      ]
    },
    {
      "cell_type": "markdown",
      "metadata": {
        "id": "nmlh78wkNQgI"
      },
      "source": [
        "#Flow Control"
      ]
    },
    {
      "cell_type": "markdown",
      "metadata": {
        "id": "UhQQGFwRQo76"
      },
      "source": [
        ">A program’s control flow is the order in which the program’s code executes.The control flow of a Python program is regulated by conditional statements, loops, and function calls. [11]\n",
        "\n",
        "![python-flow-control-statements (1).png](data:image/png;base64,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)\n",
        "\n",
        ">*Fig 7: Flow Control Statements*"
      ]
    },
    {
      "cell_type": "markdown",
      "metadata": {
        "id": "5uX02BvCNTvy"
      },
      "source": [
        "##Condition Statements"
      ]
    },
    {
      "cell_type": "markdown",
      "metadata": {
        "id": "zve1pOkpRc_7"
      },
      "source": [
        ">Condition Statements allows a program to test several conditions and execute instructions based on which condition is true. [11]\n",
        "\n",
        "\n",
        "*   if\n",
        "*   if-else\n",
        "*   nested if\n",
        "*   if-elif-else\n",
        "\n",
        "\n",
        "\n"
      ]
    },
    {
      "cell_type": "code",
      "metadata": {
        "colab": {
          "base_uri": "https://localhost:8080/"
        },
        "id": "VbK9sYqbNWza",
        "outputId": "32e877a8-dc95-46b8-c63e-cabe1ea70a09"
      },
      "source": [
        "num_1, num_2=14, 12\n",
        "if(num_1==num_2):\n",
        "  print(\"HAHA\")\n",
        "elif(num_1>num_2):\n",
        "  print(\"HOHO\")\n",
        "else:\n",
        "  print(\"HUHU\")\n",
        "  "
      ],
      "execution_count": null,
      "outputs": [
        {
          "output_type": "stream",
          "name": "stdout",
          "text": [
            "HOHO\n"
          ]
        }
      ]
    },
    {
      "cell_type": "markdown",
      "metadata": {
        "id": "vi8jeULlN8Zf"
      },
      "source": [
        "#Functions"
      ]
    },
    {
      "cell_type": "markdown",
      "metadata": {
        "id": "AqToMAo0S6wJ"
      },
      "source": [
        ">A function is defined using the def keyword: [12]\n",
        "\n",
        "![plee7.jpg](data:image/jpeg;base64,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)\n",
        "\n",
        ">*Fig 8: Creating a function*"
      ]
    },
    {
      "cell_type": "code",
      "metadata": {
        "id": "mQgZ-TCIOAe7"
      },
      "source": [
        "#void DeleteUser (int userid) {\n",
        "    #delete(userid);\n",
        "    #}\n",
        "def delete_user (userid):\n",
        "  print(\"Successfully deleted user: {}\" .format(userid))"
      ],
      "execution_count": null,
      "outputs": []
    },
    {
      "cell_type": "code",
      "metadata": {
        "colab": {
          "base_uri": "https://localhost:8080/"
        },
        "id": "zlh6ghD9OjJH",
        "outputId": "c43d7c3f-2328-419a-cebc-3586fe221dd7"
      },
      "source": [
        "userid=2020_100100\n",
        "delete_user(2020_100100)"
      ],
      "execution_count": null,
      "outputs": [
        {
          "output_type": "stream",
          "name": "stdout",
          "text": [
            "Successfully deleted user: 2020100100\n"
          ]
        }
      ]
    },
    {
      "cell_type": "code",
      "metadata": {
        "id": "qVpiAcMcO_yv"
      },
      "source": [
        "addend1, addend_2 = 5,6"
      ],
      "execution_count": null,
      "outputs": []
    },
    {
      "cell_type": "code",
      "metadata": {
        "id": "lGq05pEyOzJd"
      },
      "source": [
        "def add(addend1, addend2):\n",
        "  sum= addend1+addend2\n",
        "  return sum\n"
      ],
      "execution_count": null,
      "outputs": []
    },
    {
      "cell_type": "code",
      "metadata": {
        "colab": {
          "base_uri": "https://localhost:8080/"
        },
        "id": "VIcRBl9BPsDq",
        "outputId": "ff128b0c-f31d-40b8-aa72-d09a27b1e1dc"
      },
      "source": [
        "add(3,4)"
      ],
      "execution_count": null,
      "outputs": [
        {
          "output_type": "execute_result",
          "data": {
            "text/plain": [
              "7"
            ]
          },
          "metadata": {},
          "execution_count": 54
        }
      ]
    },
    {
      "cell_type": "markdown",
      "metadata": {
        "id": "ghHSz9YM62fy"
      },
      "source": [
        "#**References**:\n",
        ">[1] M.  Waseem, “Variables and data types in python: Python \n",
        "for beginners,” Edureka, 15-Jul-2021. [Online]. Available: https://www.edureka.co/blog/variables-and-data-types-in-python/. [Accessed: 14-Sep-2021].\n",
        ">[2] “Python Operators,” Python operators. [Online]. Available: https://www.w3schools.com/python/python_operators.asp. [Accessed: 14-Sep-2021].\n",
        "\n",
        ">[3] Edpresso Team, “Floor division,” Educative. [Online]. Available: https://www.educative.io/edpresso/floor-division. [Accessed: 14-Sep-2021].\n",
        "\n",
        ">[4] J. Gallagher, “How to use the python modulo operator,” Career Karma, 05-Jan-2021. [Online]. Available: https://careerkarma.com/blog/python-modulo/#:~:text=The%20Python%20modulo%20operator%20calculates,then%20the%20remainder%20is%20returned.&amp;text=It%20returns%20the%20remainder%20of%20dividing%20two%20numbers. [Accessed: 14-Sep-2021].\n",
        "\n",
        ">[5] J. De Langen, “Python '!=' is not 'is not': Comparing objects in Python,” Real Python, 07-Nov-2020. [Online]. Available: https://realpython.com/python-is-identity-vs-equality/. [Accessed: 14-Sep-2021].\n",
        "\n",
        ">[6] M. Lathkar, What is difference in python operators != and \"is not\"? [Online]. Available: https://www.tutorialspoint.com/What-is-difference-in-Python-operators-and-is-not. [Accessed: 14-Sep-2021].\n",
        "\n",
        ">[8] “Python loops - for, While, nested loops with examples,” Software Testing Help, 27-Aug-2021. [Online]. Available: https://www.softwaretestinghelp.com/python/looping-in-python-for-while-nested-loops/#:~:text=Looping%20statements%20in%20python%20are,For%20loop. [Accessed: 15-Sep-2021].\n",
        "\n",
        ">[9] Python while loops. [Online]. Available: https://www.w3schools.com/python/python_while_loops.asp. [Accessed: 15-Sep-2021].\n",
        "\n",
        ">[10] Python for loops. [Online]. Available: https://www.w3schools.com/python/python_for_loops.asp. [Accessed: 15-Sep-2021]. \n",
        "\n",
        ">[11] “What are control flow statements in python?,” Educative. [Online]. Available: https://www.educative.io/edpresso/what-are-control-flow-statements-in-python. [Accessed: 15-Sep-2021].\n",
        ">[12] Python functions. [Online]. Available: https://www.w3schools.com/python/python_functions.asp. [Accessed: 15-Sep-2021].\n",
        "\n",
        "\n",
        "\n",
        "\n",
        "\n"
      ]
    }
  ]
}