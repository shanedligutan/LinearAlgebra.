{
  "nbformat": 4,
  "nbformat_minor": 0,
  "metadata": {
    "colab": {
      "name": "Assignment4_LIGUTAN.ipynb",
      "provenance": [],
      "collapsed_sections": [],
      "authorship_tag": "ABX9TyPjObxI5H+W7fCcb1Rhc6mQ",
      "include_colab_link": true
    },
    "kernelspec": {
      "name": "python3",
      "display_name": "Python 3"
    },
    "language_info": {
      "name": "python"
    }
  },
  "cells": [
    {
      "cell_type": "markdown",
      "metadata": {
        "id": "view-in-github",
        "colab_type": "text"
      },
      "source": [
        "<a href=\"https://colab.research.google.com/github/shanedligutan/LinearAlgebra./blob/main/Assignment4_LIGUTAN.ipynb\" target=\"_parent\"><img src=\"https://colab.research.google.com/assets/colab-badge.svg\" alt=\"Open In Colab\"/></a>"
      ]
    },
    {
      "cell_type": "markdown",
      "metadata": {
        "id": "YyUp7d8471Kb"
      },
      "source": [
        "##**Linear Algebra for ECE**\n",
        "\n",
        "**Laboratory 4: Matrices**"
      ]
    },
    {
      "cell_type": "markdown",
      "metadata": {
        "id": "okrmuSy48G90"
      },
      "source": [
        "#**Discussion**"
      ]
    },
    {
      "cell_type": "code",
      "metadata": {
        "id": "jc4Okj3q7AOm"
      },
      "source": [
        "import numpy as np\n",
        "import matplotlib.pyplot as plt\n",
        "import scipy.linalg as la\n",
        "%matplotlib inline"
      ],
      "execution_count": 1,
      "outputs": []
    },
    {
      "cell_type": "markdown",
      "metadata": {
        "id": "R5PhBA9OFiVn"
      },
      "source": [
        "**Matrices**"
      ]
    },
    {
      "cell_type": "markdown",
      "metadata": {
        "id": "KHzL2kPS-kdn"
      },
      "source": [
        "A matrix  (whose plural is matrices) is a rectangular array of numbers, symbols, or expressions, arranged in rows and columns that can work with linear equations. [1] \n",
        ">![Untitled.png](data:image/png;base64,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)\n",
        "\n"
      ]
    },
    {
      "cell_type": "markdown",
      "metadata": {
        "id": "3XtAPLpS9rB9"
      },
      "source": [
        "The notation and use of matrices is probably one of the fundamentals of modern computing. Matrices are also handy representations of complex equations or multiple inter-related equations from 2-dimensional equations to even hundreds and thousands of them."
      ]
    },
    {
      "cell_type": "markdown",
      "metadata": {
        "id": "oCFcChbB8rhJ"
      },
      "source": [
        "Let's say for example you have $A$ and $B$ as system of equation."
      ]
    },
    {
      "cell_type": "markdown",
      "metadata": {
        "id": "Lj_w_wGE9ORy"
      },
      "source": [
        "$$\n",
        "A = \\left\\{\n",
        "    \\begin{array}\\\n",
        "        x + y \\\\ \n",
        "        4x - 10y\n",
        "    \\end{array}\n",
        "\\right. \\\\\n",
        "B = \\left\\{\n",
        "    \\begin{array}\\\n",
        "        x+y+z \\\\ \n",
        "        3x -2y -z \\\\\n",
        "        -x + 4y +2z\n",
        "    \\end{array}\n",
        "\\right. $$"
      ]
    },
    {
      "cell_type": "markdown",
      "metadata": {
        "id": "zOHY6neQ-DWG"
      },
      "source": [
        "We could see that $A$ is a system of 2 equations with 2 parameters. While $B$ is a system of 3 equations with 3 parameters. We can represent them as matrices as:"
      ]
    },
    {
      "cell_type": "markdown",
      "metadata": {
        "id": "0Eoexrt2-QEh"
      },
      "source": [
        "$$\n",
        "A=\\begin{bmatrix} 1 & 1 \\\\ 4 & {-10}\\end{bmatrix} \\\\\n",
        "B=\\begin{bmatrix} 1 & 1 & 1 \\\\ 3 & -2 & -1 \\\\ -1 & 4 & 2\\end{bmatrix}\n",
        "$$"
      ]
    },
    {
      "cell_type": "markdown",
      "metadata": {
        "id": "U3DNdpvb-gU-"
      },
      "source": [
        "##Declaring Matrices"
      ]
    },
    {
      "cell_type": "markdown",
      "metadata": {
        "id": "6N_uK2aS-zkj"
      },
      "source": [
        "Just like our previous laboratory, we'll represent system of linear equations as a matrix. The entities or numbers in matrices are called the elements of a matrix. These elements are arranged and ordered in rows and columns which form the list/array-like structure of matrices. And just like arrays, these elements are indexed according to their position with respect to their rows and columns. This can be reprsented just like the equation below. Whereas $A$ is a matrix consisting of elements denoted by $a_{i,j}$. Denoted by $i$ is the number of rows in the matrix while $j$ stands for the number of columns.\n",
        "Do note that the $size$ of a matrix is $i\\times j$."
      ]
    },
    {
      "cell_type": "markdown",
      "metadata": {
        "id": "FQIMVdyG_Lhl"
      },
      "source": [
        "$$A=\\begin{bmatrix}\n",
        "a_{(0,0)}&a_{(0,1)}&\\dots&a_{(0,j-1)}\\\\\n",
        "a_{(1,0)}&a_{(1,1)}&\\dots&a_{(1,j-1)}\\\\\n",
        "\\vdots&\\vdots&\\ddots&\\vdots&\\\\\n",
        "a_{(i-1,0)}&a_{(i-1,1)}&\\dots&a_{(i-1,j-1)}\n",
        "\\end{bmatrix}\n",
        "$$"
      ]
    },
    {
      "cell_type": "markdown",
      "metadata": {
        "id": "NPceMuMpLLzY"
      },
      "source": [
        "\n",
        "We already gone over some of the types of matrices as vectors but we'll further discuss them in this laboratory activity. Since you already know how to describe vectors using **shape**, **dimensions** and **size** attributes, we'll use them to analyze these matrices."
      ]
    },
    {
      "cell_type": "markdown",
      "metadata": {
        "id": "4OPFfKKNAn4e"
      },
      "source": [
        "NumPy is a package for scientific computing for python that  provides multidimensional array of numbers. [2]\n",
        ">![Untitled11.png](data:image/png;base64,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)"
      ]
    },
    {
      "cell_type": "code",
      "metadata": {
        "id": "qnpdVX1w_8_9"
      },
      "source": [
        "##Making a function\n",
        "def describe_mat(matrix):\n",
        "    print(f'Matrix:\\n{matrix}\\n\\nShape:\\t{matrix.shape}\\nRank:\\t{matrix.ndim}\\n')"
      ],
      "execution_count": 4,
      "outputs": []
    },
    {
      "cell_type": "code",
      "metadata": {
        "colab": {
          "base_uri": "https://localhost:8080/"
        },
        "id": "RJti6MuJAca_",
        "outputId": "47173d7f-a54e-489f-9c35-9166858e200e"
      },
      "source": [
        "##Declaring a 2x2 matrix\n",
        "A=np.array([\n",
        "            [1, 2],\n",
        "            [3, 6]\n",
        "])\n",
        "describe_mat(A)"
      ],
      "execution_count": 5,
      "outputs": [
        {
          "output_type": "stream",
          "name": "stdout",
          "text": [
            "Matrix:\n",
            "[[1 2]\n",
            " [3 6]]\n",
            "\n",
            "Shape:\t(2, 2)\n",
            "Rank:\t2\n",
            "\n"
          ]
        }
      ]
    },
    {
      "cell_type": "code",
      "metadata": {
        "colab": {
          "base_uri": "https://localhost:8080/"
        },
        "id": "E4pvv2w6BEYl",
        "outputId": "124d7d5e-c873-4f03-a50a-fc878bcd1727"
      },
      "source": [
        "G=np.array([\n",
        "            [1,1],\n",
        "            [2,2]\n",
        "])\n",
        "describe_mat(G)"
      ],
      "execution_count": 6,
      "outputs": [
        {
          "output_type": "stream",
          "name": "stdout",
          "text": [
            "Matrix:\n",
            "[[1 1]\n",
            " [2 2]]\n",
            "\n",
            "Shape:\t(2, 2)\n",
            "Rank:\t2\n",
            "\n"
          ]
        }
      ]
    },
    {
      "cell_type": "code",
      "metadata": {
        "colab": {
          "base_uri": "https://localhost:8080/"
        },
        "id": "skxSFwrqC_7s",
        "outputId": "a1edc22d-04f7-4485-f8ca-dffe48f57c6a"
      },
      "source": [
        "##Declaring a 3x2 matrix\n",
        "B=np.array([[\n",
        "            [8,2],\n",
        "            [5,4],\n",
        "            [1, 1]\n",
        "]])\n",
        "describe_mat(B)"
      ],
      "execution_count": 7,
      "outputs": [
        {
          "output_type": "stream",
          "name": "stdout",
          "text": [
            "Matrix:\n",
            "[[[8 2]\n",
            "  [5 4]\n",
            "  [1 1]]]\n",
            "\n",
            "Shape:\t(1, 3, 2)\n",
            "Rank:\t3\n",
            "\n"
          ]
        }
      ]
    },
    {
      "cell_type": "code",
      "metadata": {
        "colab": {
          "base_uri": "https://localhost:8080/"
        },
        "id": "jgby-VtuDhlG",
        "outputId": "5e771268-1469-4f89-c2a1-c00e0bf75a63"
      },
      "source": [
        "H=np.array([1,2,3,4,5])\n",
        "describe_mat(H)"
      ],
      "execution_count": 8,
      "outputs": [
        {
          "output_type": "stream",
          "name": "stdout",
          "text": [
            "Matrix:\n",
            "[1 2 3 4 5]\n",
            "\n",
            "Shape:\t(5,)\n",
            "Rank:\t1\n",
            "\n"
          ]
        }
      ]
    },
    {
      "cell_type": "markdown",
      "metadata": {
        "id": "bFw3g4T9MWJm"
      },
      "source": [
        "##**Categorizing Matrices**"
      ]
    },
    {
      "cell_type": "markdown",
      "metadata": {
        "id": "db5eKDvuMdfx"
      },
      "source": [
        "\n",
        "There are several ways of classifying matrices. Once could be according to their **shape** and another is according to their **element** values."
      ]
    },
    {
      "cell_type": "markdown",
      "metadata": {
        "id": "i00INh8EMm8y"
      },
      "source": [
        "**According to shape**"
      ]
    },
    {
      "cell_type": "markdown",
      "metadata": {
        "id": "O2xNpFFIEJwG"
      },
      "source": [
        "##Row and Column Matrices"
      ]
    },
    {
      "cell_type": "markdown",
      "metadata": {
        "id": "f9zIVsKwEM3D"
      },
      "source": [
        "\n",
        "Row and column matrices are common in vector and matrix computations. They can also represent row and column spaces of a bigger vector space. Row and column matrices are represented by a single column or single row. So with that being, the shape of row matrices would be $1 \\times j$ and column matrices would be $i \\times 1$."
      ]
    },
    {
      "cell_type": "code",
      "metadata": {
        "id": "y2deYyvPES7-",
        "colab": {
          "base_uri": "https://localhost:8080/"
        },
        "outputId": "9eba7460-f0df-412c-abd0-2c7a063c2651"
      },
      "source": [
        "##Declaring a Row Matrix\n",
        "row_mat_1D=np.array([\n",
        "                     1,3,2\n",
        "]) ##this is a 1-D Matrix with a shape of (3,), it's not really considered as a row matrix.\n",
        "row_mat_2D=np.array([\n",
        "                     [1,2,3]\n",
        "]) ##this is a 2-D Matrix with a shape of (1,3)\n",
        "describe_mat(row_mat_1D)\n",
        "describe_mat(row_mat_2D)\n",
        "\n"
      ],
      "execution_count": 10,
      "outputs": [
        {
          "output_type": "stream",
          "name": "stdout",
          "text": [
            "Matrix:\n",
            "[1 3 2]\n",
            "\n",
            "Shape:\t(3,)\n",
            "Rank:\t1\n",
            "\n",
            "Matrix:\n",
            "[[1 2 3]]\n",
            "\n",
            "Shape:\t(1, 3)\n",
            "Rank:\t2\n",
            "\n"
          ]
        }
      ]
    },
    {
      "cell_type": "code",
      "metadata": {
        "id": "XI9qX4UfFQu8",
        "colab": {
          "base_uri": "https://localhost:8080/"
        },
        "outputId": "2d70de83-2c44-4271-a005-6a5d7468eea2"
      },
      "source": [
        "##Declaring a Column Matrix\n",
        "\n",
        "col_mat = np.array([\n",
        "    [1],\n",
        "    [2],\n",
        "    [5]\n",
        "]) ## this is a 2-D Matrix with a shape of (3,1)\n",
        "describe_mat(col_mat)"
      ],
      "execution_count": 12,
      "outputs": [
        {
          "output_type": "stream",
          "name": "stdout",
          "text": [
            "Matrix:\n",
            "[[1]\n",
            " [2]\n",
            " [5]]\n",
            "\n",
            "Shape:\t(3, 1)\n",
            "Rank:\t2\n",
            "\n"
          ]
        }
      ]
    },
    {
      "cell_type": "markdown",
      "metadata": {
        "id": "5-WlisoNFkm4"
      },
      "source": [
        "##Square Matrices "
      ]
    },
    {
      "cell_type": "markdown",
      "metadata": {
        "id": "ohbpv_RuNRPC"
      },
      "source": [
        "\n",
        "Square matrices are matrices that have the same row and column sizes. We could say a matrix is square if $i = j$. We can tweak our matrix descriptor function to determine square matrices."
      ]
    },
    {
      "cell_type": "code",
      "metadata": {
        "id": "YdOIe2fhNlZL"
      },
      "source": [
        "def describe_mat(matrix):\n",
        "    is_square = True if matrix.shape[0] == matrix.shape[1] else False \n",
        "    print(f'Matrix:\\n{matrix}\\n\\nShape:\\t{matrix.shape}\\nRank:\\t{matrix.ndim}\\nIs Square: {is_square}\\n')"
      ],
      "execution_count": 15,
      "outputs": []
    },
    {
      "cell_type": "code",
      "metadata": {
        "colab": {
          "base_uri": "https://localhost:8080/"
        },
        "id": "oJnKq5ZrNpee",
        "outputId": "65b9edfa-7768-47a5-dab1-66678188ee02"
      },
      "source": [
        "square_mat = np.array([\n",
        "    [1,2,5],\n",
        "    [3,3,8],\n",
        "    [6,1,2]\n",
        "])\n",
        "\n",
        "non_square_mat = np.array([\n",
        "    [1,2,5],\n",
        "    [3,3,8]\n",
        "])\n",
        "describe_mat(square_mat)\n",
        "describe_mat(non_square_mat)"
      ],
      "execution_count": 16,
      "outputs": [
        {
          "output_type": "stream",
          "name": "stdout",
          "text": [
            "Matrix:\n",
            "[[1 2 5]\n",
            " [3 3 8]\n",
            " [6 1 2]]\n",
            "\n",
            "Shape:\t(3, 3)\n",
            "Rank:\t2\n",
            "Is Square: True\n",
            "\n",
            "Matrix:\n",
            "[[1 2 5]\n",
            " [3 3 8]]\n",
            "\n",
            "Shape:\t(2, 3)\n",
            "Rank:\t2\n",
            "Is Square: False\n",
            "\n"
          ]
        }
      ]
    },
    {
      "cell_type": "markdown",
      "metadata": {
        "id": "tyiR0N_LI5Qs"
      },
      "source": [
        "##**According to element values**"
      ]
    },
    {
      "cell_type": "markdown",
      "metadata": {
        "id": "zXGQ8dohI9dg"
      },
      "source": [
        "##Null Matrix"
      ]
    },
    {
      "cell_type": "markdown",
      "metadata": {
        "id": "e-EtRNb3OuW-"
      },
      "source": [
        "A Null Matrix is a matrix that has no elements. It is always a subspace of any vector or matrix."
      ]
    },
    {
      "cell_type": "code",
      "metadata": {
        "id": "-wpj43aaOzTf"
      },
      "source": [
        "def describe_mat(matrix):\n",
        "    if matrix.size > 0:\n",
        "        is_square = True if matrix.shape[0] == matrix.shape[1] else False \n",
        "        print(f'Matrix:\\n{matrix}\\n\\nShape:\\t{matrix.shape}\\nRank:\\t{matrix.ndim}\\nIs Square: {is_square}\\n')\n",
        "    else:\n",
        "        print('Matrix is Null')"
      ],
      "execution_count": 17,
      "outputs": []
    },
    {
      "cell_type": "code",
      "metadata": {
        "colab": {
          "base_uri": "https://localhost:8080/"
        },
        "id": "saS8MnhHO17E",
        "outputId": "27a5963b-a014-41ee-a32a-09ea88a9c3ed"
      },
      "source": [
        "null_mat = np.array([])\n",
        "describe_mat(null_mat)"
      ],
      "execution_count": 18,
      "outputs": [
        {
          "output_type": "stream",
          "name": "stdout",
          "text": [
            "Matrix is Null\n"
          ]
        }
      ]
    },
    {
      "cell_type": "markdown",
      "metadata": {
        "id": "HOPXtz62O4Vp"
      },
      "source": [
        "#Zero Matrix"
      ]
    },
    {
      "cell_type": "markdown",
      "metadata": {
        "id": "GyP49ZxHO-uu"
      },
      "source": [
        "A zero matrix can be any rectangular matrix but with all elements having a value of 0."
      ]
    },
    {
      "cell_type": "code",
      "metadata": {
        "colab": {
          "base_uri": "https://localhost:8080/"
        },
        "id": "X_rGBPxKO7hn",
        "outputId": "2dfc0848-a49b-4105-ee34-4bc2630498e1"
      },
      "source": [
        "zero_mat_row = np.zeros((1,2))\n",
        "zero_mat_sqr = np.zeros((2,2))\n",
        "zero_mat_rct = np.zeros((3,2))\n",
        "\n",
        "print(f'Zero Row Matrix: \\n{zero_mat_row}')\n",
        "print(f'Zero Square Matrix: \\n{zero_mat_sqr}')\n",
        "print(f'Zero Rectangular Matrix: \\n{zero_mat_rct}')"
      ],
      "execution_count": 19,
      "outputs": [
        {
          "output_type": "stream",
          "name": "stdout",
          "text": [
            "Zero Row Matrix: \n",
            "[[0. 0.]]\n",
            "Zero Square Matrix: \n",
            "[[0. 0.]\n",
            " [0. 0.]]\n",
            "Zero Rectangular Matrix: \n",
            "[[0. 0.]\n",
            " [0. 0.]\n",
            " [0. 0.]]\n"
          ]
        }
      ]
    },
    {
      "cell_type": "markdown",
      "metadata": {
        "id": "Nu7dcGtXPIRX"
      },
      "source": [
        "#Ones Matrix"
      ]
    },
    {
      "cell_type": "markdown",
      "metadata": {
        "id": "3oDyKkndPti2"
      },
      "source": [
        "A ones matrix, just like the zero matrix, can be any rectangular matrix but all of its elements are 1s instead of 0s."
      ]
    },
    {
      "cell_type": "code",
      "metadata": {
        "id": "ov2fqAGJKlw8",
        "colab": {
          "base_uri": "https://localhost:8080/"
        },
        "outputId": "79b8e612-c960-4ab9-8234-14f40dcd95d0"
      },
      "source": [
        "ones_mat_row = np.ones((1,2))\n",
        "ones_mat_sqr = np.ones((2,2))\n",
        "ones_mat_rct = np.ones((3,2))\n",
        "\n",
        "print(f'Ones Row Matrix: \\n{ones_mat_row}')\n",
        "print(f'Ones Square Matrix: \\n{ones_mat_sqr}')\n",
        "print(f'Ones Rectangular Matrix: \\n{ones_mat_rct}')"
      ],
      "execution_count": 20,
      "outputs": [
        {
          "output_type": "stream",
          "name": "stdout",
          "text": [
            "Ones Row Matrix: \n",
            "[[1. 1.]]\n",
            "Ones Square Matrix: \n",
            "[[1. 1.]\n",
            " [1. 1.]]\n",
            "Ones Rectangular Matrix: \n",
            "[[1. 1.]\n",
            " [1. 1.]\n",
            " [1. 1.]]\n"
          ]
        }
      ]
    },
    {
      "cell_type": "markdown",
      "metadata": {
        "id": "WN7g58RPP1AG"
      },
      "source": [
        "#Diagonal Matrix"
      ]
    },
    {
      "cell_type": "markdown",
      "metadata": {
        "id": "G_YeVGILP4Nh"
      },
      "source": [
        "A diagonal matrix is a square matrix that has values only at the diagonal of the matrix."
      ]
    },
    {
      "cell_type": "code",
      "metadata": {
        "colab": {
          "base_uri": "https://localhost:8080/"
        },
        "id": "YFw8-F1-P6JJ",
        "outputId": "6a45f626-eb99-431d-c971-f2f4c0b53d45"
      },
      "source": [
        "np.array([\n",
        "    [2,0,0],\n",
        "    [0,3,0],\n",
        "    [0,0,5]\n",
        "])\n",
        "# a[1,1], a[2,2], a[3,3], ... a[n-1,n-1]"
      ],
      "execution_count": 21,
      "outputs": [
        {
          "output_type": "execute_result",
          "data": {
            "text/plain": [
              "array([[2, 0, 0],\n",
              "       [0, 3, 0],\n",
              "       [0, 0, 5]])"
            ]
          },
          "metadata": {},
          "execution_count": 21
        }
      ]
    },
    {
      "cell_type": "code",
      "metadata": {
        "colab": {
          "base_uri": "https://localhost:8080/"
        },
        "id": "JZparOYyQA2d",
        "outputId": "c3d871ae-0f53-4c28-f1f2-d6b94f4584aa"
      },
      "source": [
        "d = np.diag([2,3,5,7])\n",
        "np.diag(d).shape == d.shape[0] == d.shape[1]"
      ],
      "execution_count": 23,
      "outputs": [
        {
          "output_type": "execute_result",
          "data": {
            "text/plain": [
              "False"
            ]
          },
          "metadata": {},
          "execution_count": 23
        }
      ]
    },
    {
      "cell_type": "markdown",
      "metadata": {
        "id": "PVwN9vGgYzd9"
      },
      "source": [
        "#Identity Matrix"
      ]
    },
    {
      "cell_type": "markdown",
      "metadata": {
        "id": "OY5ZY7H9Y6J-"
      },
      "source": [
        "An identity matrix is a special diagonal matrix in which the values at the diagonal are ones."
      ]
    },
    {
      "cell_type": "code",
      "metadata": {
        "colab": {
          "base_uri": "https://localhost:8080/"
        },
        "id": "L6PgHRqLY-sO",
        "outputId": "2cb80137-9059-47f0-9de2-b9496d634941"
      },
      "source": [
        "np.eye(5)"
      ],
      "execution_count": 24,
      "outputs": [
        {
          "output_type": "execute_result",
          "data": {
            "text/plain": [
              "array([[1., 0., 0., 0., 0.],\n",
              "       [0., 1., 0., 0., 0.],\n",
              "       [0., 0., 1., 0., 0.],\n",
              "       [0., 0., 0., 1., 0.],\n",
              "       [0., 0., 0., 0., 1.]])"
            ]
          },
          "metadata": {},
          "execution_count": 24
        }
      ]
    },
    {
      "cell_type": "code",
      "metadata": {
        "colab": {
          "base_uri": "https://localhost:8080/"
        },
        "id": "5YizFfS1ZDgp",
        "outputId": "913d8ef1-4484-4391-9661-fd11a2d556c3"
      },
      "source": [
        "np.identity(5)"
      ],
      "execution_count": 25,
      "outputs": [
        {
          "output_type": "execute_result",
          "data": {
            "text/plain": [
              "array([[1., 0., 0., 0., 0.],\n",
              "       [0., 1., 0., 0., 0.],\n",
              "       [0., 0., 1., 0., 0.],\n",
              "       [0., 0., 0., 1., 0.],\n",
              "       [0., 0., 0., 0., 1.]])"
            ]
          },
          "metadata": {},
          "execution_count": 25
        }
      ]
    },
    {
      "cell_type": "markdown",
      "metadata": {
        "id": "HLpONLjFZJWR"
      },
      "source": [
        "#Upper Identity Matrix "
      ]
    },
    {
      "cell_type": "markdown",
      "metadata": {
        "id": "OymOuhicZPzU"
      },
      "source": [
        "An upper triangular matrix is a matrix that has no values below the diagonal."
      ]
    },
    {
      "cell_type": "code",
      "metadata": {
        "colab": {
          "base_uri": "https://localhost:8080/"
        },
        "id": "YRfxm-XEZWty",
        "outputId": "e477e0f6-8e4d-44e8-83ed-a22fd5913ad1"
      },
      "source": [
        "np.array([\n",
        "    [1,2,3],\n",
        "    [0,3,1],\n",
        "    [0,0,5]\n",
        "])"
      ],
      "execution_count": 26,
      "outputs": [
        {
          "output_type": "execute_result",
          "data": {
            "text/plain": [
              "array([[1, 2, 3],\n",
              "       [0, 3, 1],\n",
              "       [0, 0, 5]])"
            ]
          },
          "metadata": {},
          "execution_count": 26
        }
      ]
    },
    {
      "cell_type": "markdown",
      "metadata": {
        "id": "R-56uJVgZTiQ"
      },
      "source": [
        "#Lower Triangular Matrix"
      ]
    },
    {
      "cell_type": "markdown",
      "metadata": {
        "id": "EybZyDXzZb3b"
      },
      "source": [
        "A lower triangular matrix is a matrix that has no values above the diagonal."
      ]
    },
    {
      "cell_type": "code",
      "metadata": {
        "colab": {
          "base_uri": "https://localhost:8080/"
        },
        "id": "6VPH5_NdZfkj",
        "outputId": "b21f51c1-e3ef-43d1-889f-e389d06ffe92"
      },
      "source": [
        "np.array([\n",
        "    [1,0,0],\n",
        "    [5,3,0],\n",
        "    [7,8,5]\n",
        "])"
      ],
      "execution_count": 27,
      "outputs": [
        {
          "output_type": "execute_result",
          "data": {
            "text/plain": [
              "array([[1, 0, 0],\n",
              "       [5, 3, 0],\n",
              "       [7, 8, 5]])"
            ]
          },
          "metadata": {},
          "execution_count": 27
        }
      ]
    },
    {
      "cell_type": "markdown",
      "metadata": {
        "id": "PvrK9-4fZNRS"
      },
      "source": [
        "##**Practice**"
      ]
    },
    {
      "cell_type": "markdown",
      "metadata": {
        "id": "QR2ijZEGaG3X"
      },
      "source": [
        "1.Given the linear combination below, try to create a corresponding matrix representing it."
      ]
    },
    {
      "cell_type": "markdown",
      "metadata": {
        "id": "N1m_ZjxkaKCh"
      },
      "source": [
        "$$\\theta = 5x + 3y - z$$"
      ]
    },
    {
      "cell_type": "code",
      "metadata": {
        "colab": {
          "base_uri": "https://localhost:8080/"
        },
        "id": "2kFz96abaXMr",
        "outputId": "41853b32-ada1-4720-d616-ed66211d6049"
      },
      "source": [
        "theta=np.array([\n",
        "                [5,3,-1]\n",
        "])\n",
        "describe_mat(theta)"
      ],
      "execution_count": 68,
      "outputs": [
        {
          "output_type": "stream",
          "name": "stdout",
          "text": [
            "Matrix:\n",
            "[[ 5  3 -1]]\n",
            "\n",
            "Shape:\t(1, 3)\n",
            "Rank:\t2\n",
            "Is Square: False\n",
            "\n"
          ]
        }
      ]
    },
    {
      "cell_type": "markdown",
      "metadata": {
        "id": "M2IQjQtgaqiX"
      },
      "source": [
        "2. Given the system of linear combinations below, try to encode it as a matrix. Also describe the matrix."
      ]
    },
    {
      "cell_type": "markdown",
      "metadata": {
        "id": "ehZX2r2yaxuo"
      },
      "source": [
        "\n",
        "$$ A = \\left\\{\\begin{array} 5x_1 + 2x_2 +x_3\\\\ 4x_2 - x_3\\\\ 10x_3 \\end{array}\\right. $$"
      ]
    },
    {
      "cell_type": "code",
      "metadata": {
        "colab": {
          "base_uri": "https://localhost:8080/"
        },
        "id": "lxbJYCg8atFY",
        "outputId": "6cb2a4a7-a4a9-4c29-d283-1a89aaded994"
      },
      "source": [
        "A=np.array([\n",
        "            [1,2,1],\n",
        "            [0,4,-1],\n",
        "            [0,0,10]\n",
        "])\n",
        "describe_mat(A)"
      ],
      "execution_count": 69,
      "outputs": [
        {
          "output_type": "stream",
          "name": "stdout",
          "text": [
            "Matrix:\n",
            "[[ 1  2  1]\n",
            " [ 0  4 -1]\n",
            " [ 0  0 10]]\n",
            "\n",
            "Shape:\t(3, 3)\n",
            "Rank:\t2\n",
            "Is Square: True\n",
            "\n"
          ]
        }
      ]
    },
    {
      "cell_type": "markdown",
      "metadata": {
        "id": "CGdyzkfqaMkD"
      },
      "source": [
        "3. Given the matrix below, express it as a linear combination in a markdown."
      ]
    },
    {
      "cell_type": "code",
      "metadata": {
        "id": "9yHAaJN025Ba"
      },
      "source": [
        "G = np.array([\n",
        "    [1,7,8],\n",
        "    [2,2,2],\n",
        "    [4,6,7]\n",
        "])"
      ],
      "execution_count": 70,
      "outputs": []
    },
    {
      "cell_type": "markdown",
      "metadata": {
        "id": "HwsZ0Gdb28dk"
      },
      "source": [
        "$$\n",
        "G = \\left\\{\n",
        "    \\begin{array}\\\n",
        "        x + 7x_2+8x_3\\\\ \n",
        "        2x + 2x_2+2x_3\\\\\n",
        "        4x+6x_2+7x_3\n",
        "    \\end{array}\n",
        "\\right. \\\\\n",
        "$$"
      ]
    },
    {
      "cell_type": "markdown",
      "metadata": {
        "id": "dnz2Xxey3Dxo"
      },
      "source": [
        "4. Given the matrix below, display the output as a LaTeX makdown also express it as a system of linear combinations."
      ]
    },
    {
      "cell_type": "code",
      "metadata": {
        "colab": {
          "base_uri": "https://localhost:8080/"
        },
        "id": "caa-S_sb3IXL",
        "outputId": "0c75b527-1243-489b-a5c9-89ad575ca363"
      },
      "source": [
        "H = np.tril(G)\n",
        "H"
      ],
      "execution_count": 72,
      "outputs": [
        {
          "output_type": "execute_result",
          "data": {
            "text/plain": [
              "array([[1, 0, 0],\n",
              "       [2, 2, 0],\n",
              "       [4, 6, 7]])"
            ]
          },
          "metadata": {},
          "execution_count": 72
        }
      ]
    },
    {
      "cell_type": "markdown",
      "metadata": {
        "id": "LNM-sfZg3Xj_"
      },
      "source": [
        "$$\n",
        "G = \\left\\{\n",
        "    \\begin{array}\\\n",
        "        x_1\\\\ \n",
        "        2x_1 + 2x_2\\\\\n",
        "        4x_1+6x_2+7x_3\n",
        "    \\end{array}\n",
        "\\right. \\\\\n",
        "$$"
      ]
    },
    {
      "cell_type": "markdown",
      "metadata": {
        "id": "AjBBKyoJ3rBh"
      },
      "source": [
        "#Matrix Algebra"
      ]
    },
    {
      "cell_type": "markdown",
      "metadata": {
        "id": "tSM0EBbX4WZb"
      },
      "source": [
        "**Addition**"
      ]
    },
    {
      "cell_type": "code",
      "metadata": {
        "colab": {
          "base_uri": "https://localhost:8080/"
        },
        "id": "2u_eLxNw4YyS",
        "outputId": "acf1ac01-99bb-4b72-9b9c-99b3152811c5"
      },
      "source": [
        "A = np.array([\n",
        "    [1,2],\n",
        "    [2,3],\n",
        "    [4,1]\n",
        "])\n",
        "B = np.array([\n",
        "    [2,2],\n",
        "    [0,0],\n",
        "    [1,1]\n",
        "])\n",
        "A+B"
      ],
      "execution_count": 73,
      "outputs": [
        {
          "output_type": "execute_result",
          "data": {
            "text/plain": [
              "array([[3, 4],\n",
              "       [2, 3],\n",
              "       [5, 2]])"
            ]
          },
          "metadata": {},
          "execution_count": 73
        }
      ]
    },
    {
      "cell_type": "code",
      "metadata": {
        "colab": {
          "base_uri": "https://localhost:8080/"
        },
        "id": "pP0ffB1l4d9h",
        "outputId": "d4d40582-1015-4499-9c34-846e34292eba"
      },
      "source": [
        "\n",
        "2+A ##Broadcasting\n",
        "# 2*np.ones(A.shape)+A"
      ],
      "execution_count": 74,
      "outputs": [
        {
          "output_type": "execute_result",
          "data": {
            "text/plain": [
              "array([[3, 4],\n",
              "       [4, 5],\n",
              "       [6, 3]])"
            ]
          },
          "metadata": {},
          "execution_count": 74
        }
      ]
    },
    {
      "cell_type": "markdown",
      "metadata": {
        "id": "ZR_zXJt-4fl7"
      },
      "source": [
        "**Subtraction**"
      ]
    },
    {
      "cell_type": "code",
      "metadata": {
        "colab": {
          "base_uri": "https://localhost:8080/"
        },
        "id": "ZEdVQnBE4itl",
        "outputId": "d6ce07a6-37ab-41ba-da0b-3a771916d13f"
      },
      "source": [
        "A-B"
      ],
      "execution_count": 75,
      "outputs": [
        {
          "output_type": "execute_result",
          "data": {
            "text/plain": [
              "array([[-1,  0],\n",
              "       [ 2,  3],\n",
              "       [ 3,  0]])"
            ]
          },
          "metadata": {},
          "execution_count": 75
        }
      ]
    },
    {
      "cell_type": "code",
      "metadata": {
        "colab": {
          "base_uri": "https://localhost:8080/"
        },
        "id": "XP3V-vbI4mi-",
        "outputId": "4526e4c8-bb10-42c9-9e44-64792f012e53"
      },
      "source": [
        "3-B == 3*np.ones(B.shape)-B"
      ],
      "execution_count": 76,
      "outputs": [
        {
          "output_type": "execute_result",
          "data": {
            "text/plain": [
              "array([[ True,  True],\n",
              "       [ True,  True],\n",
              "       [ True,  True]])"
            ]
          },
          "metadata": {},
          "execution_count": 76
        }
      ]
    },
    {
      "cell_type": "markdown",
      "metadata": {
        "id": "HMpqVi5h4ngf"
      },
      "source": [
        "**Element-wise Multiplication**"
      ]
    },
    {
      "cell_type": "code",
      "metadata": {
        "colab": {
          "base_uri": "https://localhost:8080/"
        },
        "id": "8t6EN7oP4yK9",
        "outputId": "09e3c3a6-72c9-4e54-e5d6-ff2be8dae78a"
      },
      "source": [
        "A*B\n",
        "np.multiply(A,B)"
      ],
      "execution_count": 82,
      "outputs": [
        {
          "output_type": "execute_result",
          "data": {
            "text/plain": [
              "array([[2, 4],\n",
              "       [0, 0],\n",
              "       [4, 1]])"
            ]
          },
          "metadata": {},
          "execution_count": 82
        }
      ]
    },
    {
      "cell_type": "code",
      "metadata": {
        "colab": {
          "base_uri": "https://localhost:8080/"
        },
        "id": "wBswTj_t40-y",
        "outputId": "d752ff1b-4f25-40da-a944-156af7e69b9f"
      },
      "source": [
        "2*A"
      ],
      "execution_count": 78,
      "outputs": [
        {
          "output_type": "execute_result",
          "data": {
            "text/plain": [
              "array([[2, 4],\n",
              "       [4, 6],\n",
              "       [8, 2]])"
            ]
          },
          "metadata": {},
          "execution_count": 78
        }
      ]
    },
    {
      "cell_type": "code",
      "metadata": {
        "colab": {
          "base_uri": "https://localhost:8080/",
          "height": 190
        },
        "id": "PIDTmpGt45bq",
        "outputId": "f18df2c9-af7d-483b-cb17-78b4e6bd8b16"
      },
      "source": [
        "A@B"
      ],
      "execution_count": 79,
      "outputs": [
        {
          "output_type": "error",
          "ename": "ValueError",
          "evalue": "ignored",
          "traceback": [
            "\u001b[0;31m---------------------------------------------------------------------------\u001b[0m",
            "\u001b[0;31mValueError\u001b[0m                                Traceback (most recent call last)",
            "\u001b[0;32m<ipython-input-79-5016aafd2858>\u001b[0m in \u001b[0;36m<module>\u001b[0;34m()\u001b[0m\n\u001b[0;32m----> 1\u001b[0;31m \u001b[0mA\u001b[0m\u001b[0;34m@\u001b[0m\u001b[0mB\u001b[0m\u001b[0;34m\u001b[0m\u001b[0;34m\u001b[0m\u001b[0m\n\u001b[0m",
            "\u001b[0;31mValueError\u001b[0m: matmul: Input operand 1 has a mismatch in its core dimension 0, with gufunc signature (n?,k),(k,m?)->(n?,m?) (size 3 is different from 2)"
          ]
        }
      ]
    },
    {
      "cell_type": "code",
      "metadata": {
        "colab": {
          "base_uri": "https://localhost:8080/"
        },
        "id": "B--zvQeD46ZF",
        "outputId": "bcedb8d6-299b-4b81-bdca-62d5f39bc78a"
      },
      "source": [
        "alpha=10**-10\n",
        "A/(alpha+B)"
      ],
      "execution_count": 80,
      "outputs": [
        {
          "output_type": "execute_result",
          "data": {
            "text/plain": [
              "array([[5.e-01, 1.e+00],\n",
              "       [2.e+10, 3.e+10],\n",
              "       [4.e+00, 1.e+00]])"
            ]
          },
          "metadata": {},
          "execution_count": 80
        }
      ]
    },
    {
      "cell_type": "code",
      "metadata": {
        "colab": {
          "base_uri": "https://localhost:8080/"
        },
        "id": "YdR69tj049JR",
        "outputId": "aa916f84-239f-41cc-b8c2-879d4e0f25b2"
      },
      "source": [
        "np.add(A,B)"
      ],
      "execution_count": 81,
      "outputs": [
        {
          "output_type": "execute_result",
          "data": {
            "text/plain": [
              "array([[3, 4],\n",
              "       [2, 3],\n",
              "       [5, 2]])"
            ]
          },
          "metadata": {},
          "execution_count": 81
        }
      ]
    },
    {
      "cell_type": "markdown",
      "metadata": {
        "id": "sDRKaweU5Cll"
      },
      "source": [
        "***Activity***"
      ]
    },
    {
      "cell_type": "markdown",
      "metadata": {
        "id": "JPZFDPYzmj3C"
      },
      "source": [
        "##**Task 1**"
      ]
    },
    {
      "cell_type": "markdown",
      "metadata": {
        "id": "72YD-Oy5mqIf"
      },
      "source": [
        "Create a function named mat_desc() that througouhly describes a matrix, it should:\n",
        "\n",
        "\n",
        "\n",
        "1.   Displays the shape, size, and rank of the matrix.\n",
        "2.   Displays whether the matrix is square or non-square.\n",
        "3.   Displays whether the matrix is an empty matrix.\n",
        "4.   Displays if the matrix is an identity, ones, or zeros matrix\n",
        "\n",
        "Use 5 sample matrices in which their shapes are not lower than  (3,3) . In your methodology, create a flowchart discuss the functions and methods you have done. Present your results in the results section showing the description of each matrix you have declared."
      ]
    },
    {
      "cell_type": "markdown",
      "metadata": {
        "id": "BHW3LBO2m_-Z"
      },
      "source": [
        "##**1. Shape, Size, and Rank of the matrix**\n"
      ]
    },
    {
      "cell_type": "code",
      "metadata": {
        "id": "ta1617lcoahZ"
      },
      "source": [
        "def mat_desc(matrix):\n",
        "    print(f'Matrix:\\n{matrix}\\n\\nShape:\\t{matrix.shape}\\nRank:\\t{matrix.ndim}\\n')"
      ],
      "execution_count": 35,
      "outputs": []
    },
    {
      "cell_type": "code",
      "metadata": {
        "colab": {
          "base_uri": "https://localhost:8080/"
        },
        "id": "dSHsBdjlm_ln",
        "outputId": "96255eea-9fd5-4979-f517-0957c3b28be9"
      },
      "source": [
        "A = np.array([\n",
        "      [7,1,2],\n",
        "      [9,0,2],\n",
        "      [8,3,6]\n",
        "])\n",
        "mat_desc(A)"
      ],
      "execution_count": 34,
      "outputs": [
        {
          "output_type": "stream",
          "name": "stdout",
          "text": [
            "Matrix:\n",
            "[[7 1 2]\n",
            " [9 0 2]\n",
            " [8 3 6]]\n",
            "\n",
            "Shape:\t(3, 3)\n",
            "Rank:\t2\n",
            "\n"
          ]
        }
      ]
    },
    {
      "cell_type": "markdown",
      "metadata": {
        "id": "v0g-wQ_BodeK"
      },
      "source": [
        "##**2. Square or Non-Square**"
      ]
    },
    {
      "cell_type": "code",
      "metadata": {
        "id": "YTPamZ0JoQel"
      },
      "source": [
        "def mat_desc(matrix):\n",
        "  is_square = True if matrix.shape[0] == matrix.shape[1] else False\n",
        "  print (f'Matrix:\\n{matrix}\\n\\nShape:\\t{matrix.shape}\\nRank:\\t{matrix.ndim}\\nIs Square: {is_square}\\n')"
      ],
      "execution_count": 36,
      "outputs": []
    },
    {
      "cell_type": "code",
      "metadata": {
        "colab": {
          "base_uri": "https://localhost:8080/"
        },
        "id": "wqZLYjGBotrq",
        "outputId": "073866de-b5f5-4bcf-e72e-5a986ef0d5de"
      },
      "source": [
        "B = np.array([\n",
        "      [10,2,5],\n",
        "      [7,5,3],\n",
        "      [2,29,21]\n",
        "])\n",
        "mat_desc(B)"
      ],
      "execution_count": 37,
      "outputs": [
        {
          "output_type": "stream",
          "name": "stdout",
          "text": [
            "Matrix:\n",
            "[[10  2  5]\n",
            " [ 7  5  3]\n",
            " [ 2 29 21]]\n",
            "\n",
            "Shape:\t(3, 3)\n",
            "Rank:\t2\n",
            "Is Square: True\n",
            "\n"
          ]
        }
      ]
    },
    {
      "cell_type": "markdown",
      "metadata": {
        "id": "b7GW2WUTo9Vd"
      },
      "source": [
        "##**3. Empty Matrix**"
      ]
    },
    {
      "cell_type": "code",
      "metadata": {
        "id": "GHQG_4rtpP5J"
      },
      "source": [
        "def mat_desc(matrix):\n",
        "  if matrix.size > 0:\n",
        "    print (f'Matrix:\\n{matrix}\\n\\nShape:\\t{matrix.shape}\\nRank:\\t{matrix.ndim}\\nIs Square: {is_square}\\n')\n",
        "  else:\n",
        "    print('Matrix is Null')"
      ],
      "execution_count": 38,
      "outputs": []
    },
    {
      "cell_type": "code",
      "metadata": {
        "colab": {
          "base_uri": "https://localhost:8080/"
        },
        "id": "Bx8NzzCmpW4x",
        "outputId": "1a53d29e-0685-406f-e62e-a977523eeeba"
      },
      "source": [
        "C = np.array([\n",
        "       \n",
        "])\n",
        "mat_desc(C)"
      ],
      "execution_count": 40,
      "outputs": [
        {
          "output_type": "stream",
          "name": "stdout",
          "text": [
            "Matrix is Null\n"
          ]
        }
      ]
    },
    {
      "cell_type": "markdown",
      "metadata": {
        "id": "S5OIc9QpquVY"
      },
      "source": [
        "##**4. Identity, Ones, or Zeros matrix**"
      ]
    },
    {
      "cell_type": "markdown",
      "metadata": {
        "id": "badsy2E1rlqP"
      },
      "source": [
        "**Zero Matrix**"
      ]
    },
    {
      "cell_type": "code",
      "metadata": {
        "colab": {
          "base_uri": "https://localhost:8080/"
        },
        "id": "ZULPoN3KrtQt",
        "outputId": "b6a306c5-9084-4254-e86c-4c9e1f6ec499"
      },
      "source": [
        "zero_mat_row = np.zeros((3,4))\n",
        "zero_mat_sqr = np.zeros((5,3))\n",
        "zero_mat_rct = np.zeros((3,3))\n",
        "\n",
        "print(f'Zero Row Matrix: \\n{zero_mat_row}')\n",
        "print(f'Zero Square Matrix: \\n{zero_mat_sqr}')\n",
        "print(f'Zero Rectangular Matrix: \\n{zero_mat_rct}')"
      ],
      "execution_count": 41,
      "outputs": [
        {
          "output_type": "stream",
          "name": "stdout",
          "text": [
            "Zero Row Matrix: \n",
            "[[0. 0. 0. 0.]\n",
            " [0. 0. 0. 0.]\n",
            " [0. 0. 0. 0.]]\n",
            "Zero Square Matrix: \n",
            "[[0. 0. 0.]\n",
            " [0. 0. 0.]\n",
            " [0. 0. 0.]\n",
            " [0. 0. 0.]\n",
            " [0. 0. 0.]]\n",
            "Zero Rectangular Matrix: \n",
            "[[0. 0. 0.]\n",
            " [0. 0. 0.]\n",
            " [0. 0. 0.]]\n"
          ]
        }
      ]
    },
    {
      "cell_type": "markdown",
      "metadata": {
        "id": "MwZNIfwpr4no"
      },
      "source": [
        "**Ones Matrix**"
      ]
    },
    {
      "cell_type": "code",
      "metadata": {
        "colab": {
          "base_uri": "https://localhost:8080/"
        },
        "id": "9Jni13fqr9A6",
        "outputId": "5ccd1689-5c92-4f15-dd64-4db9b6496bb2"
      },
      "source": [
        "ones_mat_row = np.ones((4,4))\n",
        "ones_mat_sqr = np.ones((6,3))\n",
        "ones_mat_rct = np.ones((3,4))\n",
        "\n",
        "\n",
        "print(f'Ones Row Matrix: \\n{ones_mat_row}')\n",
        "print(f'Ones square Matrix: \\n{ones_mat_sqr}')\n",
        "print(f'Ones Rectangular Matrix: \\n{ones_mat_rct}')"
      ],
      "execution_count": 42,
      "outputs": [
        {
          "output_type": "stream",
          "name": "stdout",
          "text": [
            "Ones Row Matrix: \n",
            "[[1. 1. 1. 1.]\n",
            " [1. 1. 1. 1.]\n",
            " [1. 1. 1. 1.]\n",
            " [1. 1. 1. 1.]]\n",
            "Ones square Matrix: \n",
            "[[1. 1. 1.]\n",
            " [1. 1. 1.]\n",
            " [1. 1. 1.]\n",
            " [1. 1. 1.]\n",
            " [1. 1. 1.]\n",
            " [1. 1. 1.]]\n",
            "Ones Rectangular Matrix: \n",
            "[[1. 1. 1. 1.]\n",
            " [1. 1. 1. 1.]\n",
            " [1. 1. 1. 1.]]\n"
          ]
        }
      ]
    },
    {
      "cell_type": "markdown",
      "metadata": {
        "id": "5iVMfmURsNcy"
      },
      "source": [
        "**Identity**"
      ]
    },
    {
      "cell_type": "code",
      "metadata": {
        "colab": {
          "base_uri": "https://localhost:8080/"
        },
        "id": "1uN-lumlsUU1",
        "outputId": "ae346f74-bd4d-4f34-eb75-7dcaa3389739"
      },
      "source": [
        "np.identity(4)"
      ],
      "execution_count": 43,
      "outputs": [
        {
          "output_type": "execute_result",
          "data": {
            "text/plain": [
              "array([[1., 0., 0., 0.],\n",
              "       [0., 1., 0., 0.],\n",
              "       [0., 0., 1., 0.],\n",
              "       [0., 0., 0., 1.]])"
            ]
          },
          "metadata": {},
          "execution_count": 43
        }
      ]
    },
    {
      "cell_type": "markdown",
      "metadata": {
        "id": "AbkjU0q0gaPU"
      },
      "source": [
        "##**Task 2**"
      ]
    },
    {
      "cell_type": "markdown",
      "metadata": {
        "id": "8azi7cGUggP1"
      },
      "source": [
        "Create a function named mat_operations() that takes in two matrices a input parameters it should:\n",
        "\n",
        " \n",
        "\n",
        "1.   Determines if the matrices are viable for operation and returns your own error message if they are not viable.\n",
        "2.   Returns the sum of the matrices.\n",
        "3.   Returns the difference of the matrices.\n",
        "4. Returns the element-wise multiplication of the matrices.\n",
        "5. Returns the element-wise division of the matrices.\n",
        "\n",
        "\n",
        "Use 5 sample matrices in which their shapes are not lower than $(3,3)$. In your methodology, create a flowchart discuss the functions and methods you have done. Present your results in the results section showing the description of each matrix you have declared."
      ]
    },
    {
      "cell_type": "code",
      "metadata": {
        "id": "81Hm9Ej5wKEe"
      },
      "source": [
        "A = np.array([\n",
        "    [1,5,6],\n",
        "    [3,5,2],\n",
        "    [3,7,3]\n",
        "])\n",
        "B = np.array([\n",
        "    [4,4,2],\n",
        "    [1,0,4],\n",
        "    [9,8,3]\n",
        "])\n",
        "C= np.array([\n",
        "    [12,32,7],\n",
        "    [34,9,2],\n",
        "    [2,4,3]\n",
        "])\n",
        "D= np.array([\n",
        "    [2,9,1],\n",
        "    [5,7,2],\n",
        "    [6,3,2]\n",
        "])\n",
        "\n",
        "E = np.array([\n",
        "    [4,5,5,4],\n",
        "    [0,7,3,6],\n",
        "    [9,3,2,3],\n",
        "    [7,2,5,4]\n",
        "\n",
        "])\n",
        "\n",
        "\n",
        "\n"
      ],
      "execution_count": 53,
      "outputs": []
    },
    {
      "cell_type": "markdown",
      "metadata": {
        "id": "viuuS0tltdPK"
      },
      "source": [
        "##**1.Sum of the Matrices**"
      ]
    },
    {
      "cell_type": "code",
      "metadata": {
        "colab": {
          "base_uri": "https://localhost:8080/",
          "height": 171
        },
        "id": "QEWZkwB2tjkW",
        "outputId": "a31760c9-b4b9-45af-b6dc-90772332e434"
      },
      "source": [
        "D+E"
      ],
      "execution_count": 54,
      "outputs": [
        {
          "output_type": "error",
          "ename": "ValueError",
          "evalue": "ignored",
          "traceback": [
            "\u001b[0;31m---------------------------------------------------------------------------\u001b[0m",
            "\u001b[0;31mValueError\u001b[0m                                Traceback (most recent call last)",
            "\u001b[0;32m<ipython-input-54-83add27dc8f1>\u001b[0m in \u001b[0;36m<module>\u001b[0;34m()\u001b[0m\n\u001b[0;32m----> 1\u001b[0;31m \u001b[0mD\u001b[0m\u001b[0;34m+\u001b[0m\u001b[0mE\u001b[0m\u001b[0;34m\u001b[0m\u001b[0;34m\u001b[0m\u001b[0m\n\u001b[0m",
            "\u001b[0;31mValueError\u001b[0m: operands could not be broadcast together with shapes (3,3) (4,4) "
          ]
        }
      ]
    },
    {
      "cell_type": "code",
      "metadata": {
        "colab": {
          "base_uri": "https://localhost:8080/"
        },
        "id": "5rsE9AP0hCH5",
        "outputId": "66fab70b-d46b-4f0f-f0de-988618f35a79"
      },
      "source": [
        "A+B"
      ],
      "execution_count": 55,
      "outputs": [
        {
          "output_type": "execute_result",
          "data": {
            "text/plain": [
              "array([[ 5,  9,  8],\n",
              "       [ 4,  5,  6],\n",
              "       [12, 15,  6]])"
            ]
          },
          "metadata": {},
          "execution_count": 55
        }
      ]
    },
    {
      "cell_type": "code",
      "metadata": {
        "colab": {
          "base_uri": "https://localhost:8080/"
        },
        "id": "bo0k0KaTzyOi",
        "outputId": "fb4a39b5-1f19-42e9-8dcd-419430c2c3ef"
      },
      "source": [
        "2+B"
      ],
      "execution_count": 57,
      "outputs": [
        {
          "output_type": "execute_result",
          "data": {
            "text/plain": [
              "array([[ 6,  6,  4],\n",
              "       [ 3,  2,  6],\n",
              "       [11, 10,  5]])"
            ]
          },
          "metadata": {},
          "execution_count": 57
        }
      ]
    },
    {
      "cell_type": "markdown",
      "metadata": {
        "id": "zbaLxvBy0Cph"
      },
      "source": [
        "##**2. Difference of the Matrices**"
      ]
    },
    {
      "cell_type": "code",
      "metadata": {
        "colab": {
          "base_uri": "https://localhost:8080/",
          "height": 171
        },
        "id": "7_ehoqjr0HiS",
        "outputId": "c2a4938b-f795-4139-badd-8e931c3b0d88"
      },
      "source": [
        "E-D"
      ],
      "execution_count": 58,
      "outputs": [
        {
          "output_type": "error",
          "ename": "ValueError",
          "evalue": "ignored",
          "traceback": [
            "\u001b[0;31m---------------------------------------------------------------------------\u001b[0m",
            "\u001b[0;31mValueError\u001b[0m                                Traceback (most recent call last)",
            "\u001b[0;32m<ipython-input-58-a09bc51144a7>\u001b[0m in \u001b[0;36m<module>\u001b[0;34m()\u001b[0m\n\u001b[0;32m----> 1\u001b[0;31m \u001b[0mE\u001b[0m\u001b[0;34m-\u001b[0m\u001b[0mD\u001b[0m\u001b[0;34m\u001b[0m\u001b[0;34m\u001b[0m\u001b[0m\n\u001b[0m",
            "\u001b[0;31mValueError\u001b[0m: operands could not be broadcast together with shapes (4,4) (3,3) "
          ]
        }
      ]
    },
    {
      "cell_type": "code",
      "metadata": {
        "colab": {
          "base_uri": "https://localhost:8080/"
        },
        "id": "cRDly69e0Jwv",
        "outputId": "42e03d1d-226f-4b31-9647-cc10c6514ba9"
      },
      "source": [
        "C-B"
      ],
      "execution_count": 59,
      "outputs": [
        {
          "output_type": "execute_result",
          "data": {
            "text/plain": [
              "array([[ 8, 28,  5],\n",
              "       [33,  9, -2],\n",
              "       [-7, -4,  0]])"
            ]
          },
          "metadata": {},
          "execution_count": 59
        }
      ]
    },
    {
      "cell_type": "code",
      "metadata": {
        "colab": {
          "base_uri": "https://localhost:8080/"
        },
        "id": "S1iuQpR_0LxK",
        "outputId": "c15f252e-0003-4ef0-dccc-7601d58edb16"
      },
      "source": [
        "5-A"
      ],
      "execution_count": 61,
      "outputs": [
        {
          "output_type": "execute_result",
          "data": {
            "text/plain": [
              "array([[ 4,  0, -1],\n",
              "       [ 2,  0,  3],\n",
              "       [ 2, -2,  2]])"
            ]
          },
          "metadata": {},
          "execution_count": 61
        }
      ]
    },
    {
      "cell_type": "markdown",
      "metadata": {
        "id": "QMPivsl-0hva"
      },
      "source": [
        "##**3. Element-Wise Multiplication**"
      ]
    },
    {
      "cell_type": "code",
      "metadata": {
        "colab": {
          "base_uri": "https://localhost:8080/",
          "height": 171
        },
        "id": "wzdgpdm60qMq",
        "outputId": "1b4c919e-cdd8-4dbf-fda5-c959fd1b52ef"
      },
      "source": [
        "E*D"
      ],
      "execution_count": 62,
      "outputs": [
        {
          "output_type": "error",
          "ename": "ValueError",
          "evalue": "ignored",
          "traceback": [
            "\u001b[0;31m---------------------------------------------------------------------------\u001b[0m",
            "\u001b[0;31mValueError\u001b[0m                                Traceback (most recent call last)",
            "\u001b[0;32m<ipython-input-62-16398a849ac9>\u001b[0m in \u001b[0;36m<module>\u001b[0;34m()\u001b[0m\n\u001b[0;32m----> 1\u001b[0;31m \u001b[0mE\u001b[0m\u001b[0;34m*\u001b[0m\u001b[0mD\u001b[0m\u001b[0;34m\u001b[0m\u001b[0;34m\u001b[0m\u001b[0m\n\u001b[0m",
            "\u001b[0;31mValueError\u001b[0m: operands could not be broadcast together with shapes (4,4) (3,3) "
          ]
        }
      ]
    },
    {
      "cell_type": "code",
      "metadata": {
        "colab": {
          "base_uri": "https://localhost:8080/"
        },
        "id": "yt0FHY050uTK",
        "outputId": "10f5dc86-e391-40f9-edad-4c51ecf53d4b"
      },
      "source": [
        "D*C"
      ],
      "execution_count": 63,
      "outputs": [
        {
          "output_type": "execute_result",
          "data": {
            "text/plain": [
              "array([[ 24, 288,   7],\n",
              "       [170,  63,   4],\n",
              "       [ 12,  12,   6]])"
            ]
          },
          "metadata": {},
          "execution_count": 63
        }
      ]
    },
    {
      "cell_type": "code",
      "metadata": {
        "colab": {
          "base_uri": "https://localhost:8080/"
        },
        "id": "6azQXa2x0zvq",
        "outputId": "11a372c2-d15c-4748-c0f8-420bad3acd84"
      },
      "source": [
        "2*A"
      ],
      "execution_count": 64,
      "outputs": [
        {
          "output_type": "execute_result",
          "data": {
            "text/plain": [
              "array([[ 2, 10, 12],\n",
              "       [ 6, 10,  4],\n",
              "       [ 6, 14,  6]])"
            ]
          },
          "metadata": {},
          "execution_count": 64
        }
      ]
    },
    {
      "cell_type": "markdown",
      "metadata": {
        "id": "4lfurLlC03ug"
      },
      "source": [
        "##**4. Element-Wise Division**\n"
      ]
    },
    {
      "cell_type": "code",
      "metadata": {
        "colab": {
          "base_uri": "https://localhost:8080/",
          "height": 171
        },
        "id": "kx-gVw1w0_IB",
        "outputId": "59cd0f81-0e13-4d12-dfde-c9927239090d"
      },
      "source": [
        "E/D"
      ],
      "execution_count": 65,
      "outputs": [
        {
          "output_type": "error",
          "ename": "ValueError",
          "evalue": "ignored",
          "traceback": [
            "\u001b[0;31m---------------------------------------------------------------------------\u001b[0m",
            "\u001b[0;31mValueError\u001b[0m                                Traceback (most recent call last)",
            "\u001b[0;32m<ipython-input-65-ac5382767e04>\u001b[0m in \u001b[0;36m<module>\u001b[0;34m()\u001b[0m\n\u001b[0;32m----> 1\u001b[0;31m \u001b[0mE\u001b[0m\u001b[0;34m/\u001b[0m\u001b[0mD\u001b[0m\u001b[0;34m\u001b[0m\u001b[0;34m\u001b[0m\u001b[0m\n\u001b[0m",
            "\u001b[0;31mValueError\u001b[0m: operands could not be broadcast together with shapes (4,4) (3,3) "
          ]
        }
      ]
    },
    {
      "cell_type": "code",
      "metadata": {
        "colab": {
          "base_uri": "https://localhost:8080/"
        },
        "id": "K6tNLacf1BaF",
        "outputId": "dd555f89-3609-4e69-9a03-355c9986da26"
      },
      "source": [
        "B/C"
      ],
      "execution_count": 67,
      "outputs": [
        {
          "output_type": "execute_result",
          "data": {
            "text/plain": [
              "array([[0.33333333, 0.125     , 0.28571429],\n",
              "       [0.02941176, 0.        , 2.        ],\n",
              "       [4.5       , 2.        , 1.        ]])"
            ]
          },
          "metadata": {},
          "execution_count": 67
        }
      ]
    },
    {
      "cell_type": "markdown",
      "metadata": {
        "id": "-Na64NeW1RmL"
      },
      "source": [
        "#***Conclusion***"
      ]
    },
    {
      "cell_type": "markdown",
      "metadata": {
        "id": "4jcfCdT81WBe"
      },
      "source": [
        ">In this lab experiment, matrices through Python programming were tackled through\n",
        "the use of Google Colab. Python is a programming language that is used in web-development, data science, and creating softwares. It is designed for readability, thus creating a stable and flexible programming language. Matrices are very important data structures for many mathematical and scientific calculations [3].\n",
        "\n",
        ">From the last discussion, we are introduced the basics of Matrices. We tackled: Matrices, Declaring Matrices, Categorizing Matrices, and Matrix Algebra through online learning with Google Colab. These fundamentals are viable to gain foundational skills in familiarizing linear equations and matrices. With the help of google colab, we were able to grasp the different operations to write useful programs using the Python Language for matrices.\n",
        "\n"
      ]
    }
  ]
}