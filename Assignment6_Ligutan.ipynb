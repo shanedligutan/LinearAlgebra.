{
  "nbformat": 4,
  "nbformat_minor": 0,
  "metadata": {
    "colab": {
      "name": "Assignment6_Ligutan.ipynb",
      "provenance": [],
      "collapsed_sections": [],
      "authorship_tag": "ABX9TyNV2427Q2K3qlKAwj7SnXqM",
      "include_colab_link": true
    },
    "kernelspec": {
      "name": "python3",
      "display_name": "Python 3"
    },
    "language_info": {
      "name": "python"
    }
  },
  "cells": [
    {
      "cell_type": "markdown",
      "metadata": {
        "id": "view-in-github",
        "colab_type": "text"
      },
      "source": [
        "<a href=\"https://colab.research.google.com/github/shanedligutan/LinearAlgebra./blob/main/Assignment6_Ligutan.ipynb\" target=\"_parent\"><img src=\"https://colab.research.google.com/assets/colab-badge.svg\" alt=\"Open In Colab\"/></a>"
      ]
    },
    {
      "cell_type": "markdown",
      "metadata": {
        "id": "wX4tXMWLEWqi"
      },
      "source": [
        "#Linear Algebra for ECE"
      ]
    },
    {
      "cell_type": "markdown",
      "metadata": {
        "id": "9xhul8LXEbfu"
      },
      "source": [
        "Labarotary 6: Matrix Operations"
      ]
    },
    {
      "cell_type": "markdown",
      "metadata": {
        "id": "L4dmCE5TEhec"
      },
      "source": [
        "Now that you have a fundamental knowledge about representing and operating with vectors as well as the fundamentals of matrices, we'll try to the same operations with matrices and even more."
      ]
    },
    {
      "cell_type": "markdown",
      "metadata": {
        "id": "4xd8eGpaE8dt"
      },
      "source": [
        "Objectives\n",
        "\n",
        "At the end of this activity you will be able to:\n",
        "\n",
        "\n",
        "1.   Be familiar with the fundamental matrix opearations\n",
        "2.   Apply the operations to solve intermediate equations\n",
        "3.   Apply matrix algebra in engineering solutions\n",
        "\n",
        "\n",
        "\n",
        "\n"
      ]
    },
    {
      "cell_type": "markdown",
      "metadata": {
        "id": "pZ6XJhLWFWXn"
      },
      "source": [
        "##Discussion"
      ]
    },
    {
      "cell_type": "code",
      "metadata": {
        "id": "PC-RZXcWFVfV"
      },
      "source": [
        "import numpy as np \n",
        "import matplotlib.pyplot as plt\n",
        "%matplotlib inline"
      ],
      "execution_count": 2,
      "outputs": []
    },
    {
      "cell_type": "markdown",
      "metadata": {
        "id": "aOL707vPHHsH"
      },
      "source": [
        "##Transposition"
      ]
    },
    {
      "cell_type": "markdown",
      "metadata": {
        "id": "1kblVzw2HOOq"
      },
      "source": [
        "One of the fundamental operations in matrix algebra is Transposition. The transpose of a matrix is done by flipping the values of its elements over its diagonals. With this, the rows and columns from the original matrix will be switched. So for a matrix $A$ its transpose is denoted as $A^T$. So for example:"
      ]
    },
    {
      "cell_type": "markdown",
      "metadata": {
        "id": "RHryl69wapLa"
      },
      "source": [
        "The numpy.transpose() function is utilized in various matrix applications. It changes the row elements into column elements and the column elements into row elements.  [1] "
      ]
    },
    {
      "cell_type": "markdown",
      "metadata": {
        "id": "26StszqyHs57"
      },
      "source": [
        "$$A = \\begin{bmatrix} 1 & 2 & 5\\\\5 & -1 &0 \\\\ 0 & -3 & 3\\end{bmatrix} $$\n",
        "\n",
        "$$ A^T = \\begin{bmatrix} 1 & 5 & 0\\\\2 & -1 &-3 \\\\ 5 & 0 & 3\\end{bmatrix}$$"
      ]
    },
    {
      "cell_type": "markdown",
      "metadata": {
        "id": "ppPGBxSuHt6q"
      },
      "source": [
        "\n",
        "This can now be achieved programmatically by using np.transpose() or using the T method."
      ]
    },
    {
      "cell_type": "code",
      "metadata": {
        "colab": {
          "base_uri": "https://localhost:8080/"
        },
        "id": "gQU-eDPMFymc",
        "outputId": "16027471-b537-40d5-b1b6-87f07f221484"
      },
      "source": [
        "A=np.array([\n",
        "            [1,2,5],\n",
        "            [5,-1,0],\n",
        "            [0,-3,3]\n",
        "])\n",
        "A"
      ],
      "execution_count": 3,
      "outputs": [
        {
          "output_type": "execute_result",
          "data": {
            "text/plain": [
              "array([[ 1,  2,  5],\n",
              "       [ 5, -1,  0],\n",
              "       [ 0, -3,  3]])"
            ]
          },
          "metadata": {},
          "execution_count": 3
        }
      ]
    },
    {
      "cell_type": "code",
      "metadata": {
        "colab": {
          "base_uri": "https://localhost:8080/"
        },
        "id": "JDXjGXrRDgjJ",
        "outputId": "bac066ff-c2db-4a2c-8294-97671a558213"
      },
      "source": [
        "AT1 =np.transpose(A)\n",
        "AT1"
      ],
      "execution_count": 4,
      "outputs": [
        {
          "output_type": "execute_result",
          "data": {
            "text/plain": [
              "array([[ 1,  5,  0],\n",
              "       [ 2, -1, -3],\n",
              "       [ 5,  0,  3]])"
            ]
          },
          "metadata": {},
          "execution_count": 4
        }
      ]
    },
    {
      "cell_type": "code",
      "metadata": {
        "colab": {
          "base_uri": "https://localhost:8080/"
        },
        "id": "Em2w8SNjIaDP",
        "outputId": "9b7d056f-5b07-4c13-df67-70d2c42e6387"
      },
      "source": [
        "AT2=A.T\n",
        "AT2"
      ],
      "execution_count": 5,
      "outputs": [
        {
          "output_type": "execute_result",
          "data": {
            "text/plain": [
              "array([[ 1,  5,  0],\n",
              "       [ 2, -1, -3],\n",
              "       [ 5,  0,  3]])"
            ]
          },
          "metadata": {},
          "execution_count": 5
        }
      ]
    },
    {
      "cell_type": "code",
      "metadata": {
        "colab": {
          "base_uri": "https://localhost:8080/"
        },
        "id": "a-3oM0yiIgJW",
        "outputId": "e3d73828-b938-448c-ff4f-14ed2ee329bb"
      },
      "source": [
        "np.array_equiv(AT1, AT2)"
      ],
      "execution_count": 6,
      "outputs": [
        {
          "output_type": "execute_result",
          "data": {
            "text/plain": [
              "True"
            ]
          },
          "metadata": {},
          "execution_count": 6
        }
      ]
    },
    {
      "cell_type": "code",
      "metadata": {
        "colab": {
          "base_uri": "https://localhost:8080/"
        },
        "id": "St1CvUF4InxB",
        "outputId": "b2ef2c1d-45e8-4e90-858e-3ec19a3094c7"
      },
      "source": [
        "B=np.array([\n",
        "            [1,2,3,4],\n",
        "            [1,0,2,1],\n",
        "\n",
        "])\n",
        "B.shape"
      ],
      "execution_count": 7,
      "outputs": [
        {
          "output_type": "execute_result",
          "data": {
            "text/plain": [
              "(2, 4)"
            ]
          },
          "metadata": {},
          "execution_count": 7
        }
      ]
    },
    {
      "cell_type": "code",
      "metadata": {
        "colab": {
          "base_uri": "https://localhost:8080/"
        },
        "id": "rKFqvQV5JKz_",
        "outputId": "eee6ce42-61ef-4b02-c3fc-2b32be2fffac"
      },
      "source": [
        "np.transpose(B).shape"
      ],
      "execution_count": 8,
      "outputs": [
        {
          "output_type": "execute_result",
          "data": {
            "text/plain": [
              "(4, 2)"
            ]
          },
          "metadata": {},
          "execution_count": 8
        }
      ]
    },
    {
      "cell_type": "code",
      "metadata": {
        "colab": {
          "base_uri": "https://localhost:8080/"
        },
        "id": "1N1-YmtEK7ji",
        "outputId": "b5513fd3-5e43-49a2-c544-41c0afe95492"
      },
      "source": [
        "B.T.shape"
      ],
      "execution_count": 9,
      "outputs": [
        {
          "output_type": "execute_result",
          "data": {
            "text/plain": [
              "(4, 2)"
            ]
          },
          "metadata": {},
          "execution_count": 9
        }
      ]
    },
    {
      "cell_type": "markdown",
      "metadata": {
        "id": "-ogf8jtmLQgU"
      },
      "source": [
        "Try to create your own matrix (you can try non-squares) to test transposition."
      ]
    },
    {
      "cell_type": "code",
      "metadata": {
        "colab": {
          "base_uri": "https://localhost:8080/"
        },
        "id": "48bQ_jRCLY97",
        "outputId": "25d4318a-f8bd-464d-b0df-f6dc42f0c115"
      },
      "source": [
        "C=np.array([\n",
        "            [1,3,4,3],\n",
        "            [9,0,6,1],\n",
        "            [8,2,6,8]\n",
        "\n",
        "])\n",
        "C.shape"
      ],
      "execution_count": 10,
      "outputs": [
        {
          "output_type": "execute_result",
          "data": {
            "text/plain": [
              "(3, 4)"
            ]
          },
          "metadata": {},
          "execution_count": 10
        }
      ]
    },
    {
      "cell_type": "code",
      "metadata": {
        "colab": {
          "base_uri": "https://localhost:8080/"
        },
        "id": "rUmoZYYWL1Wr",
        "outputId": "73e0f3d5-a38f-4dbe-f0c5-42302a6711af"
      },
      "source": [
        "np.transpose(C).shape"
      ],
      "execution_count": 11,
      "outputs": [
        {
          "output_type": "execute_result",
          "data": {
            "text/plain": [
              "(4, 3)"
            ]
          },
          "metadata": {},
          "execution_count": 11
        }
      ]
    },
    {
      "cell_type": "code",
      "metadata": {
        "colab": {
          "base_uri": "https://localhost:8080/"
        },
        "id": "caC2BRcn6kBQ",
        "outputId": "b39b5c40-3863-4ba7-e76a-7fc4428e22ba"
      },
      "source": [
        "C.T.shape"
      ],
      "execution_count": 12,
      "outputs": [
        {
          "output_type": "execute_result",
          "data": {
            "text/plain": [
              "(4, 3)"
            ]
          },
          "metadata": {},
          "execution_count": 12
        }
      ]
    },
    {
      "cell_type": "code",
      "metadata": {
        "colab": {
          "base_uri": "https://localhost:8080/"
        },
        "id": "BHbaHtY5LonR",
        "outputId": "a6fc28e6-b2b2-455f-b1dc-97f4ab593f62"
      },
      "source": [
        "CT = C.T\n",
        "CT"
      ],
      "execution_count": 13,
      "outputs": [
        {
          "output_type": "execute_result",
          "data": {
            "text/plain": [
              "array([[1, 9, 8],\n",
              "       [3, 0, 2],\n",
              "       [4, 6, 6],\n",
              "       [3, 1, 8]])"
            ]
          },
          "metadata": {},
          "execution_count": 13
        }
      ]
    },
    {
      "cell_type": "markdown",
      "metadata": {
        "id": "Q7NVbUYOMqaT"
      },
      "source": [
        "##Dot Product/Inner Product \n"
      ]
    },
    {
      "cell_type": "markdown",
      "metadata": {
        "id": "x0LPLOGd6y4M"
      },
      "source": [
        "If you recall the dot product from laboratory activity before, we will try to implement the same operation with matrices. In matrix dot product we are going to get the sum of products of the vectors by row-column pairs. So if we have two matrices $X$ and $Y$:"
      ]
    },
    {
      "cell_type": "markdown",
      "metadata": {
        "id": "4XSpxEcz62T2"
      },
      "source": [
        "$$X = \\begin{bmatrix}x_{(0,0)}&x_{(0,1)}\\\\ x_{(1,0)}&x_{(1,1)}\\end{bmatrix}, Y = \\begin{bmatrix}y_{(0,0)}&y_{(0,1)}& y_{(1,0)}&y_{(1,1)}\\end{bmatrix}$$"
      ]
    },
    {
      "cell_type": "markdown",
      "metadata": {
        "id": "p4m4-Ool7YmV"
      },
      "source": [
        "The dot product will then be computed as:"
      ]
    },
    {
      "cell_type": "markdown",
      "metadata": {
        "id": "R-CA3kdt7biC"
      },
      "source": [
        "$$X \\cdot Y= \\begin{bmatrix} x_{(0,0)}*y_{(0,0)} + x_{(0,1)}*y_{(1,0)} & x_{(0,0)}*y_{(0,1)} + x_{(0,1)}*y_{(1,1)} \\\\  x_{(1,0)}*y_{(0,0)} + x_{(1,1)}*y_{(1,0)} & x_{(1,0)}*y_{(0,1)} + x_{(1,1)}*y_{(1,1)}\n",
        "\\end{bmatrix}$$"
      ]
    },
    {
      "cell_type": "markdown",
      "metadata": {
        "id": "TX5Wq5ga7qfx"
      },
      "source": [
        "So if we assign values to $X$ and $Y$:"
      ]
    },
    {
      "cell_type": "markdown",
      "metadata": {
        "id": "6eoj80Ed7tmD"
      },
      "source": [
        "$$X = \\begin{bmatrix}1&2\\\\ 0&1\\end{bmatrix}, Y = \\begin{bmatrix}-1&0\\ 2&2\\end{bmatrix}$$\n",
        "$$X \\cdot Y= \\begin{bmatrix} 1*-1 + 2*2 & 1*0 + 2*2 \\\\  0*-1 + 1*2 & 0*0 + 1*2 \\end{bmatrix} = \\begin{bmatrix} 3 & 4 2 & 2 \\end{bmatrix}$$"
      ]
    },
    {
      "cell_type": "markdown",
      "metadata": {
        "id": "1LBQxsMAAuz5"
      },
      "source": [
        "This could be achieved programmatically using np.dot(), np.matmul() or the @ operator."
      ]
    },
    {
      "cell_type": "code",
      "metadata": {
        "id": "XnCAruGCMo14"
      },
      "source": [
        "X = np.array([\n",
        "    [1,2],\n",
        "    [0,1]\n",
        "])\n",
        "Y = np.array([\n",
        "    [-1,0],\n",
        "    [2,2]\n",
        "])"
      ],
      "execution_count": 10,
      "outputs": []
    },
    {
      "cell_type": "code",
      "metadata": {
        "colab": {
          "base_uri": "https://localhost:8080/"
        },
        "id": "25dCTWpPA3-j",
        "outputId": "fb1951dd-f146-4768-fedb-971697bcc745"
      },
      "source": [
        "np.array_equiv(X, Y)"
      ],
      "execution_count": 11,
      "outputs": [
        {
          "output_type": "execute_result",
          "data": {
            "text/plain": [
              "False"
            ]
          },
          "metadata": {},
          "execution_count": 11
        }
      ]
    },
    {
      "cell_type": "code",
      "metadata": {
        "colab": {
          "base_uri": "https://localhost:8080/"
        },
        "id": "nLYQVXxrOGtn",
        "outputId": "fd397953-1fb5-4cca-86f4-22a511b8dc67"
      },
      "source": [
        "np.dot(X,Y)"
      ],
      "execution_count": 12,
      "outputs": [
        {
          "output_type": "execute_result",
          "data": {
            "text/plain": [
              "array([[3, 4],\n",
              "       [2, 2]])"
            ]
          },
          "metadata": {},
          "execution_count": 12
        }
      ]
    },
    {
      "cell_type": "markdown",
      "metadata": {
        "id": "ET8UO_KsLQlK"
      },
      "source": [
        "The np.dot() can handle 2D arrays but considering them as matrix and will perform matrix multiplication. [2] The Python dot product is also known as a scalar product in algebraic operation which takes two equal-length sequences and returns a single number. [3] "
      ]
    },
    {
      "cell_type": "code",
      "metadata": {
        "colab": {
          "base_uri": "https://localhost:8080/"
        },
        "id": "4ClfjgQOOL7d",
        "outputId": "52f47cd6-a30b-4dee-93dd-1cdedc0f38d9"
      },
      "source": [
        "X.dot(Y)"
      ],
      "execution_count": 15,
      "outputs": [
        {
          "output_type": "execute_result",
          "data": {
            "text/plain": [
              "array([[3, 4],\n",
              "       [2, 2]])"
            ]
          },
          "metadata": {},
          "execution_count": 15
        }
      ]
    },
    {
      "cell_type": "code",
      "metadata": {
        "colab": {
          "base_uri": "https://localhost:8080/"
        },
        "id": "FP1znYjjOPcA",
        "outputId": "c9cd65d1-3f4c-4ab8-be79-e71fc862a623"
      },
      "source": [
        "X@Y"
      ],
      "execution_count": 13,
      "outputs": [
        {
          "output_type": "execute_result",
          "data": {
            "text/plain": [
              "array([[3, 4],\n",
              "       [2, 2]])"
            ]
          },
          "metadata": {},
          "execution_count": 13
        }
      ]
    },
    {
      "cell_type": "code",
      "metadata": {
        "colab": {
          "base_uri": "https://localhost:8080/"
        },
        "id": "TQyAbklZORpm",
        "outputId": "b6d81a09-2fc0-4fdc-c065-5bc732f5dd1f"
      },
      "source": [
        "np.matmul(X,Y)"
      ],
      "execution_count": 14,
      "outputs": [
        {
          "output_type": "execute_result",
          "data": {
            "text/plain": [
              "array([[3, 4],\n",
              "       [2, 2]])"
            ]
          },
          "metadata": {},
          "execution_count": 14
        }
      ]
    },
    {
      "cell_type": "markdown",
      "metadata": {
        "id": "IeMXg59DQI2e"
      },
      "source": [
        "We use np.matmul to multiply two arrays in Python and is used to find out the matrix product of two arrays [4]. \n",
        "\n",
        "![para.png](data:image/png;base64,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)\n",
        "\n",
        ">Fig. 1: matmul() function parameters\n",
        "\n",
        "\n"
      ]
    },
    {
      "cell_type": "code",
      "metadata": {
        "id": "m9ZTjs6IBKV-"
      },
      "source": [
        "D = np.array([\n",
        "    [3,2,2],\n",
        "    [3,1,3],\n",
        "    [5,3,2]\n",
        "])\n",
        "E = np.array([\n",
        "    [-2,0,5],\n",
        "    [2,4,6],\n",
        "    [7,4,3]\n",
        "])"
      ],
      "execution_count": 16,
      "outputs": []
    },
    {
      "cell_type": "code",
      "metadata": {
        "colab": {
          "base_uri": "https://localhost:8080/"
        },
        "id": "Y8dyUyx1Bnfz",
        "outputId": "d0f8e0dd-ec86-43a3-ffaa-ce8892cd564d"
      },
      "source": [
        "D @ E"
      ],
      "execution_count": 17,
      "outputs": [
        {
          "output_type": "execute_result",
          "data": {
            "text/plain": [
              "array([[12, 16, 33],\n",
              "       [17, 16, 30],\n",
              "       [10, 20, 49]])"
            ]
          },
          "metadata": {},
          "execution_count": 17
        }
      ]
    },
    {
      "cell_type": "code",
      "metadata": {
        "colab": {
          "base_uri": "https://localhost:8080/"
        },
        "id": "BG-1Y6DXBq7x",
        "outputId": "a878a317-0d0a-4e61-9a3b-6ce01ad31d5f"
      },
      "source": [
        "D.dot(E)"
      ],
      "execution_count": 18,
      "outputs": [
        {
          "output_type": "execute_result",
          "data": {
            "text/plain": [
              "array([[12, 16, 33],\n",
              "       [17, 16, 30],\n",
              "       [10, 20, 49]])"
            ]
          },
          "metadata": {},
          "execution_count": 18
        }
      ]
    },
    {
      "cell_type": "code",
      "metadata": {
        "colab": {
          "base_uri": "https://localhost:8080/"
        },
        "id": "b9ZLBXaiBugW",
        "outputId": "af115a45-d93e-451c-c177-b718b91cc348"
      },
      "source": [
        "np.matmul(D, E)"
      ],
      "execution_count": 19,
      "outputs": [
        {
          "output_type": "execute_result",
          "data": {
            "text/plain": [
              "array([[12, 16, 33],\n",
              "       [17, 16, 30],\n",
              "       [10, 20, 49]])"
            ]
          },
          "metadata": {},
          "execution_count": 19
        }
      ]
    },
    {
      "cell_type": "code",
      "metadata": {
        "colab": {
          "base_uri": "https://localhost:8080/"
        },
        "id": "-kakxe3OBw2J",
        "outputId": "ce69fa7f-46ee-49da-ed83-0d18d8880d65"
      },
      "source": [
        "np.dot(D, E)"
      ],
      "execution_count": 20,
      "outputs": [
        {
          "output_type": "execute_result",
          "data": {
            "text/plain": [
              "array([[12, 16, 33],\n",
              "       [17, 16, 30],\n",
              "       [10, 20, 49]])"
            ]
          },
          "metadata": {},
          "execution_count": 20
        }
      ]
    },
    {
      "cell_type": "markdown",
      "metadata": {
        "id": "uDbjPyxsSYDI"
      },
      "source": [
        "The matmul function and np.dot() has its differences. The matmul() function cannot perform multiplication of array with scalar values. [5]\n",
        "\n",
        "![matmul.jpg](data:image/jpeg;base64,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)\n",
        "\n",
        "![matmul2.jpg](data:image/jpeg;base64,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)\n",
        "\n",
        ">Fig 2 and 3: Difference between matmul and np.dot() function"
      ]
    },
    {
      "cell_type": "markdown",
      "metadata": {
        "id": "ycmNeweIBzeB"
      },
      "source": [
        "\n",
        "In matrix dot products there are additional rules compared with vector dot products. Since vector dot products were just in one dimension there are less restrictions. Since now we are dealing with Rank 2 vectors we need to consider some rules:"
      ]
    },
    {
      "cell_type": "markdown",
      "metadata": {
        "id": "__qoUeunDFUS"
      },
      "source": [
        "###**Rule 1: The inner dimensions of the two matrices in question must be the same**"
      ]
    },
    {
      "cell_type": "markdown",
      "metadata": {
        "id": "hiVyQMTnDKhi"
      },
      "source": [
        "So given a matrix $A$ with a shape of $(a,b)$ where $a$ and $b$ are any integers. If we want to do a dot product between $A$ and another matrix $B$, then matrix $B$ should have a shape of $(b,c)$ where $b$ and $c$ are any integers. So for given the following matrices:"
      ]
    },
    {
      "cell_type": "markdown",
      "metadata": {
        "id": "L1pUUITDDNwY"
      },
      "source": [
        "$$A = \\begin{bmatrix}2&4\\\\5&-2\\\\0&1\\end{bmatrix}, B = \\begin{bmatrix}1&13&3-1&-2\\end{bmatrix}, C = \\begin{bmatrix}0&1&11&1&2\\end{bmatrix}$$"
      ]
    },
    {
      "cell_type": "markdown",
      "metadata": {
        "id": "ksz1p2uZOZKy"
      },
      "source": [
        "So in this case $A$ has a shape of $(3,2)$, $B$ has a shape of $(3,2)$ and $C$ has a shape of $(2,3)$. So the only matrix pairs that is eligible to perform dot product is matrices $A \\cdot C$, or $B \\cdot C$."
      ]
    },
    {
      "cell_type": "code",
      "metadata": {
        "colab": {
          "base_uri": "https://localhost:8080/"
        },
        "id": "aQFs-4yeDv8v",
        "outputId": "b6e33ede-4bc3-4bb1-c0db-76f18e5c59fe"
      },
      "source": [
        "A = np.array([\n",
        "    [2, 4],\n",
        "    [5, -2],\n",
        "    [0, 1]\n",
        "])\n",
        "B = np.array([\n",
        "    [1,1],\n",
        "    [3,3],\n",
        "    [-1,-2]\n",
        "])\n",
        "C = np.array([\n",
        "    [0,1,1],\n",
        "    [1,1,2]\n",
        "])\n",
        "print(A.shape)\n",
        "print(B.shape)\n",
        "print(C.shape)"
      ],
      "execution_count": 21,
      "outputs": [
        {
          "output_type": "stream",
          "name": "stdout",
          "text": [
            "(3, 2)\n",
            "(3, 2)\n",
            "(2, 3)\n"
          ]
        }
      ]
    },
    {
      "cell_type": "code",
      "metadata": {
        "colab": {
          "base_uri": "https://localhost:8080/"
        },
        "id": "m3x9JoHZD0ZG",
        "outputId": "e1e8d6de-934a-40ec-aaea-a1c5892c25d7"
      },
      "source": [
        "A @ C"
      ],
      "execution_count": 22,
      "outputs": [
        {
          "output_type": "execute_result",
          "data": {
            "text/plain": [
              "array([[ 4,  6, 10],\n",
              "       [-2,  3,  1],\n",
              "       [ 1,  1,  2]])"
            ]
          },
          "metadata": {},
          "execution_count": 22
        }
      ]
    },
    {
      "cell_type": "code",
      "metadata": {
        "colab": {
          "base_uri": "https://localhost:8080/"
        },
        "id": "6FoH33olD3PL",
        "outputId": "ba43347a-954e-4a54-f3f9-f96073a418fc"
      },
      "source": [
        "B @ C"
      ],
      "execution_count": 23,
      "outputs": [
        {
          "output_type": "execute_result",
          "data": {
            "text/plain": [
              "array([[ 1,  2,  3],\n",
              "       [ 3,  6,  9],\n",
              "       [-2, -3, -5]])"
            ]
          },
          "metadata": {},
          "execution_count": 23
        }
      ]
    },
    {
      "cell_type": "code",
      "metadata": {
        "colab": {
          "base_uri": "https://localhost:8080/",
          "height": 189
        },
        "id": "vU3E9bRaEbWE",
        "outputId": "bc3c5ef5-e64b-4f5c-d2c8-64236ec7fae2"
      },
      "source": [
        " A @ B"
      ],
      "execution_count": 28,
      "outputs": [
        {
          "output_type": "error",
          "ename": "ValueError",
          "evalue": "ignored",
          "traceback": [
            "\u001b[0;31m---------------------------------------------------------------------------\u001b[0m",
            "\u001b[0;31mValueError\u001b[0m                                Traceback (most recent call last)",
            "\u001b[0;32m<ipython-input-28-455d622f3b50>\u001b[0m in \u001b[0;36m<module>\u001b[0;34m()\u001b[0m\n\u001b[0;32m----> 1\u001b[0;31m \u001b[0mA\u001b[0m \u001b[0;34m@\u001b[0m \u001b[0mB\u001b[0m\u001b[0;34m\u001b[0m\u001b[0;34m\u001b[0m\u001b[0m\n\u001b[0m",
            "\u001b[0;31mValueError\u001b[0m: matmul: Input operand 1 has a mismatch in its core dimension 0, with gufunc signature (n?,k),(k,m?)->(n?,m?) (size 3 is different from 2)"
          ]
        }
      ]
    },
    {
      "cell_type": "markdown",
      "metadata": {
        "id": "kAN8X8SZVLUH"
      },
      "source": [
        "Unlike addition or subtraction, the product of two matrices is not calculated by multiplying each cell of one matrix with the corresponding cell of the other but we calculate the sum of products of rows of one matrix with the column of the other matrix. [6] \n",
        "\n",
        "![a1.jpg](data:image/jpeg;base64,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)\n",
        "\n",
        ">Fig 4: Rules in Dot product"
      ]
    },
    {
      "cell_type": "code",
      "metadata": {
        "colab": {
          "base_uri": "https://localhost:8080/"
        },
        "id": "ZZiUjQoLD5Py",
        "outputId": "74a19f1b-5b1c-4a5e-e9df-868782e96f85"
      },
      "source": [
        "A @ B.T"
      ],
      "execution_count": 24,
      "outputs": [
        {
          "output_type": "execute_result",
          "data": {
            "text/plain": [
              "array([[  6,  18, -10],\n",
              "       [  3,   9,  -1],\n",
              "       [  1,   3,  -2]])"
            ]
          },
          "metadata": {},
          "execution_count": 24
        }
      ]
    },
    {
      "cell_type": "code",
      "metadata": {
        "id": "-tgbodGpD9Iu"
      },
      "source": [
        "X = np.array([\n",
        "    [1,2,3,0]\n",
        "])\n",
        "Y = np.array([\n",
        "    [1,0,4,-1]\n",
        "])\n",
        "print(X.shape)\n",
        "print(Y.shape)"
      ],
      "execution_count": null,
      "outputs": []
    },
    {
      "cell_type": "code",
      "metadata": {
        "colab": {
          "base_uri": "https://localhost:8080/"
        },
        "id": "7uEPSq26D_-l",
        "outputId": "6950b9e5-1e60-4b6b-c1ad-59f5d2f45c49"
      },
      "source": [
        "Y.T @ X"
      ],
      "execution_count": 26,
      "outputs": [
        {
          "output_type": "execute_result",
          "data": {
            "text/plain": [
              "array([[ 1,  2,  3,  0],\n",
              "       [ 0,  0,  0,  0],\n",
              "       [ 4,  8, 12,  0],\n",
              "       [-1, -2, -3,  0]])"
            ]
          },
          "metadata": {},
          "execution_count": 26
        }
      ]
    },
    {
      "cell_type": "code",
      "metadata": {
        "colab": {
          "base_uri": "https://localhost:8080/"
        },
        "id": "lvckiMM9EA9Q",
        "outputId": "d61d8a3e-0468-49d5-f394-c5ef9bd80a12"
      },
      "source": [
        "X @ Y.T"
      ],
      "execution_count": 27,
      "outputs": [
        {
          "output_type": "execute_result",
          "data": {
            "text/plain": [
              "array([[13]])"
            ]
          },
          "metadata": {},
          "execution_count": 27
        }
      ]
    },
    {
      "cell_type": "markdown",
      "metadata": {
        "id": "XZDr1GEaEdoV"
      },
      "source": [
        "\n",
        "And you can see that when you try to multiply A and B, it returns ValueError pertaining to matrix shape mismatch."
      ]
    },
    {
      "cell_type": "markdown",
      "metadata": {
        "id": "deGYEvauEiq7"
      },
      "source": [
        "## **Rule 2: Dot Product has special properties**"
      ]
    },
    {
      "cell_type": "markdown",
      "metadata": {
        "id": "FYDnPlrOEnke"
      },
      "source": [
        "Dot products are prevalent in matrix algebra, this implies that it has several unique properties and it should be considered when formulation solutions:"
      ]
    },
    {
      "cell_type": "markdown",
      "metadata": {
        "id": "yXQaThdrEu09"
      },
      "source": [
        "1. $A \\cdot B \\neq B \\cdot A$\n",
        "2.$A \\cdot (B \\cdot C) = (A \\cdot B) \\cdot C$\n",
        "3. $A\\cdot(B+C) = A\\cdot B + A\\cdot C$\n",
        "4. $(B+C)\\cdot A = B\\cdot A + C\\cdot A$\n",
        "5. $A\\cdot I = A$\n",
        "6. $A\\cdot \\emptyset = \\emptyset$"
      ]
    },
    {
      "cell_type": "markdown",
      "metadata": {
        "id": "1CwXvWReE9u7"
      },
      "source": [
        "I'll be doing just one of the properties and I'll leave the rest to test your skills!"
      ]
    },
    {
      "cell_type": "code",
      "metadata": {
        "id": "vn-CH-dkEgVu"
      },
      "source": [
        "A = np.array([\n",
        "    [3,2,1],\n",
        "    [4,5,1],\n",
        "    [1,1,1]\n",
        "])\n",
        "B = np.array([\n",
        "    [4,1,6],\n",
        "    [4,1,9],\n",
        "    [1,4,8]\n",
        "])\n",
        "C = np.array([\n",
        "    [1,1,0],\n",
        "    [0,1,1],\n",
        "    [1,0,1]\n",
        "])"
      ],
      "execution_count": 28,
      "outputs": []
    },
    {
      "cell_type": "code",
      "metadata": {
        "colab": {
          "base_uri": "https://localhost:8080/"
        },
        "id": "AVi9Q6w-FFS6",
        "outputId": "569bf042-5325-4984-ebd7-2cb26ebc51ba"
      },
      "source": [
        "np.eye(3)"
      ],
      "execution_count": 29,
      "outputs": [
        {
          "output_type": "execute_result",
          "data": {
            "text/plain": [
              "array([[1., 0., 0.],\n",
              "       [0., 1., 0.],\n",
              "       [0., 0., 1.]])"
            ]
          },
          "metadata": {},
          "execution_count": 29
        }
      ]
    },
    {
      "cell_type": "code",
      "metadata": {
        "colab": {
          "base_uri": "https://localhost:8080/"
        },
        "id": "ZQQRhGKyFGWh",
        "outputId": "f0f641e1-4c5b-4561-b7b0-7c8c14fa3942"
      },
      "source": [
        "A.dot(np.eye(3))"
      ],
      "execution_count": 30,
      "outputs": [
        {
          "output_type": "execute_result",
          "data": {
            "text/plain": [
              "array([[3., 2., 1.],\n",
              "       [4., 5., 1.],\n",
              "       [1., 1., 1.]])"
            ]
          },
          "metadata": {},
          "execution_count": 30
        }
      ]
    },
    {
      "cell_type": "code",
      "metadata": {
        "colab": {
          "base_uri": "https://localhost:8080/"
        },
        "id": "GE_a36KXFIYo",
        "outputId": "569b6afe-34af-46ff-e9aa-a348f63d882c"
      },
      "source": [
        "np.array_equal(A@B, B@A)"
      ],
      "execution_count": 31,
      "outputs": [
        {
          "output_type": "execute_result",
          "data": {
            "text/plain": [
              "False"
            ]
          },
          "metadata": {},
          "execution_count": 31
        }
      ]
    },
    {
      "cell_type": "code",
      "metadata": {
        "colab": {
          "base_uri": "https://localhost:8080/"
        },
        "id": "Y1ywJgsDFKfY",
        "outputId": "9bd96f9d-0265-483d-88ee-0b308071faea"
      },
      "source": [
        "E = A @ (B @ C)\n",
        "E"
      ],
      "execution_count": 32,
      "outputs": [
        {
          "output_type": "execute_result",
          "data": {
            "text/plain": [
              "array([[ 65,  30,  53],\n",
              "       [114,  50,  90],\n",
              "       [ 32,  15,  29]])"
            ]
          },
          "metadata": {},
          "execution_count": 32
        }
      ]
    },
    {
      "cell_type": "code",
      "metadata": {
        "colab": {
          "base_uri": "https://localhost:8080/"
        },
        "id": "BJTYNhvFFMtG",
        "outputId": "f021820e-712b-475b-8c74-a19e457127f4"
      },
      "source": [
        "F = (A @ B) @ C\n",
        "F"
      ],
      "execution_count": 33,
      "outputs": [
        {
          "output_type": "execute_result",
          "data": {
            "text/plain": [
              "array([[ 65,  30,  53],\n",
              "       [114,  50,  90],\n",
              "       [ 32,  15,  29]])"
            ]
          },
          "metadata": {},
          "execution_count": 33
        }
      ]
    },
    {
      "cell_type": "code",
      "metadata": {
        "colab": {
          "base_uri": "https://localhost:8080/"
        },
        "id": "w8GX2bxjFO_B",
        "outputId": "0c600233-e7e7-4184-b0f5-97df37a7bde2"
      },
      "source": [
        "np.array_equal(E, X)"
      ],
      "execution_count": 34,
      "outputs": [
        {
          "output_type": "execute_result",
          "data": {
            "text/plain": [
              "False"
            ]
          },
          "metadata": {},
          "execution_count": 34
        }
      ]
    },
    {
      "cell_type": "code",
      "metadata": {
        "colab": {
          "base_uri": "https://localhost:8080/"
        },
        "id": "EjWxdhzzFTyp",
        "outputId": "68ebf5f8-781a-4ac1-be9d-0dd2b48aa0a9"
      },
      "source": [
        "np.array_equiv(E, F)"
      ],
      "execution_count": 35,
      "outputs": [
        {
          "output_type": "execute_result",
          "data": {
            "text/plain": [
              "True"
            ]
          },
          "metadata": {},
          "execution_count": 35
        }
      ]
    },
    {
      "cell_type": "code",
      "metadata": {
        "colab": {
          "base_uri": "https://localhost:8080/",
          "height": 298
        },
        "id": "E5VRSp_VFXJp",
        "outputId": "3c79d014-2c12-4180-a2a6-466b80a0958e"
      },
      "source": [
        "np.eye(A)"
      ],
      "execution_count": 36,
      "outputs": [
        {
          "output_type": "error",
          "ename": "TypeError",
          "evalue": "ignored",
          "traceback": [
            "\u001b[0;31m---------------------------------------------------------------------------\u001b[0m",
            "\u001b[0;31mTypeError\u001b[0m                                 Traceback (most recent call last)",
            "\u001b[0;32m<ipython-input-36-13ff6dcd75e1>\u001b[0m in \u001b[0;36m<module>\u001b[0;34m()\u001b[0m\n\u001b[0;32m----> 1\u001b[0;31m \u001b[0mnp\u001b[0m\u001b[0;34m.\u001b[0m\u001b[0meye\u001b[0m\u001b[0;34m(\u001b[0m\u001b[0mA\u001b[0m\u001b[0;34m)\u001b[0m\u001b[0;34m\u001b[0m\u001b[0;34m\u001b[0m\u001b[0m\n\u001b[0m",
            "\u001b[0;32m/usr/local/lib/python3.7/dist-packages/numpy/lib/twodim_base.py\u001b[0m in \u001b[0;36meye\u001b[0;34m(N, M, k, dtype, order)\u001b[0m\n\u001b[1;32m    197\u001b[0m     \u001b[0;32mif\u001b[0m \u001b[0mM\u001b[0m \u001b[0;32mis\u001b[0m \u001b[0;32mNone\u001b[0m\u001b[0;34m:\u001b[0m\u001b[0;34m\u001b[0m\u001b[0;34m\u001b[0m\u001b[0m\n\u001b[1;32m    198\u001b[0m         \u001b[0mM\u001b[0m \u001b[0;34m=\u001b[0m \u001b[0mN\u001b[0m\u001b[0;34m\u001b[0m\u001b[0;34m\u001b[0m\u001b[0m\n\u001b[0;32m--> 199\u001b[0;31m     \u001b[0mm\u001b[0m \u001b[0;34m=\u001b[0m \u001b[0mzeros\u001b[0m\u001b[0;34m(\u001b[0m\u001b[0;34m(\u001b[0m\u001b[0mN\u001b[0m\u001b[0;34m,\u001b[0m \u001b[0mM\u001b[0m\u001b[0;34m)\u001b[0m\u001b[0;34m,\u001b[0m \u001b[0mdtype\u001b[0m\u001b[0;34m=\u001b[0m\u001b[0mdtype\u001b[0m\u001b[0;34m,\u001b[0m \u001b[0morder\u001b[0m\u001b[0;34m=\u001b[0m\u001b[0morder\u001b[0m\u001b[0;34m)\u001b[0m\u001b[0;34m\u001b[0m\u001b[0;34m\u001b[0m\u001b[0m\n\u001b[0m\u001b[1;32m    200\u001b[0m     \u001b[0;32mif\u001b[0m \u001b[0mk\u001b[0m \u001b[0;34m>=\u001b[0m \u001b[0mM\u001b[0m\u001b[0;34m:\u001b[0m\u001b[0;34m\u001b[0m\u001b[0;34m\u001b[0m\u001b[0m\n\u001b[1;32m    201\u001b[0m         \u001b[0;32mreturn\u001b[0m \u001b[0mm\u001b[0m\u001b[0;34m\u001b[0m\u001b[0;34m\u001b[0m\u001b[0m\n",
            "\u001b[0;31mTypeError\u001b[0m: only integer scalar arrays can be converted to a scalar index"
          ]
        }
      ]
    },
    {
      "cell_type": "code",
      "metadata": {
        "colab": {
          "base_uri": "https://localhost:8080/"
        },
        "id": "3XKb2lkNFYcO",
        "outputId": "246e216f-3ed6-4129-cb72-71cdade3b5dd"
      },
      "source": [
        "A @ E"
      ],
      "execution_count": 37,
      "outputs": [
        {
          "output_type": "execute_result",
          "data": {
            "text/plain": [
              "array([[455, 205, 368],\n",
              "       [862, 385, 691],\n",
              "       [211,  95, 172]])"
            ]
          },
          "metadata": {},
          "execution_count": 37
        }
      ]
    },
    {
      "cell_type": "code",
      "metadata": {
        "colab": {
          "base_uri": "https://localhost:8080/"
        },
        "id": "nlT1zgPVFb5-",
        "outputId": "928beff9-74ee-43e1-d480-3741c7d04559"
      },
      "source": [
        "z_mat = np.zeros(A.shape)\n",
        "z_mat"
      ],
      "execution_count": 38,
      "outputs": [
        {
          "output_type": "execute_result",
          "data": {
            "text/plain": [
              "array([[0., 0., 0.],\n",
              "       [0., 0., 0.],\n",
              "       [0., 0., 0.]])"
            ]
          },
          "metadata": {},
          "execution_count": 38
        }
      ]
    },
    {
      "cell_type": "code",
      "metadata": {
        "colab": {
          "base_uri": "https://localhost:8080/"
        },
        "id": "TzS7BerJFdqG",
        "outputId": "8d95f6fe-0c9c-4240-c780-73adeb7e05ef"
      },
      "source": [
        "a_dot_z = A.dot(np.zeros(A.shape))\n",
        "a_dot_z"
      ],
      "execution_count": 39,
      "outputs": [
        {
          "output_type": "execute_result",
          "data": {
            "text/plain": [
              "array([[0., 0., 0.],\n",
              "       [0., 0., 0.],\n",
              "       [0., 0., 0.]])"
            ]
          },
          "metadata": {},
          "execution_count": 39
        }
      ]
    },
    {
      "cell_type": "code",
      "metadata": {
        "colab": {
          "base_uri": "https://localhost:8080/"
        },
        "id": "QyecHiAUFgHi",
        "outputId": "2f0360bc-f961-41cf-e82b-4f3ae77fffcd"
      },
      "source": [
        "np.array_equal(a_dot_z,z_mat)"
      ],
      "execution_count": 40,
      "outputs": [
        {
          "output_type": "execute_result",
          "data": {
            "text/plain": [
              "True"
            ]
          },
          "metadata": {},
          "execution_count": 40
        }
      ]
    },
    {
      "cell_type": "code",
      "metadata": {
        "colab": {
          "base_uri": "https://localhost:8080/"
        },
        "id": "O2XZvz7uFi5J",
        "outputId": "47c6fa74-d281-4b10-ae42-73983c042e8a"
      },
      "source": [
        "null_mat = np.empty(A.shape, dtype=float)\n",
        "null = np.array(null_mat,dtype=float)\n",
        "print(null)\n",
        "np.allclose(a_dot_z,null)"
      ],
      "execution_count": 41,
      "outputs": [
        {
          "output_type": "stream",
          "name": "stdout",
          "text": [
            "[[0. 0. 0.]\n",
            " [0. 0. 0.]\n",
            " [0. 0. 0.]]\n"
          ]
        },
        {
          "output_type": "execute_result",
          "data": {
            "text/plain": [
              "True"
            ]
          },
          "metadata": {},
          "execution_count": 41
        }
      ]
    },
    {
      "cell_type": "markdown",
      "metadata": {
        "id": "CdPA_MoUIFzW"
      },
      "source": [
        "##**Determinant**"
      ]
    },
    {
      "cell_type": "markdown",
      "metadata": {
        "id": "dxFLTqlJIJrm"
      },
      "source": [
        "A determinant is a scalar value derived from a square matrix. The determinant is a fundamental and important value used in matrix algebra. Although it will not be evident in this laboratory on how it can be used practically, but it will be reatly used in future lessons."
      ]
    },
    {
      "cell_type": "markdown",
      "metadata": {
        "id": "NftJjOaNINDY"
      },
      "source": [
        "The determinant of some matrix $A$ is denoted as $det(A)$ or $|A|$. So let's say $A$ is represented as:"
      ]
    },
    {
      "cell_type": "markdown",
      "metadata": {
        "id": "dZVYEO_QIQAK"
      },
      "source": [
        "$$A = \\begin{bmatrix}a_{(0,0)}&a_{(0,1)}\\\\a_{(1,0)}&a_{(1,1)}\\end{bmatrix}$$"
      ]
    },
    {
      "cell_type": "markdown",
      "metadata": {
        "id": "9XxR697rIc6u"
      },
      "source": [
        "We can compute for the determinant as:"
      ]
    },
    {
      "cell_type": "markdown",
      "metadata": {
        "id": "RLh-4TeEIhki"
      },
      "source": [
        "$$|A| = a_{(0,0)}*a_{(1,1)} - a_{(1,0)}*a_{(0,1)}$$"
      ]
    },
    {
      "cell_type": "markdown",
      "metadata": {
        "id": "4C0Vic3SIkt6"
      },
      "source": [
        "So if we have $A$ as:"
      ]
    },
    {
      "cell_type": "markdown",
      "metadata": {
        "id": "eZCOhxJSIlsu"
      },
      "source": [
        "$$A = \\begin{bmatrix}1&4\\\\0&3\\end{bmatrix}, |A| = 3$$"
      ]
    },
    {
      "cell_type": "markdown",
      "metadata": {
        "id": "HohcQ_PcItw9"
      },
      "source": [
        "But you might wonder how about square matrices beyond the shape $(2,2)$? We can approach this problem by using several methods such as co-factor expansion and the minors method. This can be taught in the lecture of the laboratory but we can achieve the strenuous computation of high-dimensional matrices programmatically using Python. We can achieve this by using np.linalg.det()."
      ]
    },
    {
      "cell_type": "code",
      "metadata": {
        "colab": {
          "base_uri": "https://localhost:8080/"
        },
        "id": "3U0M0BO2Iz30",
        "outputId": "df207680-9d47-42cf-bd65-6509102f5af6"
      },
      "source": [
        "A = np.array([\n",
        "    [1,4],\n",
        "    [0,3]\n",
        "])\n",
        "np.linalg.det(A)"
      ],
      "execution_count": 42,
      "outputs": [
        {
          "output_type": "execute_result",
          "data": {
            "text/plain": [
              "3.0000000000000004"
            ]
          },
          "metadata": {},
          "execution_count": 42
        }
      ]
    },
    {
      "cell_type": "code",
      "metadata": {
        "colab": {
          "base_uri": "https://localhost:8080/"
        },
        "id": "LiwtGPYmI21O",
        "outputId": "74340be4-3728-43bb-a8bf-e6f9919c9a80"
      },
      "source": [
        "B = np.array([\n",
        "              [1, 5, 2],\n",
        "              [3, -1 ,-1],\n",
        "              [0, -2, 1]\n",
        "])\n",
        "np.linalg.det(B)"
      ],
      "execution_count": 43,
      "outputs": [
        {
          "output_type": "execute_result",
          "data": {
            "text/plain": [
              "-30.000000000000014"
            ]
          },
          "metadata": {},
          "execution_count": 43
        }
      ]
    },
    {
      "cell_type": "markdown",
      "metadata": {
        "id": "rvejLcIcXx6f"
      },
      "source": [
        "It is useful in linear algebra to calculate diagonal elements from a square matrix. For a matrix [[a,b], [c,d]], the determinant is computed as ‘ad-bc’. The larger square matrices are considered to be a combination of 2x2 matrices. The numpy.linalg.det() function calculates the determinant of the input matrix. [7] "
      ]
    },
    {
      "cell_type": "code",
      "metadata": {
        "colab": {
          "base_uri": "https://localhost:8080/"
        },
        "id": "jbyJafk8I50A",
        "outputId": "3580a8de-90c9-4919-a009-85e2b7710771"
      },
      "source": [
        "## Now other mathematics classes would require you to solve this by hand, \n",
        "## and that is great for practicing your memorization and coordination skills \n",
        "## but in this class we aim for simplicity and speed so we'll use programming\n",
        "## but it's completely fine if you want to try to solve this one by hand.\n",
        "B = np.array([\n",
        "    [1,3,5,6],\n",
        "    [0,3,1,3],\n",
        "    [3,1,8,2],\n",
        "    [5,2,6,8]\n",
        "])\n",
        "np.linalg.det(B)"
      ],
      "execution_count": 44,
      "outputs": [
        {
          "output_type": "execute_result",
          "data": {
            "text/plain": [
              "-235.0000000000002"
            ]
          },
          "metadata": {},
          "execution_count": 44
        }
      ]
    },
    {
      "cell_type": "markdown",
      "metadata": {
        "id": "RE3fhV9sI-al"
      },
      "source": [
        "##**Inverse**"
      ]
    },
    {
      "cell_type": "markdown",
      "metadata": {
        "id": "_kR1M7w3JB_q"
      },
      "source": [
        "The inverse of a matrix is another fundamental operation in matrix algebra. Determining the inverse of a matrix let us determine if its solvability and its characteristic as a system of linear equation — we'll expand on this in the nect module. Another use of the inverse matrix is solving the problem of divisibility between matrices. Although element-wise division exists but dividing the entire concept of matrices does not exists. Inverse matrices provides a related operation that could have the same concept of \"dividing\" matrices."
      ]
    },
    {
      "cell_type": "markdown",
      "metadata": {
        "id": "yfReyPlkJEKg"
      },
      "source": [
        "Now to determine the inverse of a matrix we need to perform several steps. So let's say we have a matrix $M$:"
      ]
    },
    {
      "cell_type": "markdown",
      "metadata": {
        "id": "G1M1MVmkJHCA"
      },
      "source": [
        "$$M = \\begin{bmatrix}1&7\\\\-3&5\\end{bmatrix}$$"
      ]
    },
    {
      "cell_type": "markdown",
      "metadata": {
        "id": "aq5cElfPJPC7"
      },
      "source": [
        "First, we need to get the determinant of $M$."
      ]
    },
    {
      "cell_type": "markdown",
      "metadata": {
        "id": "S3jD99czJRtC"
      },
      "source": [
        "$$|M| = (1)(5)-(-3)(7) = 26$$"
      ]
    },
    {
      "cell_type": "markdown",
      "metadata": {
        "id": "VF80NbexJT9d"
      },
      "source": [
        "Next, we need to reform the matrix into the inverse form:"
      ]
    },
    {
      "cell_type": "markdown",
      "metadata": {
        "id": "9WgjXVLzJWV-"
      },
      "source": [
        "$$M^{-1} = \\frac{1}{|M|} \\begin{bmatrix} m_{(1,1)} & -m_{(0,1)} \\\\ -m_{(1,0)} & m_{(0,0)}\\end{bmatrix}$$"
      ]
    },
    {
      "cell_type": "markdown",
      "metadata": {
        "id": "-YRR1ld7JbVm"
      },
      "source": [
        "So that will be:"
      ]
    },
    {
      "cell_type": "markdown",
      "metadata": {
        "id": "Fnr6wBJ5JdqU"
      },
      "source": [
        "$$M^{-1} = \\frac{1}{26} \\begin{bmatrix} 5 & -7 \\\\ 3 & 1\\end{bmatrix} = \\begin{bmatrix} \\frac{5}{26} & \\frac{-7}{26} & \\frac{3}{26} & \\frac{1}{26}\\end{bmatrix}$$"
      ]
    },
    {
      "cell_type": "markdown",
      "metadata": {
        "id": "oeaUm4hNJjiv"
      },
      "source": [
        "For higher-dimension matrices you might need to use co-factors, minors, adjugates, and other reduction techinques. To solve this programmatially we can use np.linalg.inv()."
      ]
    },
    {
      "cell_type": "code",
      "metadata": {
        "colab": {
          "base_uri": "https://localhost:8080/"
        },
        "id": "n31PY9DRJtYL",
        "outputId": "b094c872-1477-4567-b53d-67a57618ded7"
      },
      "source": [
        "M = np.array([\n",
        "    [1,7],\n",
        "    [-3, 5]\n",
        "])\n",
        "\n",
        "np.array(M @ np.linalg.inv(M), dtype=int)"
      ],
      "execution_count": 45,
      "outputs": [
        {
          "output_type": "execute_result",
          "data": {
            "text/plain": [
              "array([[1, 0],\n",
              "       [0, 1]])"
            ]
          },
          "metadata": {},
          "execution_count": 45
        }
      ]
    },
    {
      "cell_type": "code",
      "metadata": {
        "colab": {
          "base_uri": "https://localhost:8080/"
        },
        "id": "33XtaTxfJxEA",
        "outputId": "5b65e2f5-f45c-45b6-83fb-674435972caf"
      },
      "source": [
        "P = np.array([\n",
        "              [6, 9, 0],\n",
        "              [4, 2, -1],\n",
        "              [3, 6, 7]\n",
        "])\n",
        "Q = np.linalg.inv(P)\n",
        "Q"
      ],
      "execution_count": 46,
      "outputs": [
        {
          "output_type": "execute_result",
          "data": {
            "text/plain": [
              "array([[-0.12578616,  0.39622642,  0.05660377],\n",
              "       [ 0.19496855, -0.26415094, -0.03773585],\n",
              "       [-0.11320755,  0.05660377,  0.1509434 ]])"
            ]
          },
          "metadata": {},
          "execution_count": 46
        }
      ]
    },
    {
      "cell_type": "code",
      "metadata": {
        "colab": {
          "base_uri": "https://localhost:8080/"
        },
        "id": "G7cGEL_VJztX",
        "outputId": "677bb31e-5c42-4eba-cebd-caeacdc7c346"
      },
      "source": [
        "P @ Q"
      ],
      "execution_count": 47,
      "outputs": [
        {
          "output_type": "execute_result",
          "data": {
            "text/plain": [
              "array([[ 1.00000000e+00, -5.55111512e-17, -6.93889390e-18],\n",
              "       [ 8.32667268e-17,  1.00000000e+00, -2.77555756e-17],\n",
              "       [ 2.77555756e-17, -1.38777878e-17,  1.00000000e+00]])"
            ]
          },
          "metadata": {},
          "execution_count": 47
        }
      ]
    },
    {
      "cell_type": "code",
      "metadata": {
        "colab": {
          "base_uri": "https://localhost:8080/"
        },
        "id": "OFsXpn6OJ0xX",
        "outputId": "d39d1360-86d0-486d-ac04-c6a5639e3f0b"
      },
      "source": [
        "## And now let's test your skills in solving a matrix with high dimensions:\n",
        "N = np.array([\n",
        "    [18,5,23,1,0,33,5],\n",
        "    [0,45,0,11,2,4,2],\n",
        "    [5,9,20,0,0,0,3],\n",
        "    [1,6,4,4,8,43,1],\n",
        "    [8,6,8,7,1,6,1],\n",
        "    [-5,15,2,0,0,6,-30],\n",
        "    [-2,-5,1,2,1,20,12],\n",
        "])\n",
        "N_inv = np.linalg.inv(N)\n",
        "np.array(N @ N_inv,dtype=int)"
      ],
      "execution_count": 48,
      "outputs": [
        {
          "output_type": "execute_result",
          "data": {
            "text/plain": [
              "array([[0, 0, 0, 0, 0, 0, 0],\n",
              "       [0, 0, 0, 0, 0, 0, 0],\n",
              "       [0, 0, 1, 0, 0, 0, 0],\n",
              "       [0, 0, 0, 1, 0, 0, 0],\n",
              "       [0, 0, 0, 0, 0, 0, 0],\n",
              "       [0, 0, 0, 0, 0, 0, 0],\n",
              "       [0, 0, 0, 0, 0, 0, 1]])"
            ]
          },
          "metadata": {},
          "execution_count": 48
        }
      ]
    },
    {
      "cell_type": "markdown",
      "metadata": {
        "id": "WoUyRonNJ67x"
      },
      "source": [
        "To validate the wether if the matric that you have solved is really the inverse, we follow this dot product property for a matrix $M$:"
      ]
    },
    {
      "cell_type": "markdown",
      "metadata": {
        "id": "wRpm3yC0J7rv"
      },
      "source": [
        "$$M\\cdot M^{-1} = I$$"
      ]
    },
    {
      "cell_type": "code",
      "metadata": {
        "id": "q4NCOFYQJ-Hu",
        "colab": {
          "base_uri": "https://localhost:8080/"
        },
        "outputId": "7cf25034-9942-4e16-e089-ba64e4734504"
      },
      "source": [
        "squad = np.array([\n",
        "    [1.0, 1.0, 0.5],\n",
        "    [0.7, 0.7, 0.9],\n",
        "    [0.3, 0.3, 1.0]\n",
        "])\n",
        "weights = np.array([\n",
        "    [0.2, 0.2, 0.6]\n",
        "])\n",
        "p_grade = squad @ weights.T\n",
        "p_grade"
      ],
      "execution_count": 49,
      "outputs": [
        {
          "output_type": "execute_result",
          "data": {
            "text/plain": [
              "array([[0.7 ],\n",
              "       [0.82],\n",
              "       [0.72]])"
            ]
          },
          "metadata": {},
          "execution_count": 49
        }
      ]
    },
    {
      "cell_type": "markdown",
      "metadata": {
        "id": "19lNzgFRkb5w"
      },
      "source": [
        "#**Activity**\n",
        "\n"
      ]
    },
    {
      "cell_type": "markdown",
      "metadata": {
        "id": "qcSBci3okrZP"
      },
      "source": [
        "**Task 1**"
      ]
    },
    {
      "cell_type": "markdown",
      "metadata": {
        "id": "b2IgqculkwoA"
      },
      "source": [
        "Prove and implement the remaining 6 matrix multiplication properties. You may create your own matrices in which their shapes should not be lower than $(3,3)$. In your methodology, create individual flowcharts for each property and discuss the property you would then present your proofs or validity of your implementation in the results section by comparing your result to present functions from NumPy."
      ]
    },
    {
      "cell_type": "code",
      "metadata": {
        "id": "4-ONWDmwQZth"
      },
      "source": [
        "A = np.array([\n",
        "    [2,7,6],\n",
        "    [1,2,3],\n",
        "    [9,7,1]\n",
        "])\n",
        "B = np.array([\n",
        "    [9,2,3],\n",
        "    [4,2,8],\n",
        "    [9,1,8]\n",
        "]) \n",
        "C = np.array([\n",
        "    [9,4,8],\n",
        "    [2,3,9],\n",
        "    [2,8,4]\n",
        "])"
      ],
      "execution_count": 62,
      "outputs": []
    },
    {
      "cell_type": "code",
      "metadata": {
        "colab": {
          "base_uri": "https://localhost:8080/"
        },
        "id": "tb6XSkJd0pGZ",
        "outputId": "be27bbf2-7e13-4e52-ded9-a5b6cc2b5bc4"
      },
      "source": [
        "#1\n",
        "A1 = A@B\n",
        "A1"
      ],
      "execution_count": 63,
      "outputs": [
        {
          "output_type": "execute_result",
          "data": {
            "text/plain": [
              "array([[100,  24, 110],\n",
              "       [ 44,   9,  43],\n",
              "       [118,  33,  91]])"
            ]
          },
          "metadata": {},
          "execution_count": 63
        }
      ]
    },
    {
      "cell_type": "code",
      "metadata": {
        "colab": {
          "base_uri": "https://localhost:8080/"
        },
        "id": "Or-WOJK40qT8",
        "outputId": "5c81c570-9838-44ec-a984-315475f905dc"
      },
      "source": [
        "B1 = B@A\n",
        "B1"
      ],
      "execution_count": 64,
      "outputs": [
        {
          "output_type": "execute_result",
          "data": {
            "text/plain": [
              "array([[ 47,  88,  63],\n",
              "       [ 82,  88,  38],\n",
              "       [ 91, 121,  65]])"
            ]
          },
          "metadata": {},
          "execution_count": 64
        }
      ]
    },
    {
      "cell_type": "code",
      "metadata": {
        "colab": {
          "base_uri": "https://localhost:8080/"
        },
        "id": "SDW_tCWE0s1h",
        "outputId": "a9aa9f0a-332a-4500-fb58-d9c52b7ea94d"
      },
      "source": [
        "np.array_equal(A1,B1)"
      ],
      "execution_count": 65,
      "outputs": [
        {
          "output_type": "execute_result",
          "data": {
            "text/plain": [
              "False"
            ]
          },
          "metadata": {},
          "execution_count": 65
        }
      ]
    },
    {
      "cell_type": "code",
      "metadata": {
        "id": "dxXOUV59VCVY",
        "colab": {
          "base_uri": "https://localhost:8080/"
        },
        "outputId": "38ea5acd-6eb7-426e-a80a-c59ff7675e84"
      },
      "source": [
        "#2\n",
        "A2 = A @ (B @ C)\n",
        "A2"
      ],
      "execution_count": 66,
      "outputs": [
        {
          "output_type": "execute_result",
          "data": {
            "text/plain": [
              "array([[1168, 1352, 1456],\n",
              "       [ 500,  547,  605],\n",
              "       [1310, 1299, 1605]])"
            ]
          },
          "metadata": {},
          "execution_count": 66
        }
      ]
    },
    {
      "cell_type": "code",
      "metadata": {
        "colab": {
          "base_uri": "https://localhost:8080/"
        },
        "id": "X0rio1V7010x",
        "outputId": "96070714-a91c-470e-ef23-6d63c23adb80"
      },
      "source": [
        "B2 = (A @ B) @ C\n",
        "B2"
      ],
      "execution_count": 67,
      "outputs": [
        {
          "output_type": "execute_result",
          "data": {
            "text/plain": [
              "array([[1168, 1352, 1456],\n",
              "       [ 500,  547,  605],\n",
              "       [1310, 1299, 1605]])"
            ]
          },
          "metadata": {},
          "execution_count": 67
        }
      ]
    },
    {
      "cell_type": "code",
      "metadata": {
        "colab": {
          "base_uri": "https://localhost:8080/"
        },
        "id": "hsxWyjiE036X",
        "outputId": "792a45dd-6415-4abb-aff3-354f2806ad5f"
      },
      "source": [
        "np.array_equal(A2,B2)"
      ],
      "execution_count": 68,
      "outputs": [
        {
          "output_type": "execute_result",
          "data": {
            "text/plain": [
              "True"
            ]
          },
          "metadata": {},
          "execution_count": 68
        }
      ]
    },
    {
      "cell_type": "code",
      "metadata": {
        "colab": {
          "base_uri": "https://localhost:8080/"
        },
        "id": "Z00K-d2d06N-",
        "outputId": "b9f9a544-e9d6-449d-84e7-dbe4b3022898"
      },
      "source": [
        "#3\n",
        "A3 = A @ (B + C)\n",
        "A3"
      ],
      "execution_count": 69,
      "outputs": [
        {
          "output_type": "execute_result",
          "data": {
            "text/plain": [
              "array([[144, 101, 213],\n",
              "       [ 63,  43,  81],\n",
              "       [215,  98, 230]])"
            ]
          },
          "metadata": {},
          "execution_count": 69
        }
      ]
    },
    {
      "cell_type": "code",
      "metadata": {
        "id": "G6g1pRZnVoYA",
        "colab": {
          "base_uri": "https://localhost:8080/"
        },
        "outputId": "1ef39838-fcd9-4d0d-b44f-3296982f273d"
      },
      "source": [
        "B3 = A @ B + A @ C\n",
        "B3"
      ],
      "execution_count": 70,
      "outputs": [
        {
          "output_type": "execute_result",
          "data": {
            "text/plain": [
              "array([[144, 101, 213],\n",
              "       [ 63,  43,  81],\n",
              "       [215,  98, 230]])"
            ]
          },
          "metadata": {},
          "execution_count": 70
        }
      ]
    },
    {
      "cell_type": "code",
      "metadata": {
        "id": "6wHuVIzVXXtZ",
        "colab": {
          "base_uri": "https://localhost:8080/"
        },
        "outputId": "81c2a542-2e28-48ac-e6e6-79881530f759"
      },
      "source": [
        "np.array_equal(A3,B3)\n"
      ],
      "execution_count": 71,
      "outputs": [
        {
          "output_type": "execute_result",
          "data": {
            "text/plain": [
              "True"
            ]
          },
          "metadata": {},
          "execution_count": 71
        }
      ]
    },
    {
      "cell_type": "code",
      "metadata": {
        "colab": {
          "base_uri": "https://localhost:8080/"
        },
        "id": "8Psrntvj1ER4",
        "outputId": "518e9fc3-a859-421d-f3eb-0406ca6db7e2"
      },
      "source": [
        "#4\n",
        "A4 = (B + C) @ A\n",
        "A4"
      ],
      "execution_count": 72,
      "outputs": [
        {
          "output_type": "execute_result",
          "data": {
            "text/plain": [
              "array([[141, 215, 137],\n",
              "       [170, 171,  68],\n",
              "       [139, 179, 105]])"
            ]
          },
          "metadata": {},
          "execution_count": 72
        }
      ]
    },
    {
      "cell_type": "code",
      "metadata": {
        "colab": {
          "base_uri": "https://localhost:8080/"
        },
        "id": "HvpXEkq61ZYA",
        "outputId": "f8a72d78-078b-4215-cc94-a2d69c50bb7f"
      },
      "source": [
        "B4 = B @ A + C @ A\n",
        "B4"
      ],
      "execution_count": 73,
      "outputs": [
        {
          "output_type": "execute_result",
          "data": {
            "text/plain": [
              "array([[141, 215, 137],\n",
              "       [170, 171,  68],\n",
              "       [139, 179, 105]])"
            ]
          },
          "metadata": {},
          "execution_count": 73
        }
      ]
    },
    {
      "cell_type": "code",
      "metadata": {
        "colab": {
          "base_uri": "https://localhost:8080/"
        },
        "id": "R0bnRB2a1brd",
        "outputId": "bb103ea2-7bf2-41e9-a9b8-364b39e92def"
      },
      "source": [
        "np.array_equal(A4,B4)"
      ],
      "execution_count": 74,
      "outputs": [
        {
          "output_type": "execute_result",
          "data": {
            "text/plain": [
              "True"
            ]
          },
          "metadata": {},
          "execution_count": 74
        }
      ]
    },
    {
      "cell_type": "code",
      "metadata": {
        "colab": {
          "base_uri": "https://localhost:8080/"
        },
        "id": "NhFAa-oy1d19",
        "outputId": "6f502bd2-45a6-4298-e2a2-56c9bb64f33b"
      },
      "source": [
        "#5\n",
        "A5 = A @ B5\n",
        "A5"
      ],
      "execution_count": 80,
      "outputs": [
        {
          "output_type": "execute_result",
          "data": {
            "text/plain": [
              "array([[2., 7., 6.],\n",
              "       [1., 2., 3.],\n",
              "       [9., 7., 1.]])"
            ]
          },
          "metadata": {},
          "execution_count": 80
        }
      ]
    },
    {
      "cell_type": "code",
      "metadata": {
        "colab": {
          "base_uri": "https://localhost:8080/"
        },
        "id": "ZZElqFeS11C_",
        "outputId": "e511ecf3-3b41-420d-bbe0-da39c3d6c797"
      },
      "source": [
        "B5 = np.eye(3)\n",
        "B5"
      ],
      "execution_count": 78,
      "outputs": [
        {
          "output_type": "execute_result",
          "data": {
            "text/plain": [
              "array([[1., 0., 0.],\n",
              "       [0., 1., 0.],\n",
              "       [0., 0., 1.]])"
            ]
          },
          "metadata": {},
          "execution_count": 78
        }
      ]
    },
    {
      "cell_type": "code",
      "metadata": {
        "colab": {
          "base_uri": "https://localhost:8080/"
        },
        "id": "qlBBg48712Hu",
        "outputId": "dec57eb9-5825-41ed-f29a-8f19bdef24ea"
      },
      "source": [
        "np.array_equal(A5,B5)"
      ],
      "execution_count": 81,
      "outputs": [
        {
          "output_type": "execute_result",
          "data": {
            "text/plain": [
              "False"
            ]
          },
          "metadata": {},
          "execution_count": 81
        }
      ]
    },
    {
      "cell_type": "code",
      "metadata": {
        "colab": {
          "base_uri": "https://localhost:8080/"
        },
        "id": "sfaKjgCD17k-",
        "outputId": "9aebc04a-bf4d-4f25-81bb-0940b7a1f7b8"
      },
      "source": [
        "#6\n",
        "A6 = np.zeros(A.shape)\n",
        "A6"
      ],
      "execution_count": 82,
      "outputs": [
        {
          "output_type": "execute_result",
          "data": {
            "text/plain": [
              "array([[0., 0., 0.],\n",
              "       [0., 0., 0.],\n",
              "       [0., 0., 0.]])"
            ]
          },
          "metadata": {},
          "execution_count": 82
        }
      ]
    },
    {
      "cell_type": "code",
      "metadata": {
        "colab": {
          "base_uri": "https://localhost:8080/"
        },
        "id": "BybVLr501-Bp",
        "outputId": "489bfa6e-daf1-44bd-ea72-6d5325025422"
      },
      "source": [
        "B6 = A.dot(np.zeros(A.shape))\n",
        "B6"
      ],
      "execution_count": 83,
      "outputs": [
        {
          "output_type": "execute_result",
          "data": {
            "text/plain": [
              "array([[0., 0., 0.],\n",
              "       [0., 0., 0.],\n",
              "       [0., 0., 0.]])"
            ]
          },
          "metadata": {},
          "execution_count": 83
        }
      ]
    },
    {
      "cell_type": "code",
      "metadata": {
        "colab": {
          "base_uri": "https://localhost:8080/"
        },
        "id": "JPR8cTLo2AQQ",
        "outputId": "85c670cd-dc9c-4c22-90e6-0ea704ee992d"
      },
      "source": [
        "np.array_equal(A6,B6)"
      ],
      "execution_count": 84,
      "outputs": [
        {
          "output_type": "execute_result",
          "data": {
            "text/plain": [
              "True"
            ]
          },
          "metadata": {},
          "execution_count": 84
        }
      ]
    },
    {
      "cell_type": "markdown",
      "metadata": {
        "id": "UduRefpk297i"
      },
      "source": [
        "##**Conclusion**"
      ]
    },
    {
      "cell_type": "markdown",
      "metadata": {
        "id": "45RurbQk3A8i"
      },
      "source": [
        "Python has various matrix operations that allow us to perform matrix operations. The data in a matrix usually contains numbers, strings, and expressions. Matrix is commonly used in mathematical and scientific calculations  that is used in important data structures. In our professor’s lesson, we learnt how to perform transposition, dot products, matmul, determinants, and the inverse of matrices. The numpy operation provides different methods for matrix operations. Data Science requires mathematical knowledge for Python. Matrix Operations play an important role in linear algebra. With the numpy library, we can perform numerical calculations with Python. The use of vectorization allows numpy to perform more efficiently by avoiding many for loops. After the lesson, we became familiar with the fundamental matrix operations, and to apply matrix algebra in engineering solutions. \n"
      ]
    }
  ]
}